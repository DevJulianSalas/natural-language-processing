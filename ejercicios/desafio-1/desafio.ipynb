{
 "cells": [
  {
   "cell_type": "code",
   "execution_count": 1,
   "metadata": {},
   "outputs": [],
   "source": [
    "from sklearn.feature_extraction.text import CountVectorizer, TfidfVectorizer\n",
    "from sklearn.metrics.pairwise import cosine_similarity\n",
    "from sklearn.naive_bayes import MultinomialNB, ComplementNB\n",
    "from sklearn.metrics import f1_score\n",
    "\n",
    "from sklearn.datasets import fetch_20newsgroups\n",
    "import numpy as np"
   ]
  },
  {
   "cell_type": "code",
   "execution_count": 2,
   "metadata": {},
   "outputs": [],
   "source": [
    "# cargamos los datos (ya separados de forma predeterminada en train y test)\n",
    "newsgroups_train = fetch_20newsgroups(subset='train', remove=('headers', 'footers', 'quotes'))\n",
    "newsgroups_test = fetch_20newsgroups(subset='test', remove=('headers', 'footers', 'quotes'))"
   ]
  },
  {
   "cell_type": "code",
   "execution_count": 3,
   "metadata": {},
   "outputs": [],
   "source": [
    "tfidfvect = TfidfVectorizer()\n"
   ]
  },
  {
   "cell_type": "code",
   "execution_count": 4,
   "metadata": {},
   "outputs": [],
   "source": [
    "X_traing = tfidfvect.fit_transform(newsgroups_train.data)"
   ]
  },
  {
   "cell_type": "code",
   "execution_count": 5,
   "metadata": {},
   "outputs": [
    {
     "data": {
      "text/plain": [
       "<Compressed Sparse Row sparse matrix of dtype 'float64'\n",
       "\twith 1103627 stored elements and shape (11314, 101631)>"
      ]
     },
     "execution_count": 5,
     "metadata": {},
     "output_type": "execute_result"
    }
   ],
   "source": [
    "X_traing"
   ]
  },
  {
   "cell_type": "code",
   "execution_count": 6,
   "metadata": {},
   "outputs": [
    {
     "name": "stdout",
     "output_type": "stream",
     "text": [
      "<class 'scipy.sparse._csr.csr_matrix'>\n",
      "shape: (11314, 101631)\n",
      "Cantidad de documentos: 11314\n",
      "Tamaño del vocabulario (dimensionalidad de los vectores): 101631\n"
     ]
    }
   ],
   "source": [
    "# recordar que las vectorizaciones por conteos son esparsas\n",
    "# por ello sklearn convenientemente devuelve los vectores de documentos\n",
    "# como matrices esparsas\n",
    "print(type(X_traing))\n",
    "print(f'shape: {X_traing.shape}')\n",
    "print(f'Cantidad de documentos: {X_traing.shape[0]}')\n",
    "print(f'Tamaño del vocabulario (dimensionalidad de los vectores): {X_traing.shape[1]}')"
   ]
  },
  {
   "cell_type": "code",
   "execution_count": 7,
   "metadata": {},
   "outputs": [
    {
     "name": "stdout",
     "output_type": "stream",
     "text": [
      "shape: (11314, 101631)\n",
      "Cantidad de documentos: 11314\n",
      "Tamaño del vocabulario (dimensionalidad de los vectores): 101631\n"
     ]
    }
   ],
   "source": [
    "print(f'shape: {X_traing.shape}')\n",
    "print(f'Cantidad de documentos: {X_traing.shape[0]}')\n",
    "print(f'Tamaño del vocabulario (dimensionalidad de los vectores): {X_traing.shape[1]}')"
   ]
  },
  {
   "cell_type": "code",
   "execution_count": 8,
   "metadata": {},
   "outputs": [
    {
     "data": {
      "text/plain": [
       "25775"
      ]
     },
     "execution_count": 8,
     "metadata": {},
     "output_type": "execute_result"
    }
   ],
   "source": [
    "tfidfvect.vocabulary_['car']"
   ]
  },
  {
   "cell_type": "code",
   "execution_count": 10,
   "metadata": {},
   "outputs": [
    {
     "data": {
      "text/plain": [
       "array([ 7,  4,  4,  1, 14, 16, 13,  3,  2,  4])"
      ]
     },
     "execution_count": 10,
     "metadata": {},
     "output_type": "execute_result"
    }
   ],
   "source": [
    "y_train = newsgroups_train.target\n",
    "y_train[:10]\n"
   ]
  },
  {
   "cell_type": "code",
   "execution_count": 11,
   "metadata": {},
   "outputs": [
    {
     "name": "stdout",
     "output_type": "stream",
     "text": [
      "clases [ 0  1  2  3  4  5  6  7  8  9 10 11 12 13 14 15 16 17 18 19]\n"
     ]
    },
    {
     "data": {
      "text/plain": [
       "['alt.atheism',\n",
       " 'comp.graphics',\n",
       " 'comp.os.ms-windows.misc',\n",
       " 'comp.sys.ibm.pc.hardware',\n",
       " 'comp.sys.mac.hardware',\n",
       " 'comp.windows.x',\n",
       " 'misc.forsale',\n",
       " 'rec.autos',\n",
       " 'rec.motorcycles',\n",
       " 'rec.sport.baseball',\n",
       " 'rec.sport.hockey',\n",
       " 'sci.crypt',\n",
       " 'sci.electronics',\n",
       " 'sci.med',\n",
       " 'sci.space',\n",
       " 'soc.religion.christian',\n",
       " 'talk.politics.guns',\n",
       " 'talk.politics.mideast',\n",
       " 'talk.politics.misc',\n",
       " 'talk.religion.misc']"
      ]
     },
     "execution_count": 11,
     "metadata": {},
     "output_type": "execute_result"
    }
   ],
   "source": [
    "print(f'clases {np.unique(newsgroups_test.target)}')\n",
    "newsgroups_test.target_names"
   ]
  },
  {
   "cell_type": "code",
   "execution_count": 12,
   "metadata": {},
   "outputs": [
    {
     "name": "stdout",
     "output_type": "stream",
     "text": [
      "THE WHITE HOUSE\n",
      "\n",
      "                  Office of the Press Secretary\n",
      "                   (Pittsburgh, Pennslyvania)\n",
      "______________________________________________________________\n",
      "For Immediate Release                         April 17, 1993     \n",
      "\n",
      "             \n",
      "                  RADIO ADDRESS TO THE NATION \n",
      "                        BY THE PRESIDENT\n",
      "             \n",
      "                Pittsburgh International Airport\n",
      "                    Pittsburgh, Pennsylvania\n",
      "             \n",
      "             \n",
      "10:06 A.M. EDT\n",
      "             \n",
      "             \n",
      "             THE PRESIDENT:  Good morning.  My voice is coming to\n",
      "you this morning through the facilities of the oldest radio\n",
      "station in America, KDKA in Pittsburgh.  I'm visiting the city to\n",
      "meet personally with citizens here to discuss my plans for jobs,\n",
      "health care and the economy.  But I wanted first to do my weekly\n",
      "broadcast with the American people. \n",
      "             \n",
      "             I'm told this station first broadcast in 1920 when\n",
      "it reported that year's presidential elections.  Over the past\n",
      "seven decades presidents have found ways to keep in touch with\n",
      "the people, from whistle-stop tours to fire-side chats to the bus\n",
      "tour that I adopted, along with Vice President Gore, in last\n",
      "year's campaign.\n",
      "             \n",
      "             Every Saturday morning I take this time to talk with\n",
      "you, my fellow Americans, about the problems on your minds and\n",
      "what I'm doing to try and solve them.  It's my way of reporting\n",
      "to you and of giving you a way to hold me accountable.\n",
      "             \n",
      "             You sent me to Washington to get our government and\n",
      "economy moving after years of paralysis and policy and a bad\n",
      "experiment with trickle-down economics.  You know how important\n",
      "it is for us to make bold, comprehensive changes in the way we do\n",
      "business.  \n",
      "             \n",
      "             We live in a competitive global economy.  Nations\n",
      "rise and fall on the skills of their workers, the competitiveness\n",
      "of their companies, the imagination of their industries, and the\n",
      "cooperative experience and spirit that exists between business,\n",
      "labor and government.  Although many of the economies of the\n",
      "industrialized world are now suffering from slow growth, they've\n",
      "made many of the smart investments and the tough choices which\n",
      "our government has for too long ignored.  That's why many of them\n",
      "have been moving ahead and too many of our people have been\n",
      "falling behind.\n",
      "             \n",
      "             We have an economy today that even when it grows is\n",
      "not producing new jobs.  We've increased the debt of our nation\n",
      "by four times over the last 12 years, and we don't have much to\n",
      "show for it.  We know that wages of most working people have\n",
      "stopped rising, that most people are working longer work weeks\n",
      "and that too many families can no longer afford the escalating\n",
      "cost of health care.\n",
      "             \n",
      "             But we also know that, given the right tools, the\n",
      "right incentives and the right encouragement, our workers and\n",
      "businesses can make the kinds of products and profits our economy\n",
      "needs to expand opportunity and to make our communities better\n",
      "places to live.\n",
      "             \n",
      "             In many critical products today Americans are the\n",
      "low cost, high quality producers.  Our task is to make sure that\n",
      "we create more of those kinds of jobs.\n",
      "             \n",
      "             Just two months ago I gave Congress my plan for\n",
      "long-term jobs and economic growth.  It changes the old\n",
      "priorities in Washington and puts our emphasis where it needs to\n",
      "be -- on people's real needs, on increasing investments and jobs\n",
      "and education, on cutting the federal deficit, on stopping the\n",
      "waste which pays no dividends, and redirecting our precious\n",
      "resources toward investment that creates jobs now and lays the\n",
      "groundwork for robust economic growth in the future.\n",
      "             \n",
      "             These new directions passed the Congress in record\n",
      "time and created a new sense of hope and opportunity in our\n",
      "country.  Then the jobs plan I presented to Congress, which would\n",
      "create hundreds of thousands of jobs, most of them in the private\n",
      "sector in 1993 and 1994, passed the House of Representatives.  It\n",
      "now has the support of a majority of the United States Senate. \n",
      "But it's been held up by a filibuster of a minority in the\n",
      "Senate, just 43 senators.  They blocked a vote that they know\n",
      "would result in the passage of our bill and the creation of jobs.\n",
      "             \n",
      "             The issue isn't politics; the issue is people. \n",
      "Millions of Americans are waiting for this legislation and\n",
      "counting on it, counting on us in Washington.  But the jobs bill\n",
      "has been grounded by gridlock.  \n",
      "             \n",
      "             I know the American people are tired of business as\n",
      "usual and politics as usual.  I know they don't want us to spin\n",
      "or wheels.  They want the recovery to get moving.  So I have\n",
      "taken a first step to break this gridlock and gone the extra\n",
      "mile.  Yesterday I offered to cut the size of this plan by 25\n",
      "percent -- from $16 billion to $12 billion.  \n",
      "             \n",
      "             It's not what I'd hoped for.  With 16 million\n",
      "Americans looking for full-time work, I simply can't let the bill\n",
      "languish when I know that even a compromise bill will mean\n",
      "hundreds of thousands of jobs for our people.  The mandate is to\n",
      "act to achieve change and move the country forward.  By taking\n",
      "this initiative in the face of an unrelenting Senate talkathon, I\n",
      "think we can respond to your mandate and achieve a significant\n",
      "portion of our original goals.\n",
      "             \n",
      "             First, we want to keep the programs as much as\n",
      "possible that are needed to generate jobs and meet human needs,\n",
      "including highway and road construction, summer jobs for young\n",
      "people, immunization for children, construction of waste water\n",
      "sites, and aid to small businesses.  We also want to keep funding\n",
      "for extended unemployment compensation benefits, for people who\n",
      "have been unemployed for a long time because the economy isn't\n",
      "creating jobs.\n",
      "             \n",
      "             Second, I've recommended that all the other programs\n",
      "in the bill be cut across-the-board by a little more than 40\n",
      "percent.\n",
      "             \n",
      "             And third, I've recommended a new element in this\n",
      "program to help us immediately start our attempt to fight against\n",
      "crime by providing $200 million for cities and towns to rehire\n",
      "police officers who lost their jobs during the recession and put\n",
      "them back to work protecting our people.  I'm also going to fight\n",
      "for a tough crime bill because the people of this country need it\n",
      "and deserve it.\n",
      "             \n",
      "             Now, the people who are filibustering this bill --\n",
      "the Republican senators -- say they won't vote for it because it\n",
      "increases deficit spending, because there's extra spending this\n",
      "year that hasn't already been approved.  That sounds reasonable,\n",
      "doesn't it?  Here's what they don't say.  This program is more\n",
      "than paid for by budget cuts over my five-year budget, and this\n",
      "budget is well within the spending limits already approved by the\n",
      "Congress this year.\n",
      "             \n",
      "             It's amazing to me that many of these same senators\n",
      "who are filibustering the bill voted during the previous\n",
      "administration for billions of dollars of the same kind of\n",
      "emergency spending, and much of it was not designed to put the\n",
      "American people to work.  \n",
      "             \n",
      "             This is not about deficit spending.  We have offered\n",
      "a plan to cut the deficit.  This is about where your priorities\n",
      "are -- on people or on politics.  \n",
      "             \n",
      "             Keep in mind that our jobs bill is paid for dollar\n",
      "for dollar.  It is paid for by budget cuts.  And it's the\n",
      "soundest investment we can now make for ourselves and our\n",
      "children.  I urge all Americans to take another look at this jobs\n",
      "and investment program; to consider again the benefits for all of\n",
      "us when we've helped make more American partners working to\n",
      "ensure the future of our nation and the strength of our economy.\n",
      "             \n",
      "             You know, if every American who wanted a job had\n",
      "one, we wouldn't have a lot of the other problems we have in this\n",
      "country today.  This bill is not a miracle, it's a modest first\n",
      "step to try to set off a job creation explosion in this country\n",
      "again.  But it's a step we ought to take.  And it is fully paid\n",
      "for over the life of our budget.\n",
      "             \n",
      "             Tell your lawmakers what you think.  Tell them how\n",
      "important the bill is.  If it passes, we'll all be winners.\n",
      "             \n",
      "             Good morning, and thank you for listening.\n"
     ]
    }
   ],
   "source": [
    "# Veamos similaridad de documentos. Tomemos algún documento\n",
    "idx = 4811\n",
    "print(newsgroups_train.data[idx])"
   ]
  },
  {
   "cell_type": "code",
   "execution_count": 13,
   "metadata": {},
   "outputs": [
    {
     "name": "stdout",
     "output_type": "stream",
     "text": [
      "<Compressed Sparse Row sparse matrix of dtype 'float64'\n",
      "\twith 503 stored elements and shape (1, 101631)>\n",
      "  Coords\tValues\n",
      "  (0, 95844)\t0.007271364929980733\n",
      "  (0, 48754)\t0.01250208948987886\n",
      "  (0, 88638)\t0.007239755762436952\n",
      "  (0, 60560)\t0.02378091542959228\n",
      "  (0, 68080)\t0.05783509729841275\n",
      "  (0, 88767)\t0.11436591958947155\n",
      "  (0, 88532)\t0.30162648422875893\n",
      "  (0, 68781)\t0.01732920370281441\n",
      "  (0, 51326)\t0.11872942476534601\n",
      "  (0, 89360)\t0.20499358150556596\n",
      "  (0, 21987)\t0.01776383956898638\n",
      "  (0, 41715)\t0.021264144671994705\n",
      "  (0, 83426)\t0.01373621323440865\n",
      "  (0, 49447)\t0.10927241214997854\n",
      "  (0, 67670)\t0.21607851978307605\n",
      "  (0, 51136)\t0.07180143113783617\n",
      "  (0, 17936)\t0.02937453038855753\n",
      "  (0, 54632)\t0.06746842433018506\n",
      "  (0, 25590)\t0.03407363230755137\n",
      "  (0, 99911)\t0.022818471295422568\n",
      "  (0, 96433)\t0.020706676273530854\n",
      "  (0, 59079)\t0.01172650351079585\n",
      "  (0, 68409)\t0.012771381673781912\n",
      "  (0, 100208)\t0.05224419705476431\n",
      "  (0, 45885)\t0.06314558310564244\n",
      "  :\t:\n",
      "  (0, 90207)\t0.02720117228631943\n",
      "  (0, 77091)\t0.02901593765391766\n",
      "  (0, 37879)\t0.02638619041723291\n",
      "  (0, 16484)\t0.025453272738318846\n",
      "  (0, 91986)\t0.02676814635666122\n",
      "  (0, 28784)\t0.023205481441062405\n",
      "  (0, 40334)\t0.02901593765391766\n",
      "  (0, 49221)\t0.02638619041723291\n",
      "  (0, 72804)\t0.02472964556828869\n",
      "  (0, 14733)\t0.02720117228631943\n",
      "  (0, 53774)\t0.02720117228631943\n",
      "  (0, 40335)\t0.059897710665663455\n",
      "  (0, 28785)\t0.02604451918663106\n",
      "  (0, 70602)\t0.0312637289511741\n",
      "  (0, 26830)\t0.0312637289511741\n",
      "  (0, 69870)\t0.0312637289511741\n",
      "  (0, 49775)\t0.029948855332831727\n",
      "  (0, 37169)\t0.02901593765391766\n",
      "  (0, 34386)\t0.0312637289511741\n",
      "  (0, 76809)\t0.02901593765391766\n",
      "  (0, 55875)\t0.0312637289511741\n",
      "  (0, 44548)\t0.029948855332831727\n",
      "  (0, 92388)\t0.029948855332831727\n",
      "  (0, 87640)\t0.0312637289511741\n",
      "  (0, 84016)\t0.0312637289511741\n"
     ]
    },
    {
     "data": {
      "text/plain": [
       "array([1.        , 0.70930477, 0.67474953, ..., 0.        , 0.        ,\n",
       "       0.        ], shape=(11314,))"
      ]
     },
     "execution_count": 13,
     "metadata": {},
     "output_type": "execute_result"
    }
   ],
   "source": [
    "print(X_traing[idx])\n",
    "\n",
    "cossim = cosine_similarity(X_traing[idx], X_traing)[0]\n",
    "np.sort(cossim)[::-1]\n"
   ]
  },
  {
   "cell_type": "code",
   "execution_count": 14,
   "metadata": {},
   "outputs": [
    {
     "data": {
      "text/plain": [
       "array([ 4811,  6635,  4253, ...,  1534, 10055,  4750], shape=(11314,))"
      ]
     },
     "execution_count": 14,
     "metadata": {},
     "output_type": "execute_result"
    }
   ],
   "source": [
    "np.argsort(cossim)[::-1]\n"
   ]
  },
  {
   "cell_type": "code",
   "execution_count": 15,
   "metadata": {},
   "outputs": [
    {
     "data": {
      "text/plain": [
       "array([6635, 4253, 3596, 4271, 3746])"
      ]
     },
     "execution_count": 15,
     "metadata": {},
     "output_type": "execute_result"
    }
   ],
   "source": [
    "mostsim = np.argsort(cossim)[::-1][1:6]\n",
    "mostsim\n"
   ]
  },
  {
   "cell_type": "code",
   "execution_count": 16,
   "metadata": {},
   "outputs": [
    {
     "data": {
      "text/plain": [
       "'talk.politics.misc'"
      ]
     },
     "execution_count": 16,
     "metadata": {},
     "output_type": "execute_result"
    }
   ],
   "source": [
    "newsgroups_train.target_names[y_train[idx]]\n"
   ]
  },
  {
   "cell_type": "code",
   "execution_count": 17,
   "metadata": {},
   "outputs": [
    {
     "name": "stdout",
     "output_type": "stream",
     "text": [
      "talk.politics.misc\n",
      "talk.politics.misc\n",
      "talk.politics.misc\n",
      "talk.politics.misc\n",
      "talk.politics.misc\n"
     ]
    }
   ],
   "source": [
    "# y los 5 más similares son de las clases:\n",
    "for i in mostsim:\n",
    "  print(newsgroups_train.target_names[y_train[i]])"
   ]
  },
  {
   "cell_type": "code",
   "execution_count": 18,
   "metadata": {},
   "outputs": [
    {
     "data": {
      "text/html": [
       "<style>#sk-container-id-1 {\n",
       "  /* Definition of color scheme common for light and dark mode */\n",
       "  --sklearn-color-text: #000;\n",
       "  --sklearn-color-text-muted: #666;\n",
       "  --sklearn-color-line: gray;\n",
       "  /* Definition of color scheme for unfitted estimators */\n",
       "  --sklearn-color-unfitted-level-0: #fff5e6;\n",
       "  --sklearn-color-unfitted-level-1: #f6e4d2;\n",
       "  --sklearn-color-unfitted-level-2: #ffe0b3;\n",
       "  --sklearn-color-unfitted-level-3: chocolate;\n",
       "  /* Definition of color scheme for fitted estimators */\n",
       "  --sklearn-color-fitted-level-0: #f0f8ff;\n",
       "  --sklearn-color-fitted-level-1: #d4ebff;\n",
       "  --sklearn-color-fitted-level-2: #b3dbfd;\n",
       "  --sklearn-color-fitted-level-3: cornflowerblue;\n",
       "\n",
       "  /* Specific color for light theme */\n",
       "  --sklearn-color-text-on-default-background: var(--sg-text-color, var(--theme-code-foreground, var(--jp-content-font-color1, black)));\n",
       "  --sklearn-color-background: var(--sg-background-color, var(--theme-background, var(--jp-layout-color0, white)));\n",
       "  --sklearn-color-border-box: var(--sg-text-color, var(--theme-code-foreground, var(--jp-content-font-color1, black)));\n",
       "  --sklearn-color-icon: #696969;\n",
       "\n",
       "  @media (prefers-color-scheme: dark) {\n",
       "    /* Redefinition of color scheme for dark theme */\n",
       "    --sklearn-color-text-on-default-background: var(--sg-text-color, var(--theme-code-foreground, var(--jp-content-font-color1, white)));\n",
       "    --sklearn-color-background: var(--sg-background-color, var(--theme-background, var(--jp-layout-color0, #111)));\n",
       "    --sklearn-color-border-box: var(--sg-text-color, var(--theme-code-foreground, var(--jp-content-font-color1, white)));\n",
       "    --sklearn-color-icon: #878787;\n",
       "  }\n",
       "}\n",
       "\n",
       "#sk-container-id-1 {\n",
       "  color: var(--sklearn-color-text);\n",
       "}\n",
       "\n",
       "#sk-container-id-1 pre {\n",
       "  padding: 0;\n",
       "}\n",
       "\n",
       "#sk-container-id-1 input.sk-hidden--visually {\n",
       "  border: 0;\n",
       "  clip: rect(1px 1px 1px 1px);\n",
       "  clip: rect(1px, 1px, 1px, 1px);\n",
       "  height: 1px;\n",
       "  margin: -1px;\n",
       "  overflow: hidden;\n",
       "  padding: 0;\n",
       "  position: absolute;\n",
       "  width: 1px;\n",
       "}\n",
       "\n",
       "#sk-container-id-1 div.sk-dashed-wrapped {\n",
       "  border: 1px dashed var(--sklearn-color-line);\n",
       "  margin: 0 0.4em 0.5em 0.4em;\n",
       "  box-sizing: border-box;\n",
       "  padding-bottom: 0.4em;\n",
       "  background-color: var(--sklearn-color-background);\n",
       "}\n",
       "\n",
       "#sk-container-id-1 div.sk-container {\n",
       "  /* jupyter's `normalize.less` sets `[hidden] { display: none; }`\n",
       "     but bootstrap.min.css set `[hidden] { display: none !important; }`\n",
       "     so we also need the `!important` here to be able to override the\n",
       "     default hidden behavior on the sphinx rendered scikit-learn.org.\n",
       "     See: https://github.com/scikit-learn/scikit-learn/issues/21755 */\n",
       "  display: inline-block !important;\n",
       "  position: relative;\n",
       "}\n",
       "\n",
       "#sk-container-id-1 div.sk-text-repr-fallback {\n",
       "  display: none;\n",
       "}\n",
       "\n",
       "div.sk-parallel-item,\n",
       "div.sk-serial,\n",
       "div.sk-item {\n",
       "  /* draw centered vertical line to link estimators */\n",
       "  background-image: linear-gradient(var(--sklearn-color-text-on-default-background), var(--sklearn-color-text-on-default-background));\n",
       "  background-size: 2px 100%;\n",
       "  background-repeat: no-repeat;\n",
       "  background-position: center center;\n",
       "}\n",
       "\n",
       "/* Parallel-specific style estimator block */\n",
       "\n",
       "#sk-container-id-1 div.sk-parallel-item::after {\n",
       "  content: \"\";\n",
       "  width: 100%;\n",
       "  border-bottom: 2px solid var(--sklearn-color-text-on-default-background);\n",
       "  flex-grow: 1;\n",
       "}\n",
       "\n",
       "#sk-container-id-1 div.sk-parallel {\n",
       "  display: flex;\n",
       "  align-items: stretch;\n",
       "  justify-content: center;\n",
       "  background-color: var(--sklearn-color-background);\n",
       "  position: relative;\n",
       "}\n",
       "\n",
       "#sk-container-id-1 div.sk-parallel-item {\n",
       "  display: flex;\n",
       "  flex-direction: column;\n",
       "}\n",
       "\n",
       "#sk-container-id-1 div.sk-parallel-item:first-child::after {\n",
       "  align-self: flex-end;\n",
       "  width: 50%;\n",
       "}\n",
       "\n",
       "#sk-container-id-1 div.sk-parallel-item:last-child::after {\n",
       "  align-self: flex-start;\n",
       "  width: 50%;\n",
       "}\n",
       "\n",
       "#sk-container-id-1 div.sk-parallel-item:only-child::after {\n",
       "  width: 0;\n",
       "}\n",
       "\n",
       "/* Serial-specific style estimator block */\n",
       "\n",
       "#sk-container-id-1 div.sk-serial {\n",
       "  display: flex;\n",
       "  flex-direction: column;\n",
       "  align-items: center;\n",
       "  background-color: var(--sklearn-color-background);\n",
       "  padding-right: 1em;\n",
       "  padding-left: 1em;\n",
       "}\n",
       "\n",
       "\n",
       "/* Toggleable style: style used for estimator/Pipeline/ColumnTransformer box that is\n",
       "clickable and can be expanded/collapsed.\n",
       "- Pipeline and ColumnTransformer use this feature and define the default style\n",
       "- Estimators will overwrite some part of the style using the `sk-estimator` class\n",
       "*/\n",
       "\n",
       "/* Pipeline and ColumnTransformer style (default) */\n",
       "\n",
       "#sk-container-id-1 div.sk-toggleable {\n",
       "  /* Default theme specific background. It is overwritten whether we have a\n",
       "  specific estimator or a Pipeline/ColumnTransformer */\n",
       "  background-color: var(--sklearn-color-background);\n",
       "}\n",
       "\n",
       "/* Toggleable label */\n",
       "#sk-container-id-1 label.sk-toggleable__label {\n",
       "  cursor: pointer;\n",
       "  display: flex;\n",
       "  width: 100%;\n",
       "  margin-bottom: 0;\n",
       "  padding: 0.5em;\n",
       "  box-sizing: border-box;\n",
       "  text-align: center;\n",
       "  align-items: start;\n",
       "  justify-content: space-between;\n",
       "  gap: 0.5em;\n",
       "}\n",
       "\n",
       "#sk-container-id-1 label.sk-toggleable__label .caption {\n",
       "  font-size: 0.6rem;\n",
       "  font-weight: lighter;\n",
       "  color: var(--sklearn-color-text-muted);\n",
       "}\n",
       "\n",
       "#sk-container-id-1 label.sk-toggleable__label-arrow:before {\n",
       "  /* Arrow on the left of the label */\n",
       "  content: \"▸\";\n",
       "  float: left;\n",
       "  margin-right: 0.25em;\n",
       "  color: var(--sklearn-color-icon);\n",
       "}\n",
       "\n",
       "#sk-container-id-1 label.sk-toggleable__label-arrow:hover:before {\n",
       "  color: var(--sklearn-color-text);\n",
       "}\n",
       "\n",
       "/* Toggleable content - dropdown */\n",
       "\n",
       "#sk-container-id-1 div.sk-toggleable__content {\n",
       "  max-height: 0;\n",
       "  max-width: 0;\n",
       "  overflow: hidden;\n",
       "  text-align: left;\n",
       "  /* unfitted */\n",
       "  background-color: var(--sklearn-color-unfitted-level-0);\n",
       "}\n",
       "\n",
       "#sk-container-id-1 div.sk-toggleable__content.fitted {\n",
       "  /* fitted */\n",
       "  background-color: var(--sklearn-color-fitted-level-0);\n",
       "}\n",
       "\n",
       "#sk-container-id-1 div.sk-toggleable__content pre {\n",
       "  margin: 0.2em;\n",
       "  border-radius: 0.25em;\n",
       "  color: var(--sklearn-color-text);\n",
       "  /* unfitted */\n",
       "  background-color: var(--sklearn-color-unfitted-level-0);\n",
       "}\n",
       "\n",
       "#sk-container-id-1 div.sk-toggleable__content.fitted pre {\n",
       "  /* unfitted */\n",
       "  background-color: var(--sklearn-color-fitted-level-0);\n",
       "}\n",
       "\n",
       "#sk-container-id-1 input.sk-toggleable__control:checked~div.sk-toggleable__content {\n",
       "  /* Expand drop-down */\n",
       "  max-height: 200px;\n",
       "  max-width: 100%;\n",
       "  overflow: auto;\n",
       "}\n",
       "\n",
       "#sk-container-id-1 input.sk-toggleable__control:checked~label.sk-toggleable__label-arrow:before {\n",
       "  content: \"▾\";\n",
       "}\n",
       "\n",
       "/* Pipeline/ColumnTransformer-specific style */\n",
       "\n",
       "#sk-container-id-1 div.sk-label input.sk-toggleable__control:checked~label.sk-toggleable__label {\n",
       "  color: var(--sklearn-color-text);\n",
       "  background-color: var(--sklearn-color-unfitted-level-2);\n",
       "}\n",
       "\n",
       "#sk-container-id-1 div.sk-label.fitted input.sk-toggleable__control:checked~label.sk-toggleable__label {\n",
       "  background-color: var(--sklearn-color-fitted-level-2);\n",
       "}\n",
       "\n",
       "/* Estimator-specific style */\n",
       "\n",
       "/* Colorize estimator box */\n",
       "#sk-container-id-1 div.sk-estimator input.sk-toggleable__control:checked~label.sk-toggleable__label {\n",
       "  /* unfitted */\n",
       "  background-color: var(--sklearn-color-unfitted-level-2);\n",
       "}\n",
       "\n",
       "#sk-container-id-1 div.sk-estimator.fitted input.sk-toggleable__control:checked~label.sk-toggleable__label {\n",
       "  /* fitted */\n",
       "  background-color: var(--sklearn-color-fitted-level-2);\n",
       "}\n",
       "\n",
       "#sk-container-id-1 div.sk-label label.sk-toggleable__label,\n",
       "#sk-container-id-1 div.sk-label label {\n",
       "  /* The background is the default theme color */\n",
       "  color: var(--sklearn-color-text-on-default-background);\n",
       "}\n",
       "\n",
       "/* On hover, darken the color of the background */\n",
       "#sk-container-id-1 div.sk-label:hover label.sk-toggleable__label {\n",
       "  color: var(--sklearn-color-text);\n",
       "  background-color: var(--sklearn-color-unfitted-level-2);\n",
       "}\n",
       "\n",
       "/* Label box, darken color on hover, fitted */\n",
       "#sk-container-id-1 div.sk-label.fitted:hover label.sk-toggleable__label.fitted {\n",
       "  color: var(--sklearn-color-text);\n",
       "  background-color: var(--sklearn-color-fitted-level-2);\n",
       "}\n",
       "\n",
       "/* Estimator label */\n",
       "\n",
       "#sk-container-id-1 div.sk-label label {\n",
       "  font-family: monospace;\n",
       "  font-weight: bold;\n",
       "  display: inline-block;\n",
       "  line-height: 1.2em;\n",
       "}\n",
       "\n",
       "#sk-container-id-1 div.sk-label-container {\n",
       "  text-align: center;\n",
       "}\n",
       "\n",
       "/* Estimator-specific */\n",
       "#sk-container-id-1 div.sk-estimator {\n",
       "  font-family: monospace;\n",
       "  border: 1px dotted var(--sklearn-color-border-box);\n",
       "  border-radius: 0.25em;\n",
       "  box-sizing: border-box;\n",
       "  margin-bottom: 0.5em;\n",
       "  /* unfitted */\n",
       "  background-color: var(--sklearn-color-unfitted-level-0);\n",
       "}\n",
       "\n",
       "#sk-container-id-1 div.sk-estimator.fitted {\n",
       "  /* fitted */\n",
       "  background-color: var(--sklearn-color-fitted-level-0);\n",
       "}\n",
       "\n",
       "/* on hover */\n",
       "#sk-container-id-1 div.sk-estimator:hover {\n",
       "  /* unfitted */\n",
       "  background-color: var(--sklearn-color-unfitted-level-2);\n",
       "}\n",
       "\n",
       "#sk-container-id-1 div.sk-estimator.fitted:hover {\n",
       "  /* fitted */\n",
       "  background-color: var(--sklearn-color-fitted-level-2);\n",
       "}\n",
       "\n",
       "/* Specification for estimator info (e.g. \"i\" and \"?\") */\n",
       "\n",
       "/* Common style for \"i\" and \"?\" */\n",
       "\n",
       ".sk-estimator-doc-link,\n",
       "a:link.sk-estimator-doc-link,\n",
       "a:visited.sk-estimator-doc-link {\n",
       "  float: right;\n",
       "  font-size: smaller;\n",
       "  line-height: 1em;\n",
       "  font-family: monospace;\n",
       "  background-color: var(--sklearn-color-background);\n",
       "  border-radius: 1em;\n",
       "  height: 1em;\n",
       "  width: 1em;\n",
       "  text-decoration: none !important;\n",
       "  margin-left: 0.5em;\n",
       "  text-align: center;\n",
       "  /* unfitted */\n",
       "  border: var(--sklearn-color-unfitted-level-1) 1pt solid;\n",
       "  color: var(--sklearn-color-unfitted-level-1);\n",
       "}\n",
       "\n",
       ".sk-estimator-doc-link.fitted,\n",
       "a:link.sk-estimator-doc-link.fitted,\n",
       "a:visited.sk-estimator-doc-link.fitted {\n",
       "  /* fitted */\n",
       "  border: var(--sklearn-color-fitted-level-1) 1pt solid;\n",
       "  color: var(--sklearn-color-fitted-level-1);\n",
       "}\n",
       "\n",
       "/* On hover */\n",
       "div.sk-estimator:hover .sk-estimator-doc-link:hover,\n",
       ".sk-estimator-doc-link:hover,\n",
       "div.sk-label-container:hover .sk-estimator-doc-link:hover,\n",
       ".sk-estimator-doc-link:hover {\n",
       "  /* unfitted */\n",
       "  background-color: var(--sklearn-color-unfitted-level-3);\n",
       "  color: var(--sklearn-color-background);\n",
       "  text-decoration: none;\n",
       "}\n",
       "\n",
       "div.sk-estimator.fitted:hover .sk-estimator-doc-link.fitted:hover,\n",
       ".sk-estimator-doc-link.fitted:hover,\n",
       "div.sk-label-container:hover .sk-estimator-doc-link.fitted:hover,\n",
       ".sk-estimator-doc-link.fitted:hover {\n",
       "  /* fitted */\n",
       "  background-color: var(--sklearn-color-fitted-level-3);\n",
       "  color: var(--sklearn-color-background);\n",
       "  text-decoration: none;\n",
       "}\n",
       "\n",
       "/* Span, style for the box shown on hovering the info icon */\n",
       ".sk-estimator-doc-link span {\n",
       "  display: none;\n",
       "  z-index: 9999;\n",
       "  position: relative;\n",
       "  font-weight: normal;\n",
       "  right: .2ex;\n",
       "  padding: .5ex;\n",
       "  margin: .5ex;\n",
       "  width: min-content;\n",
       "  min-width: 20ex;\n",
       "  max-width: 50ex;\n",
       "  color: var(--sklearn-color-text);\n",
       "  box-shadow: 2pt 2pt 4pt #999;\n",
       "  /* unfitted */\n",
       "  background: var(--sklearn-color-unfitted-level-0);\n",
       "  border: .5pt solid var(--sklearn-color-unfitted-level-3);\n",
       "}\n",
       "\n",
       ".sk-estimator-doc-link.fitted span {\n",
       "  /* fitted */\n",
       "  background: var(--sklearn-color-fitted-level-0);\n",
       "  border: var(--sklearn-color-fitted-level-3);\n",
       "}\n",
       "\n",
       ".sk-estimator-doc-link:hover span {\n",
       "  display: block;\n",
       "}\n",
       "\n",
       "/* \"?\"-specific style due to the `<a>` HTML tag */\n",
       "\n",
       "#sk-container-id-1 a.estimator_doc_link {\n",
       "  float: right;\n",
       "  font-size: 1rem;\n",
       "  line-height: 1em;\n",
       "  font-family: monospace;\n",
       "  background-color: var(--sklearn-color-background);\n",
       "  border-radius: 1rem;\n",
       "  height: 1rem;\n",
       "  width: 1rem;\n",
       "  text-decoration: none;\n",
       "  /* unfitted */\n",
       "  color: var(--sklearn-color-unfitted-level-1);\n",
       "  border: var(--sklearn-color-unfitted-level-1) 1pt solid;\n",
       "}\n",
       "\n",
       "#sk-container-id-1 a.estimator_doc_link.fitted {\n",
       "  /* fitted */\n",
       "  border: var(--sklearn-color-fitted-level-1) 1pt solid;\n",
       "  color: var(--sklearn-color-fitted-level-1);\n",
       "}\n",
       "\n",
       "/* On hover */\n",
       "#sk-container-id-1 a.estimator_doc_link:hover {\n",
       "  /* unfitted */\n",
       "  background-color: var(--sklearn-color-unfitted-level-3);\n",
       "  color: var(--sklearn-color-background);\n",
       "  text-decoration: none;\n",
       "}\n",
       "\n",
       "#sk-container-id-1 a.estimator_doc_link.fitted:hover {\n",
       "  /* fitted */\n",
       "  background-color: var(--sklearn-color-fitted-level-3);\n",
       "}\n",
       "</style><div id=\"sk-container-id-1\" class=\"sk-top-container\"><div class=\"sk-text-repr-fallback\"><pre>MultinomialNB()</pre><b>In a Jupyter environment, please rerun this cell to show the HTML representation or trust the notebook. <br />On GitHub, the HTML representation is unable to render, please try loading this page with nbviewer.org.</b></div><div class=\"sk-container\" hidden><div class=\"sk-item\"><div class=\"sk-estimator fitted sk-toggleable\"><input class=\"sk-toggleable__control sk-hidden--visually\" id=\"sk-estimator-id-1\" type=\"checkbox\" checked><label for=\"sk-estimator-id-1\" class=\"sk-toggleable__label fitted sk-toggleable__label-arrow\"><div><div>MultinomialNB</div></div><div><a class=\"sk-estimator-doc-link fitted\" rel=\"noreferrer\" target=\"_blank\" href=\"https://scikit-learn.org/1.6/modules/generated/sklearn.naive_bayes.MultinomialNB.html\">?<span>Documentation for MultinomialNB</span></a><span class=\"sk-estimator-doc-link fitted\">i<span>Fitted</span></span></div></label><div class=\"sk-toggleable__content fitted\"><pre>MultinomialNB()</pre></div> </div></div></div></div>"
      ],
      "text/plain": [
       "MultinomialNB()"
      ]
     },
     "execution_count": 18,
     "metadata": {},
     "output_type": "execute_result"
    }
   ],
   "source": [
    "# es muy fácil instanciar un modelo de clasificación Naïve Bayes y entrenarlo con sklearn\n",
    "clf = MultinomialNB()\n",
    "clf.fit(X_traing, y_train)"
   ]
  },
  {
   "cell_type": "code",
   "execution_count": 19,
   "metadata": {},
   "outputs": [],
   "source": [
    "X_test = tfidfvect.transform(newsgroups_test.data)\n",
    "y_test = newsgroups_test.target\n",
    "y_pred =  clf.predict(X_test)"
   ]
  },
  {
   "cell_type": "code",
   "execution_count": 20,
   "metadata": {},
   "outputs": [
    {
     "data": {
      "text/plain": [
       "0.5854345727938506"
      ]
     },
     "execution_count": 20,
     "metadata": {},
     "output_type": "execute_result"
    }
   ],
   "source": [
    "f1_score(y_test, y_pred, average='macro')\n"
   ]
  },
  {
   "cell_type": "markdown",
   "metadata": {},
   "source": [
    "## Desafio 1\n",
    "\n",
    "### Vectorizar documentos"
   ]
  },
  {
   "cell_type": "markdown",
   "metadata": {},
   "source": []
  },
  {
   "cell_type": "code",
   "execution_count": 21,
   "metadata": {},
   "outputs": [],
   "source": [
    "random_documents =  np.random.choice(X_traing.shape[0], size=5, replace=False)\n",
    "\n",
    "def compute_cosine_similarity(index, X):\n",
    "    cossim = cosine_similarity(X[index], X)[0]\n",
    "    print(f\"******* documento index {index} *****\")\n",
    "    print(\"Los Documentos mas similares\")\n",
    "    mostsim = np.argsort(cossim)[::-1][1:6]\n",
    "    print(mostsim)\n",
    "    class_belong = newsgroups_train.target_names[y_train[index]]\n",
    "    print(f\"Clase a la que pertenece el documento {class_belong}\")\n",
    "    print(\"Los documentos similares a que clase pertencen:\")\n",
    "    similarity_class = [newsgroups_train.target_names[y_train[mostidx]] for mostidx in mostsim]\n",
    "    print(\"\\\\\\n\".join(similarity_class))\n",
    "    print(f\"*************************************\")"
   ]
  },
  {
   "cell_type": "code",
   "execution_count": 22,
   "metadata": {},
   "outputs": [
    {
     "name": "stdout",
     "output_type": "stream",
     "text": [
      "******* documento index 4478 *****\n",
      "Los Documentos mas similares\n",
      "[6693 5339   62 5273  726]\n",
      "Clase a la que pertenece el documento comp.sys.mac.hardware\n",
      "Los documentos similares a que clase pertencen:\n",
      "comp.sys.mac.hardware\\\n",
      "comp.sys.mac.hardware\\\n",
      "comp.sys.mac.hardware\\\n",
      "comp.sys.mac.hardware\\\n",
      "comp.sys.mac.hardware\n",
      "*************************************\n",
      "******* documento index 730 *****\n",
      "Los Documentos mas similares\n",
      "[6418 8446 9629 5148 6207]\n",
      "Clase a la que pertenece el documento rec.autos\n",
      "Los documentos similares a que clase pertencen:\n",
      "rec.autos\\\n",
      "rec.autos\\\n",
      "sci.electronics\\\n",
      "rec.autos\\\n",
      "rec.motorcycles\n",
      "*************************************\n",
      "******* documento index 1399 *****\n",
      "Los Documentos mas similares\n",
      "[ 9323  7545 10575 10165 10344]\n",
      "Clase a la que pertenece el documento sci.space\n",
      "Los documentos similares a que clase pertencen:\n",
      "sci.space\\\n",
      "sci.space\\\n",
      "sci.crypt\\\n",
      "sci.space\\\n",
      "sci.space\n",
      "*************************************\n",
      "******* documento index 5775 *****\n",
      "Los Documentos mas similares\n",
      "[8884 4989 8955 9659 9120]\n",
      "Clase a la que pertenece el documento talk.politics.mideast\n",
      "Los documentos similares a que clase pertencen:\n",
      "talk.politics.mideast\\\n",
      "comp.os.ms-windows.misc\\\n",
      "alt.atheism\\\n",
      "talk.politics.misc\\\n",
      "talk.politics.misc\n",
      "*************************************\n",
      "******* documento index 6726 *****\n",
      "Los Documentos mas similares\n",
      "[3712 3776 3775 3774 3773]\n",
      "Clase a la que pertenece el documento sci.med\n",
      "Los documentos similares a que clase pertencen:\n",
      "rec.motorcycles\\\n",
      "talk.politics.mideast\\\n",
      "sci.electronics\\\n",
      "soc.religion.christian\\\n",
      "talk.religion.misc\n",
      "*************************************\n"
     ]
    }
   ],
   "source": [
    "for randon_document in random_documents:\n",
    "    compute_cosine_similarity(randon_document, X_traing)"
   ]
  },
  {
   "cell_type": "markdown",
   "metadata": {},
   "source": [
    "Observaciones:\n",
    "- Se puede observar para el index del primero documento 10004 el contenido es de caracter religioso y encuentra similitud con categorías religiosas como cristianismo y ateísmo.\n",
    "- Para el segundo index 2341 la relación de similitud en el contexto y la categoría abarca categorías que inicialmente no podrían estar relacionadas pero el contexto podría añadir esa similitud, ya que la categoría computadoras gráficas inicialmente no podría estar relacionada con deportes hockey.\n",
    "- Para el tercer index 6112 se encuentra bastante similitud en los documentos con categoría de religion y politica a exepción de la subcategoría de windos y computadores que parece ser de alguna forma el contexto se relaciona.\n",
    "- Para el cuarto index 10524 se abarca gran similitud con todo lo relacionado a computo ya que la clase del documento es electronica y las clases similares tienen relación a computación y electronica.\n",
    "- Para el último index 4827 se podría decir que hay una fuerta similitud entre contexto y categoría ya que todas pertencen a la misma categoría y haciendo un print del documento y sus similares parece ser que hacen parte de una conversación por correo con sus respectivas replicas."
   ]
  },
  {
   "cell_type": "code",
   "execution_count": 23,
   "metadata": {},
   "outputs": [
    {
     "name": "stdout",
     "output_type": "stream",
     "text": [
      "[reply to geb@cs.pitt.edu (Gordon Banks)]\n",
      " \n",
      " \n",
      " \n",
      "I think a case could be made that this is discriminatory, particularly\n",
      "if an applicant had good board scores and recommendations but wasn't\n",
      "offered an interview, but I don't know if it has ever gone to court.\n"
     ]
    }
   ],
   "source": [
    "print(newsgroups_train.data[4827])"
   ]
  },
  {
   "cell_type": "code",
   "execution_count": 24,
   "metadata": {},
   "outputs": [
    {
     "name": "stdout",
     "output_type": "stream",
     "text": [
      "[reply to geb@cs.pitt.edu (Gordon Banks)]\n",
      " \n",
      " \n",
      " \n",
      "I made a decision a while back that I will not be bullied into getting\n",
      "studies like a CT or MRI when I don't think they are indicated.  If the\n",
      "patient won't accept my explanation of why I think the study would be a\n",
      "waste of time and money, I suggest a second opinion.\n"
     ]
    }
   ],
   "source": [
    "print(newsgroups_train.data[6512])"
   ]
  },
  {
   "cell_type": "code",
   "execution_count": 25,
   "metadata": {},
   "outputs": [
    {
     "name": "stdout",
     "output_type": "stream",
     "text": [
      "\n",
      "\n",
      "So just what was it you wanted to say?\n",
      "\n",
      "\n",
      "\n",
      "-- \n",
      "----------------------------------------------------------------------------\n",
      "Gordon Banks  N3JXP      | \"Skepticism is the chastity of the intellect, and\n",
      "geb@cadre.dsl.pitt.edu   |  it is shameful to surrender it too soon.\" \n"
     ]
    }
   ],
   "source": [
    "\n",
    "print(newsgroups_train.data[8550])"
   ]
  },
  {
   "cell_type": "code",
   "execution_count": 26,
   "metadata": {},
   "outputs": [
    {
     "name": "stdout",
     "output_type": "stream",
     "text": [
      "\n",
      "\n",
      "By law, they would not be allowed to do that anyhow.\n",
      "\n",
      "\n",
      "\n",
      "\n",
      "-- \n",
      "----------------------------------------------------------------------------\n",
      "Gordon Banks  N3JXP      | \"Skepticism is the chastity of the intellect, and\n",
      "geb@cadre.dsl.pitt.edu   |  it is shameful to surrender it too soon.\" \n"
     ]
    }
   ],
   "source": [
    "#[6512 8550 8660 1338 3652]\n",
    "\n",
    "print(newsgroups_train.data[8660])"
   ]
  },
  {
   "cell_type": "code",
   "execution_count": 27,
   "metadata": {},
   "outputs": [
    {
     "name": "stdout",
     "output_type": "stream",
     "text": [
      "\n",
      "Yes, I remember that now.  Well, in that case, the cones are indeed\n",
      "color sensitive, contrary to what the original respondent had claimed.\n",
      "-- \n",
      "----------------------------------------------------------------------------\n",
      "Gordon Banks  N3JXP      | \"Skepticism is the chastity of the intellect, and\n",
      "geb@cadre.dsl.pitt.edu   |  it is shameful to surrender it too soon.\" \n"
     ]
    }
   ],
   "source": [
    "print(newsgroups_train.data[1338])"
   ]
  },
  {
   "cell_type": "code",
   "execution_count": 28,
   "metadata": {},
   "outputs": [
    {
     "name": "stdout",
     "output_type": "stream",
     "text": [
      "\n",
      "\n",
      "\"Diet Evangelist\".  Good term.  Fits Atkins to a \"T\".  \n",
      "\n",
      "\n",
      "-- \n",
      "----------------------------------------------------------------------------\n",
      "Gordon Banks  N3JXP      | \"Skepticism is the chastity of the intellect, and\n",
      "geb@cadre.dsl.pitt.edu   |  it is shameful to surrender it too soon.\" \n"
     ]
    }
   ],
   "source": [
    "print(newsgroups_train.data[3652])"
   ]
  },
  {
   "cell_type": "markdown",
   "metadata": {},
   "source": [
    "### Entrenar modelos de clasificación "
   ]
  },
  {
   "cell_type": "markdown",
   "metadata": {},
   "source": []
  },
  {
   "cell_type": "code",
   "execution_count": 29,
   "metadata": {},
   "outputs": [],
   "source": [
    "tfidfvect = TfidfVectorizer(\n",
    "    min_df=5, #ignore terms that have a document frecuenqy lower than  5\n",
    "    max_df=0.5, #50% igonre terms that have a document frecuency higher than 0.5 %percentage \n",
    "    sublinear_tf = True #reduce the impact of high term frecuency use 1 + log(tf)\n",
    ")\n",
    "\n"
   ]
  },
  {
   "cell_type": "code",
   "execution_count": 30,
   "metadata": {},
   "outputs": [],
   "source": [
    "\n",
    "target_names = newsgroups_train.target_names\n",
    "y_train, y_test = newsgroups_train.target, newsgroups_test.target\n",
    "\n",
    "X_train = tfidfvect.fit_transform(newsgroups_train.data)\n"
   ]
  },
  {
   "cell_type": "code",
   "execution_count": 31,
   "metadata": {},
   "outputs": [],
   "source": [
    "X_test = tfidfvect.transform(newsgroups_test.data)\n",
    "clf = MultinomialNB()"
   ]
  },
  {
   "cell_type": "code",
   "execution_count": 32,
   "metadata": {},
   "outputs": [],
   "source": [
    "clf.fit(X_train, y_train)\n",
    "pred = clf.predict(X_test)"
   ]
  },
  {
   "cell_type": "code",
   "execution_count": 33,
   "metadata": {},
   "outputs": [
    {
     "data": {
      "image/png": "[encoded data removed]",
      "text/plain": [
       "<Figure size 2000x1000 with 2 Axes>"
      ]
     },
     "metadata": {},
     "output_type": "display_data"
    }
   ],
   "source": [
    "import matplotlib.pyplot as plt\n",
    "\n",
    "from sklearn.metrics import ConfusionMatrixDisplay\n",
    "\n",
    "\n",
    "num_classes = len(target_names)\n",
    "fig, ax = plt.subplots(figsize=(min(20, num_classes), min(15, num_classes // 2)))\n",
    "\n",
    "disp = ConfusionMatrixDisplay.from_predictions(\n",
    "    y_test, \n",
    "    pred, \n",
    "    ax=ax, \n",
    "    display_labels=target_names,\n",
    "    xticks_rotation=90\n",
    ")\n",
    "\n",
    "ax.set_title(f\"Confusion Matrix for {clf.__class__.__name__}\\non the original documents\")\n",
    "\n",
    "plt.show()"
   ]
  },
  {
   "cell_type": "code",
   "execution_count": 34,
   "metadata": {},
   "outputs": [],
   "source": [
    "def plot_fi_scores(y_test, pred, average, model):\n",
    "    fi_score = f1_score(y_test, pred, average=average)\n",
    "    print(f\"The f1_score for {model} is {fi_score}\")"
   ]
  },
  {
   "cell_type": "code",
   "execution_count": 35,
   "metadata": {},
   "outputs": [],
   "source": [
    "complement_model = ComplementNB()\n",
    "\n",
    "complement_model.fit(X_train, y_train)\n",
    "pred_complement = complement_model.predict(X_test)"
   ]
  },
  {
   "cell_type": "code",
   "execution_count": 36,
   "metadata": {},
   "outputs": [
    {
     "name": "stdout",
     "output_type": "stream",
     "text": [
      "The f1_score for MultinomialNB is 0.619124580500289\n",
      "The f1_score for ComplementNB is 0.6842208671869908\n"
     ]
    }
   ],
   "source": [
    "plot_fi_scores(y_test, pred, \"macro\", \"MultinomialNB\")\n",
    "plot_fi_scores(y_test, pred_complement, \"macro\", \"ComplementNB\")"
   ]
  },
  {
   "cell_type": "markdown",
   "metadata": {},
   "source": [
    "Se puede observar que luego de ajustar los parámetros de la vectorizador de texto **TfidfVectorizer** mejor el f1_score ya que los parámetros min_df y max_df ignorar términos con cierta frecuencia que aparecen en los documentos en los basado en un threshold mejorando la predicción del modelo. También se puede observar que ComplementNB tiene mejor performance ya que este algoritmo performa mejor para clases no balanceadas, menor sensibilidad y categorías raras."
   ]
  },
  {
   "cell_type": "markdown",
   "metadata": {},
   "source": [
    "### Transponer la matriz documento-término "
   ]
  },
  {
   "cell_type": "code",
   "execution_count": 37,
   "metadata": {},
   "outputs": [
    {
     "name": "stdout",
     "output_type": "stream",
     "text": [
      "<class 'scipy.sparse._csr.csr_matrix'>\n",
      "shape: (11314, 18092)\n",
      "Cantidad de documentos: 11314\n",
      "Tamaño del vocabulario (dimensionalidad de los vectores): 18092\n"
     ]
    }
   ],
   "source": [
    "print(type(X_train))\n",
    "print(f'shape: {X_train.shape}')\n",
    "print(f'Cantidad de documentos: {X_train.shape[0]}')\n",
    "print(f'Tamaño del vocabulario (dimensionalidad de los vectores): {X_train.shape[1]}')"
   ]
  },
  {
   "cell_type": "code",
   "execution_count": 38,
   "metadata": {},
   "outputs": [
    {
     "name": "stdout",
     "output_type": "stream",
     "text": [
      "<class 'scipy.sparse._csc.csc_matrix'>\n",
      "shape: (18092, 11314)\n",
      "Tamaño del vocabulario: 18092\n",
      "Cantidad de documentos: 11314\n"
     ]
    }
   ],
   "source": [
    "transpose_X_train = X_train.T\n",
    "\n",
    "print(type(transpose_X_train))\n",
    "print(f'shape: {transpose_X_train.shape}')\n",
    "print(f'Tamaño del vocabulario: {transpose_X_train.shape[0]}')\n",
    "print(f'Cantidad de documentos: {transpose_X_train.shape[1]}')"
   ]
  },
  {
   "cell_type": "code",
   "execution_count": 39,
   "metadata": {},
   "outputs": [],
   "source": [
    "words = tfidfvect.get_feature_names_out() #get the words\n",
    "selected_words = [\"computer\", \"technology\", \"science\", \"data\", \"network\"]\n",
    "indices = [np.where(words == word)[0][0] for word in selected_words]"
   ]
  },
  {
   "cell_type": "code",
   "execution_count": 47,
   "metadata": {},
   "outputs": [
    {
     "name": "stdout",
     "output_type": "stream",
     "text": [
      "******* palabra computer *****\n",
      "Las 5 palabras mas similares son:\n",
      "['shopper', 'my', 'on', 'with', 'science']\n",
      "******* palabra technology *****\n",
      "Las 5 palabras mas similares son:\n",
      "['nis', 'institute', 'hdtv', 'superhighways', 'technological']\n",
      "******* palabra science *****\n",
      "Las 5 palabras mas similares son:\n",
      "['scientific', 'cognitivists', 'behaviorists', 'scientists', 'fiction']\n",
      "******* palabra data *****\n",
      "Las 5 palabras mas similares son:\n",
      "['transfer', 'on', 'be', 'from', 'mead']\n",
      "******* palabra network *****\n",
      "Las 5 palabras mas similares son:\n",
      "['novell', 'workgroups', 'utilizing', 'visualization', 'neuron']\n"
     ]
    }
   ],
   "source": [
    "for index in indices:\n",
    "    cossim = cosine_similarity(transpose_X_train[index], transpose_X_train)[0]\n",
    "    mostsim = np.argsort(cossim)[::-1][1:6]\n",
    "    print(f\"******* palabra {words[index]} *****\")\n",
    "    print(\"Las 5 palabras mas similares son:\")\n",
    "    similarity_word = [words[mostidx] for mostidx in mostsim]\n",
    "    print(similarity_word)\n",
    "\n",
    "    \n",
    "\n",
    "    "
   ]
  },
  {
   "cell_type": "markdown",
   "metadata": {},
   "source": [
    "Se eligió 5 palabras manualmente seleccionadas computer, technology, science, data, network y se lográ observar la similaridad tiene sentido en la mayoría de las palabras match."
   ]
  },
  {
   "cell_type": "markdown",
   "metadata": {},
   "source": []
  }
 ],
 "metadata": {
  "kernelspec": {
   "display_name": "Python 3 (ipykernel)",
   "language": "python",
   "name": "python3"
  },
  "language_info": {
   "codemirror_mode": {
    "name": "ipython",
    "version": 3
   },
   "file_extension": ".py",
   "mimetype": "text/x-python",
   "name": "python",
   "nbconvert_exporter": "python",
   "pygments_lexer": "ipython3",
   "version": "3.12.7"
  }
 },
 "nbformat": 4,
 "nbformat_minor": 2
}
