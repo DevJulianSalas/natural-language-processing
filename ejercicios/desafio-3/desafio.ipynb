{
  "cells": [
    {
      "cell_type": "markdown",
      "metadata": {
        "id": "g3yeJGnCYxuF"
      },
      "source": [
        "<img src=\"https://github.com/hernancontigiani/ceia_memorias_especializacion/raw/master/Figures/logoFIUBA.jpg\" width=\"500\" align=\"center\">\n",
        "\n",
        "\n",
        "# Procesamiento de lenguaje natural\n",
        "## Modelo de lenguaje con tokenización por caracteres"
      ]
    },
    {
      "cell_type": "markdown",
      "metadata": {
        "id": "Iv5PEwGzZA9-"
      },
      "source": [
        "### Consigna\n",
        "- Seleccionar un corpus de texto sobre el cual entrenar el modelo de lenguaje.\n",
        "- Realizar el pre-procesamiento adecuado para tokenizar el corpus, estructurar el dataset y separar entre datos de entrenamiento y validación.\n",
        "- Proponer arquitecturas de redes neuronales basadas en unidades recurrentes para implementar un modelo de lenguaje.\n",
        "- Con el o los modelos que consideren adecuados, generar nuevas secuencias a partir de secuencias de contexto con las estrategias de greedy search y beam search determístico y estocástico. En este último caso observar el efecto de la temperatura en la generación de secuencias.\n",
        "\n",
        "\n",
        "### Sugerencias\n",
        "- Durante el entrenamiento, guiarse por el descenso de la perplejidad en los datos de validación para finalizar el entrenamiento. Para ello se provee un callback.\n",
        "- Explorar utilizar SimpleRNN (celda de Elman), LSTM y GRU.\n",
        "- rmsprop es el optimizador recomendado para la buena convergencia. No obstante se pueden explorar otros.\n"
      ]
    },
    {
      "cell_type": "code",
      "execution_count": 1,
      "metadata": {
        "id": "Y-QdFbHZYj7C"
      },
      "outputs": [],
      "source": [
        "import random\n",
        "import io\n",
        "import pickle\n",
        "\n",
        "import numpy as np\n",
        "import pandas as pd\n",
        "import matplotlib.pyplot as plt\n",
        "from sklearn.model_selection import train_test_split\n",
        "\n",
        "from tensorflow import keras\n",
        "from tensorflow.keras import layers\n",
        "from keras.utils import to_categorical\n",
        "from keras.models import Sequential\n",
        "from keras.layers import Dense, LSTM, Embedding, Dropout\n",
        "from tensorflow.keras.losses import SparseCategoricalCrossentropy"
      ]
    },
    {
      "cell_type": "markdown",
      "metadata": {
        "id": "xTvXlEKQZdqx"
      },
      "source": [
        "### Datos\n",
        "Utilizaremos como dataset canciones de bandas de habla inglés."
      ]
    },
    {
      "cell_type": "code",
      "execution_count": 2,
      "metadata": {
        "id": "7amy6uUaBLVD"
      },
      "outputs": [],
      "source": [
        "# descargar de textos.info\n",
        "import urllib.request\n",
        "\n",
        "# Para leer y parsear el texto en HTML de wikipedia\n",
        "import bs4 as bs"
      ]
    },
    {
      "cell_type": "code",
      "execution_count": 3,
      "metadata": {
        "id": "6v_ickFwBJTy"
      },
      "outputs": [],
      "source": [
        "raw_html = urllib.request.urlopen('https://www.textos.info/jose-eustasio-rivera/la-voragine/ebook')\n",
        "raw_html = raw_html.read()\n",
        "\n",
        "# Parsear artículo, 'lxml' es el parser a utilizar\n",
        "article_html = bs.BeautifulSoup(raw_html, 'lxml')\n",
        "\n",
        "# Encontrar todos los párrafos del HTML (bajo el tag <p>)\n",
        "# y tenerlos disponible como lista\n",
        "article_paragraphs = article_html.find_all('p')\n",
        "\n",
        "article_text = ''\n",
        "\n",
        "for para in article_paragraphs:\n",
        "    article_text += para.text + ' '\n",
        "\n",
        "# pasar todo el texto a minúscula\n",
        "article_text = article_text.lower()"
      ]
    },
    {
      "cell_type": "code",
      "execution_count": 4,
      "metadata": {
        "id": "WBE0sSYuB-E6",
        "colab": {
          "base_uri": "https://localhost:8080/",
          "height": 268
        },
        "outputId": "54498a1b-3840-4e1a-f768-800ac137bb14"
      },
      "outputs": [
        {
          "output_type": "execute_result",
          "data": {
            "text/plain": [
              "' señor ministro: de acuerdo con los deseos de s. s. he arreglado para la publicidad los\\r\\nmanuscritos de arturo cova, remitidos a ese ministerio por el cónsul de\\r\\ncolombia en manaos. en esas páginas respeté el estilo y hasta las incorrecciones del\\r\\ninfortunado escritor, subrayando únicamente los provincialismos de más\\r\\ncarácter. creo, salvo mejor opinión de s. s., que este libro no se debe publicar\\r\\nantes de tener más noticias de los caucheros colombianos del río negro o\\r\\nguainía; pero si s. s. resolviere lo contrario, le ruego que se sirva\\r\\ncomunicarme oportunamente los datos que adquiera para adicionarlos a guisa\\r\\nde epílogo. soy de s. s. muy atento servidor, josé eustasio rivera. «...los que un tiempo creyeron que mi inteligencia irradiaría\\nextraordinariamente, cual una aureola de mi juventud; los que se\\nolvidaron de mí apenas mi planta descendió al infortunio; los que al\\nrecordarme alguna vez piensen en mi fracaso y se pregunten por qué no fui\\nlo que pude haber sido, sepan que el de'"
            ],
            "application/vnd.google.colaboratory.intrinsic+json": {
              "type": "string"
            }
          },
          "metadata": {},
          "execution_count": 4
        }
      ],
      "source": [
        "# en article text se encuentra el texto de todo el libro\n",
        "article_text[:1000]"
      ]
    },
    {
      "cell_type": "markdown",
      "metadata": {
        "id": "cP1JdiOIKQWi"
      },
      "source": [
        "### Elegir el tamaño del contexto\n",
        "\n",
        "En este caso, como el modelo de lenguaje es por caracteres, todo un gran corpus\n",
        "de texto puede ser considerado un documento en sí mismo y el tamaño de contexto\n",
        "puede ser elegido con más libertad en comparación a un modelo de lenguaje tokenizado por palabras y dividido en documentos más acotados."
      ]
    },
    {
      "cell_type": "code",
      "execution_count": 5,
      "metadata": {
        "id": "wumBNwdjJM3j"
      },
      "outputs": [],
      "source": [
        "# seleccionamos el tamaño de contexto\n",
        "max_context_size = 100"
      ]
    },
    {
      "cell_type": "code",
      "execution_count": 6,
      "metadata": {
        "id": "m5FeTaGvbDbw"
      },
      "outputs": [],
      "source": [
        "# Usaremos las utilidades de procesamiento de textos y secuencias de Keras\n",
        "from tensorflow.keras.utils import pad_sequences # se utilizará para padding"
      ]
    },
    {
      "cell_type": "code",
      "execution_count": 7,
      "metadata": {
        "id": "573Cg5n7VhWw"
      },
      "outputs": [],
      "source": [
        "# en este caso el vocabulario es el conjunto único de caracteres que existe en todo el texto\n",
        "chars_vocab = set(article_text)"
      ]
    },
    {
      "cell_type": "code",
      "execution_count": 8,
      "metadata": {
        "id": "VwTK6xgLJd8q",
        "colab": {
          "base_uri": "https://localhost:8080/"
        },
        "outputId": "ab9baa67-ca2b-4281-9a02-fe3da2eeb059"
      },
      "outputs": [
        {
          "output_type": "execute_result",
          "data": {
            "text/plain": [
              "68"
            ]
          },
          "metadata": {},
          "execution_count": 8
        }
      ],
      "source": [
        "# la longitud de vocabulario de caracteres es:\n",
        "len(chars_vocab)"
      ]
    },
    {
      "cell_type": "code",
      "execution_count": 9,
      "metadata": {
        "id": "2W0AeQjXV1Ou"
      },
      "outputs": [],
      "source": [
        "# Construimos los dicionarios que asignan índices a caracteres y viceversa.\n",
        "# El diccionario `char2idx` servirá como tokenizador.\n",
        "char2idx = {k: v for v,k in enumerate(chars_vocab)}\n",
        "idx2char = {v: k for k,v in char2idx.items()}"
      ]
    },
    {
      "cell_type": "markdown",
      "metadata": {
        "id": "2oIUjVU0LB0r"
      },
      "source": [
        "###  Tokenizar"
      ]
    },
    {
      "cell_type": "code",
      "execution_count": 10,
      "metadata": {
        "id": "h07G3srdJppo"
      },
      "outputs": [],
      "source": [
        "# tokenizamos el texto completo\n",
        "tokenized_text = [char2idx[ch] for ch in article_text]"
      ]
    },
    {
      "cell_type": "code",
      "execution_count": 11,
      "metadata": {
        "id": "PwGVSKOiJ5bj",
        "colab": {
          "base_uri": "https://localhost:8080/"
        },
        "outputId": "8b4e661e-81ad-468b-e4be-f6d265fe47e1"
      },
      "outputs": [
        {
          "output_type": "execute_result",
          "data": {
            "text/plain": [
              "[15,\n",
              " 60,\n",
              " 1,\n",
              " 29,\n",
              " 5,\n",
              " 58,\n",
              " 15,\n",
              " 38,\n",
              " 45,\n",
              " 23,\n",
              " 45,\n",
              " 60,\n",
              " 20,\n",
              " 58,\n",
              " 5,\n",
              " 47,\n",
              " 15,\n",
              " 14,\n",
              " 1,\n",
              " 15,\n",
              " 67,\n",
              " 9,\n",
              " 24,\n",
              " 1,\n",
              " 58,\n",
              " 14,\n",
              " 5,\n",
              " 15,\n",
              " 9,\n",
              " 5,\n",
              " 23,\n",
              " 15,\n",
              " 0,\n",
              " 5,\n",
              " 60,\n",
              " 15,\n",
              " 14,\n",
              " 1,\n",
              " 60,\n",
              " 1,\n",
              " 5,\n",
              " 60,\n",
              " 15,\n",
              " 14,\n",
              " 1,\n",
              " 15,\n",
              " 60,\n",
              " 39,\n",
              " 15,\n",
              " 60,\n",
              " 39,\n",
              " 15,\n",
              " 32,\n",
              " 1,\n",
              " 15,\n",
              " 67,\n",
              " 58,\n",
              " 58,\n",
              " 1,\n",
              " 25,\n",
              " 0,\n",
              " 67,\n",
              " 14,\n",
              " 5,\n",
              " 15,\n",
              " 64,\n",
              " 67,\n",
              " 58,\n",
              " 67,\n",
              " 15,\n",
              " 0,\n",
              " 67,\n",
              " 15,\n",
              " 64,\n",
              " 24,\n",
              " 3,\n",
              " 0,\n",
              " 45,\n",
              " 9,\n",
              " 45,\n",
              " 14,\n",
              " 67,\n",
              " 14,\n",
              " 15,\n",
              " 0,\n",
              " 5,\n",
              " 60,\n",
              " 2,\n",
              " 55,\n",
              " 38,\n",
              " 67,\n",
              " 23,\n",
              " 24,\n",
              " 60,\n",
              " 9,\n",
              " 58,\n",
              " 45,\n",
              " 20,\n",
              " 5,\n",
              " 60,\n",
              " 15,\n",
              " 14,\n",
              " 1,\n",
              " 15,\n",
              " 67,\n",
              " 58,\n",
              " 20,\n",
              " 24,\n",
              " 58,\n",
              " 5,\n",
              " 15,\n",
              " 9,\n",
              " 5,\n",
              " 19,\n",
              " 67,\n",
              " 10,\n",
              " 15,\n",
              " 58,\n",
              " 1,\n",
              " 38,\n",
              " 45,\n",
              " 20,\n",
              " 45,\n",
              " 14,\n",
              " 5,\n",
              " 60,\n",
              " 15,\n",
              " 67,\n",
              " 15,\n",
              " 1,\n",
              " 60,\n",
              " 1,\n",
              " 15,\n",
              " 38,\n",
              " 45,\n",
              " 23,\n",
              " 45,\n",
              " 60,\n",
              " 20,\n",
              " 1,\n",
              " 58,\n",
              " 45,\n",
              " 5,\n",
              " 15,\n",
              " 64,\n",
              " 5,\n",
              " 58,\n",
              " 15,\n",
              " 1,\n",
              " 0,\n",
              " 15,\n",
              " 9,\n",
              " 42,\n",
              " 23,\n",
              " 60,\n",
              " 24,\n",
              " 0,\n",
              " 15,\n",
              " 14,\n",
              " 1,\n",
              " 2,\n",
              " 55,\n",
              " 9,\n",
              " 5,\n",
              " 0,\n",
              " 5,\n",
              " 38,\n",
              " 3,\n",
              " 45,\n",
              " 67,\n",
              " 15,\n",
              " 1,\n",
              " 23,\n",
              " 15,\n",
              " 38,\n",
              " 67,\n",
              " 23,\n",
              " 67,\n",
              " 5,\n",
              " 60,\n",
              " 39,\n",
              " 15,\n",
              " 1,\n",
              " 23,\n",
              " 15,\n",
              " 1,\n",
              " 60,\n",
              " 67,\n",
              " 60,\n",
              " 15,\n",
              " 64,\n",
              " 11,\n",
              " 25,\n",
              " 45,\n",
              " 23,\n",
              " 67,\n",
              " 60,\n",
              " 15,\n",
              " 58,\n",
              " 1,\n",
              " 60,\n",
              " 64,\n",
              " 1,\n",
              " 20,\n",
              " 4,\n",
              " 15,\n",
              " 1,\n",
              " 0,\n",
              " 15,\n",
              " 1,\n",
              " 60,\n",
              " 20,\n",
              " 45,\n",
              " 0,\n",
              " 5,\n",
              " 15,\n",
              " 61,\n",
              " 15,\n",
              " 32,\n",
              " 67,\n",
              " 60,\n",
              " 20,\n",
              " 67,\n",
              " 15,\n",
              " 0,\n",
              " 67,\n",
              " 60,\n",
              " 15,\n",
              " 45,\n",
              " 23,\n",
              " 9,\n",
              " 5,\n",
              " 58,\n",
              " 58,\n",
              " 1,\n",
              " 9,\n",
              " 9,\n",
              " 45,\n",
              " 5,\n",
              " 23,\n",
              " 1,\n",
              " 60,\n",
              " 15,\n",
              " 14,\n",
              " 1,\n",
              " 0,\n",
              " 2,\n",
              " 55,\n",
              " 45,\n",
              " 23,\n",
              " 6,\n",
              " 5,\n",
              " 58,\n",
              " 20,\n",
              " 24,\n",
              " 23,\n",
              " 67,\n",
              " 14,\n",
              " 5,\n",
              " 15,\n",
              " 1,\n",
              " 60,\n",
              " 9,\n",
              " 58,\n",
              " 45,\n",
              " 20,\n",
              " 5,\n",
              " 58,\n",
              " 10,\n",
              " 15,\n",
              " 60,\n",
              " 24,\n",
              " 3,\n",
              " 58,\n",
              " 67,\n",
              " 61,\n",
              " 67,\n",
              " 23,\n",
              " 14,\n",
              " 5,\n",
              " 15,\n",
              " 7,\n",
              " 23,\n",
              " 45,\n",
              " 9,\n",
              " 67,\n",
              " 38,\n",
              " 1,\n",
              " 23,\n",
              " 20,\n",
              " 1,\n",
              " 15,\n",
              " 0,\n",
              " 5,\n",
              " 60,\n",
              " 15,\n",
              " 64,\n",
              " 58,\n",
              " 5,\n",
              " 19,\n",
              " 45,\n",
              " 23,\n",
              " 9,\n",
              " 45,\n",
              " 67,\n",
              " 0,\n",
              " 45,\n",
              " 60,\n",
              " 38,\n",
              " 5,\n",
              " 60,\n",
              " 15,\n",
              " 14,\n",
              " 1,\n",
              " 15,\n",
              " 38,\n",
              " 11,\n",
              " 60,\n",
              " 2,\n",
              " 55,\n",
              " 9,\n",
              " 67,\n",
              " 58,\n",
              " 11,\n",
              " 9,\n",
              " 20,\n",
              " 1,\n",
              " 58,\n",
              " 39,\n",
              " 15,\n",
              " 9,\n",
              " 58,\n",
              " 1,\n",
              " 5,\n",
              " 10,\n",
              " 15,\n",
              " 60,\n",
              " 67,\n",
              " 0,\n",
              " 19,\n",
              " 5,\n",
              " 15,\n",
              " 38,\n",
              " 1,\n",
              " 34,\n",
              " 5,\n",
              " 58,\n",
              " 15,\n",
              " 5,\n",
              " 64,\n",
              " 45,\n",
              " 23,\n",
              " 45,\n",
              " 42,\n",
              " 23,\n",
              " 15,\n",
              " 14,\n",
              " 1,\n",
              " 15,\n",
              " 60,\n",
              " 39,\n",
              " 15,\n",
              " 60,\n",
              " 39,\n",
              " 10,\n",
              " 15,\n",
              " 66,\n",
              " 24,\n",
              " 1,\n",
              " 15,\n",
              " 1,\n",
              " 60,\n",
              " 20,\n",
              " 1,\n",
              " 15,\n",
              " 0,\n",
              " 45,\n",
              " 3,\n",
              " 58,\n",
              " 5,\n",
              " 15,\n",
              " 23,\n",
              " 5,\n",
              " 15,\n",
              " 60,\n",
              " 1,\n",
              " 15,\n",
              " 14,\n",
              " 1,\n",
              " 3,\n",
              " 1,\n",
              " 15,\n",
              " 64,\n",
              " 24,\n",
              " 3,\n",
              " 0,\n",
              " 45,\n",
              " 9,\n",
              " 67,\n",
              " 58,\n",
              " 2,\n",
              " 55,\n",
              " 67,\n",
              " 23,\n",
              " 20,\n",
              " 1,\n",
              " 60,\n",
              " 15,\n",
              " 14,\n",
              " 1,\n",
              " 15,\n",
              " 20,\n",
              " 1,\n",
              " 23,\n",
              " 1,\n",
              " 58,\n",
              " 15,\n",
              " 38,\n",
              " 11,\n",
              " 60,\n",
              " 15,\n",
              " 23,\n",
              " 5,\n",
              " 20,\n",
              " 45,\n",
              " 9,\n",
              " 45,\n",
              " 67,\n",
              " 60,\n",
              " 15,\n",
              " 14,\n",
              " 1,\n",
              " 15,\n",
              " 0,\n",
              " 5,\n",
              " 60,\n",
              " 15,\n",
              " 9,\n",
              " 67,\n",
              " 24,\n",
              " 9,\n",
              " 32,\n",
              " 1,\n",
              " 58,\n",
              " 5,\n",
              " 60,\n",
              " 15,\n",
              " 9,\n",
              " 5,\n",
              " 0,\n",
              " 5,\n",
              " 38,\n",
              " 3,\n",
              " 45,\n",
              " 67,\n",
              " 23,\n",
              " 5,\n",
              " 60,\n",
              " 15,\n",
              " 14,\n",
              " 1,\n",
              " 0,\n",
              " 15,\n",
              " 58,\n",
              " 21,\n",
              " 5,\n",
              " 15,\n",
              " 23,\n",
              " 1,\n",
              " 25,\n",
              " 58,\n",
              " 5,\n",
              " 15,\n",
              " 5,\n",
              " 2,\n",
              " 55,\n",
              " 25,\n",
              " 24,\n",
              " 67,\n",
              " 45,\n",
              " 23,\n",
              " 21,\n",
              " 67,\n",
              " 33,\n",
              " 15,\n",
              " 64,\n",
              " 1,\n",
              " 58,\n",
              " 5,\n",
              " 15,\n",
              " 60,\n",
              " 45,\n",
              " 15,\n",
              " 60,\n",
              " 39,\n",
              " 15,\n",
              " 60,\n",
              " 39,\n",
              " 15,\n",
              " 58,\n",
              " 1,\n",
              " 60,\n",
              " 5,\n",
              " 0,\n",
              " 19,\n",
              " 45,\n",
              " 1,\n",
              " 58,\n",
              " 1,\n",
              " 15,\n",
              " 0,\n",
              " 5,\n",
              " 15,\n",
              " 9,\n",
              " 5,\n",
              " 23,\n",
              " 20,\n",
              " 58,\n",
              " 67,\n",
              " 58,\n",
              " 45,\n",
              " 5,\n",
              " 10,\n",
              " 15,\n",
              " 0,\n",
              " 1,\n",
              " 15,\n",
              " 58,\n",
              " 24,\n",
              " 1,\n",
              " 25,\n",
              " 5,\n",
              " 15,\n",
              " 66,\n",
              " 24,\n",
              " 1,\n",
              " 15,\n",
              " 60,\n",
              " 1,\n",
              " 15,\n",
              " 60,\n",
              " 45,\n",
              " 58,\n",
              " 19,\n",
              " 67,\n",
              " 2,\n",
              " 55,\n",
              " 9,\n",
              " 5,\n",
              " 38,\n",
              " 24,\n",
              " 23,\n",
              " 45,\n",
              " 9,\n",
              " 67,\n",
              " 58,\n",
              " 38,\n",
              " 1,\n",
              " 15,\n",
              " 5,\n",
              " 64,\n",
              " 5,\n",
              " 58,\n",
              " 20,\n",
              " 24,\n",
              " 23,\n",
              " 67,\n",
              " 38,\n",
              " 1,\n",
              " 23,\n",
              " 20,\n",
              " 1,\n",
              " 15,\n",
              " 0,\n",
              " 5,\n",
              " 60,\n",
              " 15,\n",
              " 14,\n",
              " 67,\n",
              " 20,\n",
              " 5,\n",
              " 60,\n",
              " 15,\n",
              " 66,\n",
              " 24,\n",
              " 1,\n",
              " 15,\n",
              " 67,\n",
              " 14,\n",
              " 66,\n",
              " 24,\n",
              " 45,\n",
              " 1,\n",
              " 58,\n",
              " 67,\n",
              " 15,\n",
              " 64,\n",
              " 67,\n",
              " 58,\n",
              " 67,\n",
              " 15,\n",
              " 67,\n",
              " 14,\n",
              " 45,\n",
              " 9,\n",
              " 45,\n",
              " 5,\n",
              " 23,\n",
              " 67,\n",
              " 58,\n",
              " 0,\n",
              " 5,\n",
              " 60,\n",
              " 15,\n",
              " 67,\n",
              " 15,\n",
              " 25,\n",
              " 24,\n",
              " 45,\n",
              " 60,\n",
              " 67,\n",
              " 2,\n",
              " 55,\n",
              " 14,\n",
              " 1,\n",
              " 15,\n",
              " 1,\n",
              " 64,\n",
              " 21,\n",
              " 0,\n",
              " 5,\n",
              " 25,\n",
              " 5,\n",
              " 39,\n",
              " 15,\n",
              " 60,\n",
              " 5,\n",
              " 61,\n",
              " 15,\n",
              " 14,\n",
              " 1,\n",
              " 15,\n",
              " 60,\n",
              " 39,\n",
              " 15,\n",
              " 60,\n",
              " 39,\n",
              " 15,\n",
              " 38,\n",
              " 24,\n",
              " 61,\n",
              " 15,\n",
              " 67,\n",
              " 20,\n",
              " 1,\n",
              " 23,\n",
              " 20,\n",
              " 5,\n",
              " 15,\n",
              " 60,\n",
              " 1,\n",
              " 58,\n",
              " 19,\n",
              " 45,\n",
              " 14,\n",
              " 5,\n",
              " 58,\n",
              " 10,\n",
              " 15,\n",
              " 34,\n",
              " 5,\n",
              " 60,\n",
              " 4,\n",
              " 15,\n",
              " 1,\n",
              " 24,\n",
              " 60,\n",
              " 20,\n",
              " 67,\n",
              " 60,\n",
              " 45,\n",
              " 5,\n",
              " 15,\n",
              " 58,\n",
              " 45,\n",
              " 19,\n",
              " 1,\n",
              " 58,\n",
              " 67,\n",
              " 39,\n",
              " 15,\n",
              " 35,\n",
              " 39,\n",
              " 39,\n",
              " 39,\n",
              " 0,\n",
              " 5,\n",
              " 60,\n",
              " 15,\n",
              " 66,\n",
              " 24,\n",
              " 1,\n",
              " 15,\n",
              " 24,\n",
              " 23,\n",
              " 15,\n",
              " 20,\n",
              " 45,\n",
              " 1,\n",
              " 38,\n",
              " 64,\n",
              " 5,\n",
              " 15,\n",
              " 9,\n",
              " 58,\n",
              " 1,\n",
              " 61,\n",
              " 1,\n",
              " 58,\n",
              " 5,\n",
              " 23,\n",
              " 15,\n",
              " 66,\n",
              " 24,\n",
              " 1,\n",
              " 15,\n",
              " 38,\n",
              " 45,\n",
              " 15,\n",
              " 45,\n",
              " 23,\n",
              " 20,\n",
              " 1,\n",
              " 0,\n",
              " 45,\n",
              " 25,\n",
              " 1,\n",
              " 23,\n",
              " 9,\n",
              " 45,\n",
              " 67,\n",
              " 15,\n",
              " 45,\n",
              " 58,\n",
              " 58,\n",
              " 67,\n",
              " 14,\n",
              " 45,\n",
              " 67,\n",
              " 58,\n",
              " 21,\n",
              " 67,\n",
              " 55,\n",
              " 1,\n",
              " 22,\n",
              " 20,\n",
              " 58,\n",
              " 67,\n",
              " 5,\n",
              " 58,\n",
              " 14,\n",
              " 45,\n",
              " 23,\n",
              " 67,\n",
              " 58,\n",
              " 45,\n",
              " 67,\n",
              " 38,\n",
              " 1,\n",
              " 23,\n",
              " 20,\n",
              " 1,\n",
              " 10,\n",
              " 15,\n",
              " 9,\n",
              " 24,\n",
              " 67,\n",
              " 0,\n",
              " 15,\n",
              " 24,\n",
              " 23,\n",
              " 67,\n",
              " 15,\n",
              " 67,\n",
              " 24,\n",
              " 58,\n",
              " 1,\n",
              " 5,\n",
              " 0,\n",
              " 67,\n",
              " 15,\n",
              " 14,\n",
              " 1,\n",
              " 15,\n",
              " 38,\n",
              " 45,\n",
              " 15,\n",
              " 34,\n",
              " 24,\n",
              " 19,\n",
              " 1,\n",
              " 23,\n",
              " 20,\n",
              " 24,\n",
              " 14,\n",
              " 33,\n",
              " 15,\n",
              " 0,\n",
              " 5,\n",
              " 60,\n",
              " 15,\n",
              " 66,\n",
              " 24,\n",
              " 1,\n",
              " 15,\n",
              " 60,\n",
              " 1,\n",
              " 55,\n",
              " 5,\n",
              " 0,\n",
              " 19,\n",
              " 45,\n",
              " 14,\n",
              " 67,\n",
              " 58,\n",
              " 5,\n",
              " 23,\n",
              " 15,\n",
              " 14,\n",
              " 1,\n",
              " 15,\n",
              " 38,\n",
              " 21,\n",
              " 15,\n",
              " 67,\n",
              " 64,\n",
              " 1,\n",
              " 23,\n",
              " 67,\n",
              " 60,\n",
              " 15,\n",
              " 38,\n",
              " 45,\n",
              " 15,\n",
              " 64,\n",
              " 0,\n",
              " 67,\n",
              " 23,\n",
              " 20,\n",
              " 67,\n",
              " 15,\n",
              " 14,\n",
              " 1,\n",
              " 60,\n",
              " 9,\n",
              " 1,\n",
              " 23,\n",
              " 14,\n",
              " 45,\n",
              " 42,\n",
              " 15,\n",
              " 67,\n",
              " 0,\n",
              " 15,\n",
              " 45,\n",
              " 23,\n",
              " 6,\n",
              " 5,\n",
              " 58,\n",
              " 20,\n",
              " 24,\n",
              " 23,\n",
              " 45,\n",
              " 5,\n",
              " 33,\n",
              " 15,\n",
              " 0,\n",
              " 5,\n",
              " 60,\n",
              " 15,\n",
              " 66,\n",
              " 24,\n",
              " 1,\n",
              " 15,\n",
              " 67,\n",
              " 0,\n",
              " 55,\n",
              " 58,\n",
              " 1,\n",
              " 9,\n",
              " 5,\n",
              " 58,\n",
              " 14,\n",
              " 67,\n",
              " 58,\n",
              " 38,\n",
              " 1,\n",
              " 15,\n",
              " 67,\n",
              " 0,\n",
              " 25,\n",
              " 24,\n",
              " 23,\n",
              " 67,\n",
              " 15,\n",
              " 19,\n",
              " 1,\n",
              " 63,\n",
              " 15,\n",
              " 64,\n",
              " 45,\n",
              " 1,\n",
              " 23,\n",
              " 60,\n",
              " 1,\n",
              " 23,\n",
              " 15,\n",
              " 1,\n",
              " 23,\n",
              " 15,\n",
              " 38,\n",
              " 45,\n",
              " 15,\n",
              " 6,\n",
              " 58,\n",
              " 67,\n",
              " 9,\n",
              " 67,\n",
              " 60,\n",
              " 5,\n",
              " 15,\n",
              " 61,\n",
              " 15,\n",
              " 60,\n",
              " 1,\n",
              " 15,\n",
              " 64,\n",
              " 58,\n",
              " 1,\n",
              " 25,\n",
              " 24,\n",
              " 23,\n",
              " 20,\n",
              " 1,\n",
              " 23,\n",
              " 15,\n",
              " 64,\n",
              " 5,\n",
              " 58,\n",
              " 15,\n",
              " 66,\n",
              " 24,\n",
              " 4,\n",
              " 15,\n",
              " 23,\n",
              " 5,\n",
              " 15,\n",
              " 6,\n",
              " 24,\n",
              " 45,\n",
              " 55,\n",
              " 0,\n",
              " 5,\n",
              " 15,\n",
              " 66,\n",
              " 24,\n",
              " 1,\n",
              " 15,\n",
              " 64,\n",
              " 24,\n",
              " 14,\n",
              " 1,\n",
              " 15,\n",
              " 32,\n",
              " 67,\n",
              " 3,\n",
              " 1,\n",
              " 58,\n",
              " 15,\n",
              " 60,\n",
              " 45,\n",
              " 14,\n",
              " 5,\n",
              " 10,\n",
              " 15,\n",
              " 60,\n",
              " 1,\n",
              " 64,\n",
              " 67,\n",
              " 23,\n",
              " 15,\n",
              " 66,\n",
              " 24,\n",
              " 1,\n",
              " 15,\n",
              " 1,\n",
              " 0,\n",
              " 15,\n",
              " 14,\n",
              " 1]"
            ]
          },
          "metadata": {},
          "execution_count": 11
        }
      ],
      "source": [
        "tokenized_text[:1000]"
      ]
    },
    {
      "cell_type": "markdown",
      "metadata": {
        "id": "pfpYcaypKcI9"
      },
      "source": [
        "### Organizando y estructurando el dataset"
      ]
    },
    {
      "cell_type": "code",
      "execution_count": 12,
      "metadata": {
        "id": "WSSmg9jtKP0T"
      },
      "outputs": [],
      "source": [
        "# separaremos el dataset entre entrenamiento y validación.\n",
        "# `p_val` será la proporción del corpus que se reservará para validación\n",
        "# `num_val` es la cantidad de secuencias de tamaño `max_context_size` que se usará en validación\n",
        "p_val = 0.1\n",
        "num_val = int(np.ceil(len(tokenized_text)*p_val/max_context_size))"
      ]
    },
    {
      "cell_type": "code",
      "execution_count": 13,
      "metadata": {
        "id": "b7dCpGrdKll0"
      },
      "outputs": [],
      "source": [
        "# separamos la porción de texto utilizada en entrenamiento de la de validación.\n",
        "train_text = tokenized_text[:-num_val*max_context_size]\n",
        "val_text = tokenized_text[-num_val*max_context_size:]"
      ]
    },
    {
      "cell_type": "code",
      "execution_count": 14,
      "metadata": {
        "id": "NmxQdxl8LRCg"
      },
      "outputs": [],
      "source": [
        "tokenized_sentences_val = [val_text[init*max_context_size:init*(max_context_size+1)] for init in range(num_val)]"
      ]
    },
    {
      "cell_type": "code",
      "execution_count": 15,
      "metadata": {
        "id": "_gyFT9koLqDm"
      },
      "outputs": [],
      "source": [
        "tokenized_sentences_train = [train_text[init:init+max_context_size] for init in range(len(train_text)-max_context_size+1)]"
      ]
    },
    {
      "cell_type": "code",
      "execution_count": 16,
      "metadata": {
        "id": "oVNqmmLRodT0"
      },
      "outputs": [],
      "source": [
        "X = np.array(tokenized_sentences_train[:-1])\n",
        "y = np.array(tokenized_sentences_train[1:])"
      ]
    },
    {
      "cell_type": "markdown",
      "metadata": {
        "id": "Vken7O4ETsAJ"
      },
      "source": [
        "Nótese que estamos estructurando el problema de aprendizaje como *many-to-many*:\n",
        "\n",
        "Entrada: secuencia de tokens [$x_0$, $x_1$, ..., $x_N$]\n",
        "\n",
        "Target: secuencia de tokens [$x_1$, $x_2$, ..., $x_{N+1}$]\n",
        "\n",
        "De manera que la red tiene que aprender que su salida deben ser los tokens desplazados en una posición y un nuevo token predicho (el N+1).\n",
        "\n",
        "La ventaja de estructurar el aprendizaje de esta manera es que para cada token de target se propaga una señal de gradiente por el grafo de cómputo recurrente, que es mejor que estructurar el problema como *many-to-one* en donde sólo una señal de gradiente se propaga."
      ]
    },
    {
      "cell_type": "markdown",
      "metadata": {
        "id": "l3iPTx-UJl6r"
      },
      "source": [
        "En este punto tenemos en la variable `tokenized_sentences` los versos tokenizados. Vamos a quedarnos con un conjunto de validación que utilizaremos para medir la calidad de la generación de secuencias con la métrica de Perplejidad."
      ]
    },
    {
      "cell_type": "code",
      "execution_count": 17,
      "metadata": {
        "id": "KFAyA4zCWE-5",
        "colab": {
          "base_uri": "https://localhost:8080/"
        },
        "outputId": "20faf8ca-d385-433f-af6c-ddf5b0ea51ca"
      },
      "outputs": [
        {
          "output_type": "execute_result",
          "data": {
            "text/plain": [
              "(439190, 100)"
            ]
          },
          "metadata": {},
          "execution_count": 17
        }
      ],
      "source": [
        "X.shape"
      ]
    },
    {
      "cell_type": "code",
      "execution_count": 18,
      "metadata": {
        "id": "qcKRl70HFTzG",
        "colab": {
          "base_uri": "https://localhost:8080/"
        },
        "outputId": "63e864de-1fc9-42fd-f94e-16af3649f97f"
      },
      "outputs": [
        {
          "output_type": "execute_result",
          "data": {
            "text/plain": [
              "array([15, 60,  1, 29,  5, 58, 15, 38, 45, 23])"
            ]
          },
          "metadata": {},
          "execution_count": 18
        }
      ],
      "source": [
        "X[0,:10]"
      ]
    },
    {
      "cell_type": "code",
      "execution_count": 19,
      "metadata": {
        "id": "TVpLCKSZFXZO",
        "colab": {
          "base_uri": "https://localhost:8080/"
        },
        "outputId": "fba415b1-c437-43bd-ca50-a952bf9101cc"
      },
      "outputs": [
        {
          "output_type": "execute_result",
          "data": {
            "text/plain": [
              "array([60,  1, 29,  5, 58, 15, 38, 45, 23, 45])"
            ]
          },
          "metadata": {},
          "execution_count": 19
        }
      ],
      "source": [
        "y[0,:10]"
      ]
    },
    {
      "cell_type": "code",
      "execution_count": 20,
      "metadata": {
        "id": "wOFCR-KqbW1N"
      },
      "outputs": [],
      "source": [
        "vocab_size = len(chars_vocab)"
      ]
    },
    {
      "cell_type": "markdown",
      "metadata": {
        "id": "tnnjdAQ5UAEJ"
      },
      "source": [
        "# Definiendo el modelo"
      ]
    },
    {
      "cell_type": "code",
      "execution_count": 21,
      "metadata": {
        "id": "rkMCZvmhrQz4"
      },
      "outputs": [],
      "source": [
        "from keras.layers import Input, TimeDistributed, CategoryEncoding, SimpleRNN, Dense\n",
        "from keras.models import Model, Sequential"
      ]
    },
    {
      "cell_type": "markdown",
      "metadata": {
        "id": "wgz7VKwTUbj6"
      },
      "source": [
        "El modelo que se propone como ejemplo consume los índices de los tokens y los transforma en vectores OHE (en este caso no entrenamos una capa de embedding para caracteres). Esa transformación se logra combinando las capas `CategoryEncoding` que transforma a índices a vectores OHE y `TimeDistributed` que aplica la capa a lo largo de la dimensión \"temporal\" de la secuencia."
      ]
    },
    {
      "cell_type": "markdown",
      "source": [
        "### SIMPLE RNN"
      ],
      "metadata": {
        "id": "wxjJRlL1buhV"
      }
    },
    {
      "cell_type": "code",
      "execution_count": 22,
      "metadata": {
        "id": "Zd2OkfQYs2Q7",
        "colab": {
          "base_uri": "https://localhost:8080/",
          "height": 304
        },
        "outputId": "c443b7d4-8f46-41c1-a208-b02e64326b52"
      },
      "outputs": [
        {
          "output_type": "stream",
          "name": "stderr",
          "text": [
            "/usr/local/lib/python3.11/dist-packages/keras/src/layers/core/wrapper.py:27: UserWarning: Do not pass an `input_shape`/`input_dim` argument to a layer. When using Sequential models, prefer using an `Input(shape)` object as the first layer in the model instead.\n",
            "  super().__init__(**kwargs)\n"
          ]
        },
        {
          "output_type": "display_data",
          "data": {
            "text/plain": [
              "\u001b[1mModel: \"sequential\"\u001b[0m\n"
            ],
            "text/html": [
              "<pre style=\"white-space:pre;overflow-x:auto;line-height:normal;font-family:Menlo,'DejaVu Sans Mono',consolas,'Courier New',monospace\"><span style=\"font-weight: bold\">Model: \"sequential\"</span>\n",
              "</pre>\n"
            ]
          },
          "metadata": {}
        },
        {
          "output_type": "display_data",
          "data": {
            "text/plain": [
              "┏━━━━━━━━━━━━━━━━━━━━━━━━━━━━━━━━━┳━━━━━━━━━━━━━━━━━━━━━━━━┳━━━━━━━━━━━━━━━┓\n",
              "┃\u001b[1m \u001b[0m\u001b[1mLayer (type)                   \u001b[0m\u001b[1m \u001b[0m┃\u001b[1m \u001b[0m\u001b[1mOutput Shape          \u001b[0m\u001b[1m \u001b[0m┃\u001b[1m \u001b[0m\u001b[1m      Param #\u001b[0m\u001b[1m \u001b[0m┃\n",
              "┡━━━━━━━━━━━━━━━━━━━━━━━━━━━━━━━━━╇━━━━━━━━━━━━━━━━━━━━━━━━╇━━━━━━━━━━━━━━━┩\n",
              "│ time_distributed                │ (\u001b[38;5;45mNone\u001b[0m, \u001b[38;5;45mNone\u001b[0m, \u001b[38;5;34m68\u001b[0m)       │             \u001b[38;5;34m0\u001b[0m │\n",
              "│ (\u001b[38;5;33mTimeDistributed\u001b[0m)               │                        │               │\n",
              "├─────────────────────────────────┼────────────────────────┼───────────────┤\n",
              "│ simple_rnn (\u001b[38;5;33mSimpleRNN\u001b[0m)          │ (\u001b[38;5;45mNone\u001b[0m, \u001b[38;5;45mNone\u001b[0m, \u001b[38;5;34m200\u001b[0m)      │        \u001b[38;5;34m53,800\u001b[0m │\n",
              "├─────────────────────────────────┼────────────────────────┼───────────────┤\n",
              "│ dense (\u001b[38;5;33mDense\u001b[0m)                   │ (\u001b[38;5;45mNone\u001b[0m, \u001b[38;5;45mNone\u001b[0m, \u001b[38;5;34m68\u001b[0m)       │        \u001b[38;5;34m13,668\u001b[0m │\n",
              "└─────────────────────────────────┴────────────────────────┴───────────────┘\n"
            ],
            "text/html": [
              "<pre style=\"white-space:pre;overflow-x:auto;line-height:normal;font-family:Menlo,'DejaVu Sans Mono',consolas,'Courier New',monospace\">┏━━━━━━━━━━━━━━━━━━━━━━━━━━━━━━━━━┳━━━━━━━━━━━━━━━━━━━━━━━━┳━━━━━━━━━━━━━━━┓\n",
              "┃<span style=\"font-weight: bold\"> Layer (type)                    </span>┃<span style=\"font-weight: bold\"> Output Shape           </span>┃<span style=\"font-weight: bold\">       Param # </span>┃\n",
              "┡━━━━━━━━━━━━━━━━━━━━━━━━━━━━━━━━━╇━━━━━━━━━━━━━━━━━━━━━━━━╇━━━━━━━━━━━━━━━┩\n",
              "│ time_distributed                │ (<span style=\"color: #00d7ff; text-decoration-color: #00d7ff\">None</span>, <span style=\"color: #00d7ff; text-decoration-color: #00d7ff\">None</span>, <span style=\"color: #00af00; text-decoration-color: #00af00\">68</span>)       │             <span style=\"color: #00af00; text-decoration-color: #00af00\">0</span> │\n",
              "│ (<span style=\"color: #0087ff; text-decoration-color: #0087ff\">TimeDistributed</span>)               │                        │               │\n",
              "├─────────────────────────────────┼────────────────────────┼───────────────┤\n",
              "│ simple_rnn (<span style=\"color: #0087ff; text-decoration-color: #0087ff\">SimpleRNN</span>)          │ (<span style=\"color: #00d7ff; text-decoration-color: #00d7ff\">None</span>, <span style=\"color: #00d7ff; text-decoration-color: #00d7ff\">None</span>, <span style=\"color: #00af00; text-decoration-color: #00af00\">200</span>)      │        <span style=\"color: #00af00; text-decoration-color: #00af00\">53,800</span> │\n",
              "├─────────────────────────────────┼────────────────────────┼───────────────┤\n",
              "│ dense (<span style=\"color: #0087ff; text-decoration-color: #0087ff\">Dense</span>)                   │ (<span style=\"color: #00d7ff; text-decoration-color: #00d7ff\">None</span>, <span style=\"color: #00d7ff; text-decoration-color: #00d7ff\">None</span>, <span style=\"color: #00af00; text-decoration-color: #00af00\">68</span>)       │        <span style=\"color: #00af00; text-decoration-color: #00af00\">13,668</span> │\n",
              "└─────────────────────────────────┴────────────────────────┴───────────────┘\n",
              "</pre>\n"
            ]
          },
          "metadata": {}
        },
        {
          "output_type": "display_data",
          "data": {
            "text/plain": [
              "\u001b[1m Total params: \u001b[0m\u001b[38;5;34m67,468\u001b[0m (263.55 KB)\n"
            ],
            "text/html": [
              "<pre style=\"white-space:pre;overflow-x:auto;line-height:normal;font-family:Menlo,'DejaVu Sans Mono',consolas,'Courier New',monospace\"><span style=\"font-weight: bold\"> Total params: </span><span style=\"color: #00af00; text-decoration-color: #00af00\">67,468</span> (263.55 KB)\n",
              "</pre>\n"
            ]
          },
          "metadata": {}
        },
        {
          "output_type": "display_data",
          "data": {
            "text/plain": [
              "\u001b[1m Trainable params: \u001b[0m\u001b[38;5;34m67,468\u001b[0m (263.55 KB)\n"
            ],
            "text/html": [
              "<pre style=\"white-space:pre;overflow-x:auto;line-height:normal;font-family:Menlo,'DejaVu Sans Mono',consolas,'Courier New',monospace\"><span style=\"font-weight: bold\"> Trainable params: </span><span style=\"color: #00af00; text-decoration-color: #00af00\">67,468</span> (263.55 KB)\n",
              "</pre>\n"
            ]
          },
          "metadata": {}
        },
        {
          "output_type": "display_data",
          "data": {
            "text/plain": [
              "\u001b[1m Non-trainable params: \u001b[0m\u001b[38;5;34m0\u001b[0m (0.00 B)\n"
            ],
            "text/html": [
              "<pre style=\"white-space:pre;overflow-x:auto;line-height:normal;font-family:Menlo,'DejaVu Sans Mono',consolas,'Courier New',monospace\"><span style=\"font-weight: bold\"> Non-trainable params: </span><span style=\"color: #00af00; text-decoration-color: #00af00\">0</span> (0.00 B)\n",
              "</pre>\n"
            ]
          },
          "metadata": {}
        }
      ],
      "source": [
        "model = Sequential()\n",
        "\n",
        "model.add(TimeDistributed(CategoryEncoding(num_tokens=vocab_size, output_mode = \"one_hot\"),input_shape=(None,1)))\n",
        "model.add(SimpleRNN(200, return_sequences=True, dropout=0.1, recurrent_dropout=0.1 ))\n",
        "model.add(Dense(vocab_size, activation='softmax'))\n",
        "model.compile(loss='sparse_categorical_crossentropy', optimizer='rmsprop')\n",
        "\n",
        "model.summary()"
      ]
    },
    {
      "cell_type": "markdown",
      "metadata": {
        "id": "GmJWNyxQwfCE"
      },
      "source": [
        "\n",
        "### Definir el modelo"
      ]
    },
    {
      "cell_type": "markdown",
      "metadata": {
        "id": "YWK3z85sQfUe"
      },
      "source": [
        "Dado que por el momento no hay implementaciones adecuadas de la perplejidad que puedan operar en tiempo de entrenamiento, armaremos un Callback *ad-hoc* que la calcule en cada epoch.\n",
        "\n",
        "**Nota**: un Callback es una rutina gatillada por algún evento, son muy útiles para relevar datos en diferentes momentos del desarrollo del modelo. En este caso queremos hacer un cálculo cada vez que termina una epoch de entrenamiento."
      ]
    },
    {
      "cell_type": "code",
      "execution_count": 89,
      "metadata": {
        "id": "zUHX3r5JD-MG"
      },
      "outputs": [],
      "source": [
        "class PplCallback(keras.callbacks.Callback):\n",
        "\n",
        "    '''\n",
        "    Este callback es una solución ad-hoc para calcular al final de cada epoch de\n",
        "    entrenamiento la métrica de Perplejidad sobre un conjunto de datos de validación.\n",
        "    La perplejidad es una métrica cuantitativa para evaluar la calidad de la generación de secuencias.\n",
        "    Además implementa la finalización del entrenamiento (Early Stopping)\n",
        "    si la perplejidad no mejora después de `patience` epochs.\n",
        "    '''\n",
        "\n",
        "    def __init__(self, val_data, history_ppl,patience=5, name_model=\"my_model.keras\"):\n",
        "      # El callback lo inicializamos con secuencias de validación sobre las cuales\n",
        "      # mediremos la perplejidad\n",
        "      self.val_data = val_data\n",
        "\n",
        "      self.target = []\n",
        "      self.padded = []\n",
        "\n",
        "      count = 0\n",
        "      self.info = []\n",
        "      self.min_score = np.inf\n",
        "      self.patience_counter = 0\n",
        "      self.history_ppl = history_ppl\n",
        "      self.patience = patience\n",
        "      self.name_model = name_model\n",
        "\n",
        "      # nos movemos en todas las secuencias de los datos de validación\n",
        "      for seq in self.val_data:\n",
        "\n",
        "        len_seq = len(seq)\n",
        "        # armamos todas las subsecuencias\n",
        "        subseq = [seq[:i] for i in range(1,len_seq)]\n",
        "        self.target.extend([seq[i] for i in range(1,len_seq)])\n",
        "\n",
        "        if len(subseq)!=0:\n",
        "\n",
        "          self.padded.append(pad_sequences(subseq, maxlen=max_context_size, padding='pre'))\n",
        "\n",
        "          self.info.append((count,count+len_seq))\n",
        "          count += len_seq\n",
        "\n",
        "      self.padded = np.vstack(self.padded)\n",
        "\n",
        "\n",
        "    def on_epoch_end(self, epoch, logs=None):\n",
        "\n",
        "        # en `scores` iremos guardando la perplejidad de cada secuencia\n",
        "        scores = []\n",
        "\n",
        "        predictions = self.model.predict(self.padded,verbose=0)\n",
        "\n",
        "        # para cada secuencia de validación\n",
        "        print(self.name_model)\n",
        "        for start,end in self.info:\n",
        "\n",
        "          # en `probs` iremos guardando las probabilidades de los términos target\n",
        "          probs = [predictions[idx_seq,-1,idx_vocab] for idx_seq, idx_vocab in zip(range(start,end),self.target[start:end])]\n",
        "\n",
        "          # calculamos la perplejidad por medio de logaritmos\n",
        "          scores.append(np.exp(-np.sum(np.log(probs))/(end-start)))\n",
        "\n",
        "        # promediamos todos los scores e imprimimos el valor promedio\n",
        "        current_score = np.mean(scores)\n",
        "        self.history_ppl.append(current_score)\n",
        "        print(f'\\n mean perplexity: {current_score} \\n')\n",
        "\n",
        "        # chequeamos si tenemos que detener el entrenamiento\n",
        "        if current_score < self.min_score:\n",
        "          self.min_score = current_score\n",
        "          self.model.save(self.name_model)\n",
        "          print(\"Saved new model!\")\n",
        "          self.patience_counter = 0\n",
        "        else:\n",
        "          self.patience_counter += 1\n",
        "          if self.patience_counter == self.patience:\n",
        "            print(\"Stopping training...\")\n",
        "            self.model.stop_training = True\n"
      ]
    },
    {
      "cell_type": "markdown",
      "metadata": {
        "id": "8HBZIwR0gruA"
      },
      "source": [
        "### Entrenamiento"
      ]
    },
    {
      "cell_type": "code",
      "execution_count": 24,
      "metadata": {
        "id": "oQq1PHDkxDvN",
        "colab": {
          "base_uri": "https://localhost:8080/"
        },
        "outputId": "7520a074-5581-4c9b-cdb0-0abd62104fde"
      },
      "outputs": [
        {
          "output_type": "stream",
          "name": "stdout",
          "text": [
            "Epoch 1/20\n",
            "\u001b[1m2928/2928\u001b[0m \u001b[32m━━━━━━━━━━━━━━━━━━━━\u001b[0m\u001b[37m\u001b[0m \u001b[1m0s\u001b[0m 11ms/step - loss: 2.3378\n",
            " mean perplexity: 6.952656861937756 \n",
            "\n",
            "Saved new model!\n",
            "\u001b[1m2928/2928\u001b[0m \u001b[32m━━━━━━━━━━━━━━━━━━━━\u001b[0m\u001b[37m\u001b[0m \u001b[1m72s\u001b[0m 20ms/step - loss: 2.3377\n",
            "Epoch 2/20\n",
            "\u001b[1m2925/2928\u001b[0m \u001b[32m━━━━━━━━━━━━━━━━━━━\u001b[0m\u001b[37m━\u001b[0m \u001b[1m0s\u001b[0m 9ms/step - loss: 1.9505\n",
            " mean perplexity: 6.416671741669672 \n",
            "\n",
            "Saved new model!\n",
            "\u001b[1m2928/2928\u001b[0m \u001b[32m━━━━━━━━━━━━━━━━━━━━\u001b[0m\u001b[37m\u001b[0m \u001b[1m43s\u001b[0m 15ms/step - loss: 1.9505\n",
            "Epoch 3/20\n",
            "\u001b[1m2925/2928\u001b[0m \u001b[32m━━━━━━━━━━━━━━━━━━━\u001b[0m\u001b[37m━\u001b[0m \u001b[1m0s\u001b[0m 9ms/step - loss: 1.8870\n",
            " mean perplexity: 6.199407311680381 \n",
            "\n",
            "Saved new model!\n",
            "\u001b[1m2928/2928\u001b[0m \u001b[32m━━━━━━━━━━━━━━━━━━━━\u001b[0m\u001b[37m\u001b[0m \u001b[1m43s\u001b[0m 15ms/step - loss: 1.8870\n",
            "Epoch 4/20\n",
            "\u001b[1m2924/2928\u001b[0m \u001b[32m━━━━━━━━━━━━━━━━━━━\u001b[0m\u001b[37m━\u001b[0m \u001b[1m0s\u001b[0m 9ms/step - loss: 1.8591\n",
            " mean perplexity: 6.134964332933054 \n",
            "\n",
            "Saved new model!\n",
            "\u001b[1m2928/2928\u001b[0m \u001b[32m━━━━━━━━━━━━━━━━━━━━\u001b[0m\u001b[37m\u001b[0m \u001b[1m43s\u001b[0m 15ms/step - loss: 1.8591\n",
            "Epoch 5/20\n",
            "\u001b[1m2924/2928\u001b[0m \u001b[32m━━━━━━━━━━━━━━━━━━━\u001b[0m\u001b[37m━\u001b[0m \u001b[1m0s\u001b[0m 9ms/step - loss: 1.8431\n",
            " mean perplexity: 6.134769947621857 \n",
            "\n",
            "Saved new model!\n",
            "\u001b[1m2928/2928\u001b[0m \u001b[32m━━━━━━━━━━━━━━━━━━━━\u001b[0m\u001b[37m\u001b[0m \u001b[1m43s\u001b[0m 15ms/step - loss: 1.8431\n",
            "Epoch 6/20\n",
            "\u001b[1m2924/2928\u001b[0m \u001b[32m━━━━━━━━━━━━━━━━━━━\u001b[0m\u001b[37m━\u001b[0m \u001b[1m0s\u001b[0m 9ms/step - loss: 1.8319\n",
            " mean perplexity: 6.034760954198896 \n",
            "\n",
            "Saved new model!\n",
            "\u001b[1m2928/2928\u001b[0m \u001b[32m━━━━━━━━━━━━━━━━━━━━\u001b[0m\u001b[37m\u001b[0m \u001b[1m43s\u001b[0m 15ms/step - loss: 1.8319\n",
            "Epoch 7/20\n",
            "\u001b[1m2924/2928\u001b[0m \u001b[32m━━━━━━━━━━━━━━━━━━━\u001b[0m\u001b[37m━\u001b[0m \u001b[1m0s\u001b[0m 9ms/step - loss: 1.8233\n",
            " mean perplexity: 5.993676398079498 \n",
            "\n",
            "Saved new model!\n",
            "\u001b[1m2928/2928\u001b[0m \u001b[32m━━━━━━━━━━━━━━━━━━━━\u001b[0m\u001b[37m\u001b[0m \u001b[1m43s\u001b[0m 15ms/step - loss: 1.8233\n",
            "Epoch 8/20\n",
            "\u001b[1m2924/2928\u001b[0m \u001b[32m━━━━━━━━━━━━━━━━━━━\u001b[0m\u001b[37m━\u001b[0m \u001b[1m0s\u001b[0m 9ms/step - loss: 1.8164\n",
            " mean perplexity: 5.983132462726727 \n",
            "\n",
            "Saved new model!\n",
            "\u001b[1m2928/2928\u001b[0m \u001b[32m━━━━━━━━━━━━━━━━━━━━\u001b[0m\u001b[37m\u001b[0m \u001b[1m43s\u001b[0m 15ms/step - loss: 1.8164\n",
            "Epoch 9/20\n",
            "\u001b[1m2926/2928\u001b[0m \u001b[32m━━━━━━━━━━━━━━━━━━━\u001b[0m\u001b[37m━\u001b[0m \u001b[1m0s\u001b[0m 9ms/step - loss: 1.8110\n",
            " mean perplexity: 5.967341744434663 \n",
            "\n",
            "Saved new model!\n",
            "\u001b[1m2928/2928\u001b[0m \u001b[32m━━━━━━━━━━━━━━━━━━━━\u001b[0m\u001b[37m\u001b[0m \u001b[1m43s\u001b[0m 15ms/step - loss: 1.8110\n",
            "Epoch 10/20\n",
            "\u001b[1m2925/2928\u001b[0m \u001b[32m━━━━━━━━━━━━━━━━━━━\u001b[0m\u001b[37m━\u001b[0m \u001b[1m0s\u001b[0m 9ms/step - loss: 1.8074\n",
            " mean perplexity: 5.9558490421737735 \n",
            "\n",
            "Saved new model!\n",
            "\u001b[1m2928/2928\u001b[0m \u001b[32m━━━━━━━━━━━━━━━━━━━━\u001b[0m\u001b[37m\u001b[0m \u001b[1m43s\u001b[0m 15ms/step - loss: 1.8074\n",
            "Epoch 11/20\n",
            "\u001b[1m2923/2928\u001b[0m \u001b[32m━━━━━━━━━━━━━━━━━━━\u001b[0m\u001b[37m━\u001b[0m \u001b[1m0s\u001b[0m 9ms/step - loss: 1.8044\n",
            " mean perplexity: 5.958538673007268 \n",
            "\n",
            "\u001b[1m2928/2928\u001b[0m \u001b[32m━━━━━━━━━━━━━━━━━━━━\u001b[0m\u001b[37m\u001b[0m \u001b[1m43s\u001b[0m 15ms/step - loss: 1.8044\n",
            "Epoch 12/20\n",
            "\u001b[1m2924/2928\u001b[0m \u001b[32m━━━━━━━━━━━━━━━━━━━\u001b[0m\u001b[37m━\u001b[0m \u001b[1m0s\u001b[0m 9ms/step - loss: 1.8004\n",
            " mean perplexity: 5.9799221115190635 \n",
            "\n",
            "\u001b[1m2928/2928\u001b[0m \u001b[32m━━━━━━━━━━━━━━━━━━━━\u001b[0m\u001b[37m\u001b[0m \u001b[1m43s\u001b[0m 15ms/step - loss: 1.8004\n",
            "Epoch 13/20\n",
            "\u001b[1m2925/2928\u001b[0m \u001b[32m━━━━━━━━━━━━━━━━━━━\u001b[0m\u001b[37m━\u001b[0m \u001b[1m0s\u001b[0m 9ms/step - loss: 1.7977\n",
            " mean perplexity: 5.8922787172838405 \n",
            "\n",
            "Saved new model!\n",
            "\u001b[1m2928/2928\u001b[0m \u001b[32m━━━━━━━━━━━━━━━━━━━━\u001b[0m\u001b[37m\u001b[0m \u001b[1m43s\u001b[0m 15ms/step - loss: 1.7977\n",
            "Epoch 14/20\n",
            "\u001b[1m2924/2928\u001b[0m \u001b[32m━━━━━━━━━━━━━━━━━━━\u001b[0m\u001b[37m━\u001b[0m \u001b[1m0s\u001b[0m 9ms/step - loss: 1.7951\n",
            " mean perplexity: 5.896968879983655 \n",
            "\n",
            "\u001b[1m2928/2928\u001b[0m \u001b[32m━━━━━━━━━━━━━━━━━━━━\u001b[0m\u001b[37m\u001b[0m \u001b[1m43s\u001b[0m 15ms/step - loss: 1.7951\n",
            "Epoch 15/20\n",
            "\u001b[1m2926/2928\u001b[0m \u001b[32m━━━━━━━━━━━━━━━━━━━\u001b[0m\u001b[37m━\u001b[0m \u001b[1m0s\u001b[0m 9ms/step - loss: 1.7933\n",
            " mean perplexity: 5.887724866122925 \n",
            "\n",
            "Saved new model!\n",
            "\u001b[1m2928/2928\u001b[0m \u001b[32m━━━━━━━━━━━━━━━━━━━━\u001b[0m\u001b[37m\u001b[0m \u001b[1m43s\u001b[0m 15ms/step - loss: 1.7933\n",
            "Epoch 16/20\n",
            "\u001b[1m2925/2928\u001b[0m \u001b[32m━━━━━━━━━━━━━━━━━━━\u001b[0m\u001b[37m━\u001b[0m \u001b[1m0s\u001b[0m 9ms/step - loss: 1.7919\n",
            " mean perplexity: 5.919401902437699 \n",
            "\n",
            "\u001b[1m2928/2928\u001b[0m \u001b[32m━━━━━━━━━━━━━━━━━━━━\u001b[0m\u001b[37m\u001b[0m \u001b[1m43s\u001b[0m 15ms/step - loss: 1.7919\n",
            "Epoch 17/20\n",
            "\u001b[1m2925/2928\u001b[0m \u001b[32m━━━━━━━━━━━━━━━━━━━\u001b[0m\u001b[37m━\u001b[0m \u001b[1m0s\u001b[0m 9ms/step - loss: 1.7905\n",
            " mean perplexity: 5.938673390989676 \n",
            "\n",
            "\u001b[1m2928/2928\u001b[0m \u001b[32m━━━━━━━━━━━━━━━━━━━━\u001b[0m\u001b[37m\u001b[0m \u001b[1m43s\u001b[0m 15ms/step - loss: 1.7905\n",
            "Epoch 18/20\n",
            "\u001b[1m2925/2928\u001b[0m \u001b[32m━━━━━━━━━━━━━━━━━━━\u001b[0m\u001b[37m━\u001b[0m \u001b[1m0s\u001b[0m 9ms/step - loss: 1.7888\n",
            " mean perplexity: 5.909510509923743 \n",
            "\n",
            "\u001b[1m2928/2928\u001b[0m \u001b[32m━━━━━━━━━━━━━━━━━━━━\u001b[0m\u001b[37m\u001b[0m \u001b[1m43s\u001b[0m 15ms/step - loss: 1.7888\n",
            "Epoch 19/20\n",
            "\u001b[1m2925/2928\u001b[0m \u001b[32m━━━━━━━━━━━━━━━━━━━\u001b[0m\u001b[37m━\u001b[0m \u001b[1m0s\u001b[0m 9ms/step - loss: 1.7877\n",
            " mean perplexity: 5.890074989878911 \n",
            "\n",
            "\u001b[1m2928/2928\u001b[0m \u001b[32m━━━━━━━━━━━━━━━━━━━━\u001b[0m\u001b[37m\u001b[0m \u001b[1m43s\u001b[0m 15ms/step - loss: 1.7877\n",
            "Epoch 20/20\n",
            "\u001b[1m2924/2928\u001b[0m \u001b[32m━━━━━━━━━━━━━━━━━━━\u001b[0m\u001b[37m━\u001b[0m \u001b[1m0s\u001b[0m 9ms/step - loss: 1.7860\n",
            " mean perplexity: 5.8545024656906755 \n",
            "\n",
            "Saved new model!\n",
            "\u001b[1m2928/2928\u001b[0m \u001b[32m━━━━━━━━━━━━━━━━━━━━\u001b[0m\u001b[37m\u001b[0m \u001b[1m43s\u001b[0m 15ms/step - loss: 1.7860\n"
          ]
        }
      ],
      "source": [
        "# fiteamos, nótese el agregado del callback con su inicialización. El batch_size lo podemos seleccionar a mano\n",
        "# en general, lo mejor es escoger el batch más grande posible que minimice el tiempo de cada época.\n",
        "# En la variable `history_ppl` se guardarán los valores de perplejidad para cada época.\n",
        "history_ppl = []\n",
        "hist = model.fit(X, y, epochs=20, callbacks=[PplCallback(tokenized_sentences_val,history_ppl)], batch_size=150)"
      ]
    },
    {
      "cell_type": "code",
      "execution_count": 25,
      "metadata": {
        "id": "K30JHB3Dv-mx",
        "colab": {
          "base_uri": "https://localhost:8080/",
          "height": 433
        },
        "outputId": "3a242664-4fad-4d7d-a3f6-7ae3e8cad6b2"
      },
      "outputs": [
        {
          "output_type": "display_data",
          "data": {
            "text/plain": [
              "<Figure size 640x480 with 1 Axes>"
            ],
            "image/png": "[encoded data removed]"
          },
          "metadata": {}
        }
      ],
      "source": [
        "import matplotlib.pyplot as plt\n",
        "import seaborn as sns\n",
        "\n",
        "# Entrenamiento\n",
        "epoch_count = range(1, len(history_ppl) + 1)\n",
        "sns.lineplot(x=epoch_count,  y=history_ppl)\n",
        "plt.show()"
      ]
    },
    {
      "cell_type": "code",
      "execution_count": 26,
      "metadata": {
        "id": "Rhy5hZN38qfO"
      },
      "outputs": [],
      "source": [
        "# Cargamos el mejor modelo guardado del entrenamiento para hacer inferencia\n",
        "model = keras.models.load_model('my_model.keras')"
      ]
    },
    {
      "cell_type": "markdown",
      "metadata": {
        "id": "KN6Fg_BsxJe6"
      },
      "source": [
        "\n",
        "### Predicción del próximo caracter"
      ]
    },
    {
      "cell_type": "markdown",
      "metadata": {
        "id": "mCeMWWupxN1-"
      },
      "source": [
        "### Generación de secuencias"
      ]
    },
    {
      "cell_type": "code",
      "execution_count": 27,
      "metadata": {
        "id": "bwbS_pfhxvB3"
      },
      "outputs": [],
      "source": [
        "def generate_seq(model, seed_text, max_length, n_words):\n",
        "    \"\"\"\n",
        "        Exec model sequence prediction\n",
        "\n",
        "        Args:\n",
        "            model (keras): modelo entrenado\n",
        "            seed_text (string): texto de entrada (input_seq)\n",
        "            max_length (int): máxima longitud de la sequencia de entrada\n",
        "            n_words (int): números de caracteres a agregar a la sequencia de entrada\n",
        "        returns:\n",
        "            output_text (string): sentencia con las \"n_words\" agregadas\n",
        "    \"\"\"\n",
        "    output_text = seed_text\n",
        "\t# generate a fixed number of words\n",
        "    for _ in range(n_words):\n",
        "\t\t# Encodeamos\n",
        "        encoded = [char2idx[ch] for ch in output_text.lower() ]\n",
        "\t\t# Si tienen distinto largo\n",
        "        encoded = pad_sequences([encoded], maxlen=max_length, padding='pre')\n",
        "\n",
        "\t\t# Predicción softmax\n",
        "        y_hat = np.argmax(model.predict(encoded,verbose=0)[0,-1,:])\n",
        "\t\t# Vamos concatenando las predicciones\n",
        "        out_word = ''\n",
        "\n",
        "        out_word = idx2char[y_hat]\n",
        "\n",
        "\t\t# Agrego las palabras a la frase predicha\n",
        "        output_text += out_word\n",
        "    return output_text"
      ]
    },
    {
      "cell_type": "code",
      "execution_count": 28,
      "metadata": {
        "id": "JoFqRC5pxzqS",
        "colab": {
          "base_uri": "https://localhost:8080/",
          "height": 35
        },
        "outputId": "1cd9ba3c-1d16-4ca5-ba23-5bc28f61cc47"
      },
      "outputs": [
        {
          "output_type": "execute_result",
          "data": {
            "text/plain": [
              "'habia una vez de la cara de la cara de la c'"
            ],
            "application/vnd.google.colaboratory.intrinsic+json": {
              "type": "string"
            }
          },
          "metadata": {},
          "execution_count": 28
        }
      ],
      "source": [
        "input_text='habia una vez'\n",
        "\n",
        "generate_seq(model, input_text, max_length=max_context_size, n_words=30)"
      ]
    },
    {
      "cell_type": "markdown",
      "metadata": {
        "id": "drJ6xn5qW1Hl"
      },
      "source": [
        "###  Beam search y muestreo aleatorio"
      ]
    },
    {
      "cell_type": "code",
      "execution_count": 29,
      "metadata": {
        "id": "_vovn9XZW1Hl"
      },
      "outputs": [],
      "source": [
        "# funcionalidades para hacer encoding y decoding\n",
        "\n",
        "def encode(text,max_length=max_context_size):\n",
        "\n",
        "    encoded = [char2idx[ch] for ch in text]\n",
        "    encoded = pad_sequences([encoded], maxlen=max_length, padding='pre')\n",
        "\n",
        "    return encoded\n",
        "\n",
        "def decode(seq):\n",
        "    return ''.join([idx2char[ch] for ch in seq])"
      ]
    },
    {
      "cell_type": "code",
      "execution_count": 41,
      "metadata": {
        "id": "I_lZiQwkW1Hl"
      },
      "outputs": [],
      "source": [
        "from scipy.special import softmax\n",
        "\n",
        "# función que selecciona candidatos para el beam search\n",
        "def select_candidates(pred,num_beams,vocab_size,history_probs,history_tokens,temp,mode):\n",
        "\n",
        "  # colectar todas las probabilidades para la siguiente búsqueda\n",
        "  pred_large = []\n",
        "\n",
        "  for idx,pp in enumerate(pred):\n",
        "    pred_large.extend(np.log(pp+1E-10)+history_probs[idx])\n",
        "\n",
        "  pred_large = np.array(pred_large)\n",
        "\n",
        "  # criterio de selección\n",
        "  if mode == 'det':\n",
        "    idx_select = np.argsort(pred_large)[::-1][:num_beams] # beam search determinista\n",
        "  elif mode == 'sto':\n",
        "    idx_select = np.random.choice(np.arange(pred_large.shape[0]), num_beams, p=softmax(pred_large/temp)) # beam search con muestreo aleatorio\n",
        "  else:\n",
        "    raise ValueError(f'Wrong selection mode. {mode} was given. det and sto are supported.')\n",
        "\n",
        "  # traducir a índices de token en el vocabulario\n",
        "  new_history_tokens = np.concatenate((np.array(history_tokens)[idx_select//vocab_size],\n",
        "                        np.array([idx_select%vocab_size]).T),\n",
        "                      axis=1)\n",
        "\n",
        "  # devolver el producto de las probabilidades (log) y la secuencia de tokens seleccionados\n",
        "  return pred_large[idx_select.astype(int)], new_history_tokens.astype(int)\n",
        "\n",
        "\n",
        "def beam_search(model,num_beams,num_words,input,temp=1,mode='det'):\n",
        "\n",
        "    # first iteration\n",
        "\n",
        "    # encode\n",
        "    encoded = encode(input)\n",
        "\n",
        "    # first prediction\n",
        "    y_hat = model.predict(encoded,verbose=0)[0,-1,:]\n",
        "\n",
        "    # get vocabulary size\n",
        "    vocab_size = y_hat.shape[0]\n",
        "\n",
        "    # initialize history\n",
        "    history_probs = [0]*num_beams\n",
        "    history_tokens = [encoded[0]]*num_beams\n",
        "\n",
        "    # select num_beams candidates\n",
        "    history_probs, history_tokens = select_candidates([y_hat],\n",
        "                                        num_beams,\n",
        "                                        vocab_size,\n",
        "                                        history_probs,\n",
        "                                        history_tokens,\n",
        "                                        temp,\n",
        "                                        mode)\n",
        "\n",
        "    # beam search loop\n",
        "    print(temp)\n",
        "    for i in range(num_words-1):\n",
        "\n",
        "      preds = []\n",
        "\n",
        "      for hist in history_tokens:\n",
        "\n",
        "        # actualizar secuencia de tokens\n",
        "        input_update = np.array([hist[i+1:]]).copy()\n",
        "\n",
        "        # predicción\n",
        "        y_hat = model.predict(input_update,verbose=0)[0,-1,:]\n",
        "\n",
        "        preds.append(y_hat)\n",
        "\n",
        "      history_probs, history_tokens = select_candidates(preds,\n",
        "                                                        num_beams,\n",
        "                                                        vocab_size,\n",
        "                                                        history_probs,\n",
        "                                                        history_tokens,\n",
        "                                                        temp,\n",
        "                                                        mode)\n",
        "\n",
        "    return history_tokens[:,-(len(input)+num_words):]"
      ]
    },
    {
      "cell_type": "code",
      "execution_count": 66,
      "metadata": {
        "id": "GeLqAoOYW1Hm",
        "colab": {
          "base_uri": "https://localhost:8080/"
        },
        "outputId": "579bcc40-7a8d-417a-afbf-2b2cc7d77c35"
      },
      "outputs": [
        {
          "output_type": "stream",
          "name": "stdout",
          "text": [
            "0.5\n"
          ]
        }
      ],
      "source": [
        "# predicción con beam search\n",
        "salidas = beam_search(model,num_beams=20,num_words=25,input=\"el aire caliente fulgia como\", temp=0.5, mode=\"det\")"
      ]
    },
    {
      "cell_type": "code",
      "execution_count": 68,
      "metadata": {
        "id": "P8HQoLhw-NYg",
        "colab": {
          "base_uri": "https://localhost:8080/"
        },
        "outputId": "ca3905f2-667a-439e-ff30-124911d94e06"
      },
      "outputs": [
        {
          "output_type": "execute_result",
          "data": {
            "text/plain": [
              "array([ 1,  0, 15, 67, 45, 58,  1, 15,  9, 67,  0, 45,  1, 23, 20,  1, 15,\n",
              "        6, 24,  0, 25, 45, 67, 15,  9,  5, 38,  5, 15, 24, 23, 15, 32,  5,\n",
              "       38,  3, 58,  1, 15, 14,  1, 15,  0, 67, 15,  9,  5, 58, 67, 63, 42,\n",
              "       23, 15])"
            ]
          },
          "metadata": {},
          "execution_count": 68
        }
      ],
      "source": [
        "salidas[0]"
      ]
    },
    {
      "cell_type": "code",
      "execution_count": 69,
      "metadata": {
        "id": "2S3_I3S1W1Hm",
        "colab": {
          "base_uri": "https://localhost:8080/"
        },
        "outputId": "df883295-27fb-4d88-d101-408b5154fae2"
      },
      "outputs": [
        {
          "output_type": "stream",
          "name": "stdout",
          "text": [
            "el aire caliente fulgia como un hombre de la corazón \n",
            "el aire caliente fulgia como un hombre de la madona, \n",
            "el aire caliente fulgia como un hombre de la madona d\n",
            "el aire caliente fulgia como un hombre de la madona. \n",
            "el aire caliente fulgia como un hombre de la corazón.\n",
            "el aire caliente fulgia como un hombre que estaba el \n",
            "el aire caliente fulgia como un hombre de los caballo\n",
            "el aire caliente fulgia como un hombre de la corazón,\n",
            "el aire caliente fulgia como un hombre de la mujeres \n",
            "el aire caliente fulgia como un hombre que estaba la \n",
            "el aire caliente fulgia como un hombre de las manos, \n",
            "el aire caliente fulgia como un hombre que los caball\n",
            "el aire caliente fulgia como un hombre de los caballe\n",
            "el aire caliente fulgia como un hombre de la cara de \n",
            "el aire caliente fulgia como un hombre que no había e\n",
            "el aire caliente fulgia como un hombre de la madona c\n",
            "el aire caliente fulgia como un hombre de las manos. \n",
            "el aire caliente fulgia como un hombre de la madona y\n",
            "el aire caliente fulgia como un hombre de los cabezas\n",
            "el aire caliente fulgia como un hombre que estaba con\n"
          ]
        }
      ],
      "source": [
        "# veamos las salidas\n",
        "for d in salidas:\n",
        "  print(decode(d))\n",
        "\n",
        "\n"
      ]
    },
    {
      "cell_type": "markdown",
      "source": [
        "### GRU"
      ],
      "metadata": {
        "id": "UbxKtPb0BUHA"
      }
    },
    {
      "cell_type": "markdown",
      "metadata": {
        "id": "Q_LlqmtEW1Hn"
      },
      "source": []
    },
    {
      "cell_type": "code",
      "source": [
        "from tensorflow.keras.models import Sequential\n",
        "from tensorflow.keras.layers import TimeDistributed, GRU, Dense\n",
        "\n",
        "\n",
        "####\n",
        "model_gru = Sequential()\n",
        "model_gru.add(TimeDistributed(CategoryEncoding(num_tokens=vocab_size, output_mode = \"one_hot\"),input_shape=(None,1)))\n",
        "model_gru.add(GRU(120, return_sequences=True, dropout=0.1)) #remove reccurent_dropount since it slows the training disabled GPU\n",
        "model_gru.add(Dense(vocab_size, activation='softmax'))\n",
        "\n",
        "model_gru.compile(loss='sparse_categorical_crossentropy', optimizer='rmsprop')\n",
        "\n",
        "model_gru.summary()"
      ],
      "metadata": {
        "colab": {
          "base_uri": "https://localhost:8080/",
          "height": 248
        },
        "id": "2l8UP1BrZlDw",
        "outputId": "c3586d4b-4c36-4432-93fd-9455da289c19"
      },
      "execution_count": 95,
      "outputs": [
        {
          "output_type": "display_data",
          "data": {
            "text/plain": [
              "\u001b[1mModel: \"sequential_8\"\u001b[0m\n"
            ],
            "text/html": [
              "<pre style=\"white-space:pre;overflow-x:auto;line-height:normal;font-family:Menlo,'DejaVu Sans Mono',consolas,'Courier New',monospace\"><span style=\"font-weight: bold\">Model: \"sequential_8\"</span>\n",
              "</pre>\n"
            ]
          },
          "metadata": {}
        },
        {
          "output_type": "display_data",
          "data": {
            "text/plain": [
              "┏━━━━━━━━━━━━━━━━━━━━━━━━━━━━━━━━━┳━━━━━━━━━━━━━━━━━━━━━━━━┳━━━━━━━━━━━━━━━┓\n",
              "┃\u001b[1m \u001b[0m\u001b[1mLayer (type)                   \u001b[0m\u001b[1m \u001b[0m┃\u001b[1m \u001b[0m\u001b[1mOutput Shape          \u001b[0m\u001b[1m \u001b[0m┃\u001b[1m \u001b[0m\u001b[1m      Param #\u001b[0m\u001b[1m \u001b[0m┃\n",
              "┡━━━━━━━━━━━━━━━━━━━━━━━━━━━━━━━━━╇━━━━━━━━━━━━━━━━━━━━━━━━╇━━━━━━━━━━━━━━━┩\n",
              "│ time_distributed_9              │ (\u001b[38;5;45mNone\u001b[0m, \u001b[38;5;45mNone\u001b[0m, \u001b[38;5;34m68\u001b[0m)       │             \u001b[38;5;34m0\u001b[0m │\n",
              "│ (\u001b[38;5;33mTimeDistributed\u001b[0m)               │                        │               │\n",
              "├─────────────────────────────────┼────────────────────────┼───────────────┤\n",
              "│ gru_7 (\u001b[38;5;33mGRU\u001b[0m)                     │ (\u001b[38;5;45mNone\u001b[0m, \u001b[38;5;45mNone\u001b[0m, \u001b[38;5;34m120\u001b[0m)      │        \u001b[38;5;34m68,400\u001b[0m │\n",
              "├─────────────────────────────────┼────────────────────────┼───────────────┤\n",
              "│ dense_7 (\u001b[38;5;33mDense\u001b[0m)                 │ (\u001b[38;5;45mNone\u001b[0m, \u001b[38;5;45mNone\u001b[0m, \u001b[38;5;34m68\u001b[0m)       │         \u001b[38;5;34m8,228\u001b[0m │\n",
              "└─────────────────────────────────┴────────────────────────┴───────────────┘\n"
            ],
            "text/html": [
              "<pre style=\"white-space:pre;overflow-x:auto;line-height:normal;font-family:Menlo,'DejaVu Sans Mono',consolas,'Courier New',monospace\">┏━━━━━━━━━━━━━━━━━━━━━━━━━━━━━━━━━┳━━━━━━━━━━━━━━━━━━━━━━━━┳━━━━━━━━━━━━━━━┓\n",
              "┃<span style=\"font-weight: bold\"> Layer (type)                    </span>┃<span style=\"font-weight: bold\"> Output Shape           </span>┃<span style=\"font-weight: bold\">       Param # </span>┃\n",
              "┡━━━━━━━━━━━━━━━━━━━━━━━━━━━━━━━━━╇━━━━━━━━━━━━━━━━━━━━━━━━╇━━━━━━━━━━━━━━━┩\n",
              "│ time_distributed_9              │ (<span style=\"color: #00d7ff; text-decoration-color: #00d7ff\">None</span>, <span style=\"color: #00d7ff; text-decoration-color: #00d7ff\">None</span>, <span style=\"color: #00af00; text-decoration-color: #00af00\">68</span>)       │             <span style=\"color: #00af00; text-decoration-color: #00af00\">0</span> │\n",
              "│ (<span style=\"color: #0087ff; text-decoration-color: #0087ff\">TimeDistributed</span>)               │                        │               │\n",
              "├─────────────────────────────────┼────────────────────────┼───────────────┤\n",
              "│ gru_7 (<span style=\"color: #0087ff; text-decoration-color: #0087ff\">GRU</span>)                     │ (<span style=\"color: #00d7ff; text-decoration-color: #00d7ff\">None</span>, <span style=\"color: #00d7ff; text-decoration-color: #00d7ff\">None</span>, <span style=\"color: #00af00; text-decoration-color: #00af00\">120</span>)      │        <span style=\"color: #00af00; text-decoration-color: #00af00\">68,400</span> │\n",
              "├─────────────────────────────────┼────────────────────────┼───────────────┤\n",
              "│ dense_7 (<span style=\"color: #0087ff; text-decoration-color: #0087ff\">Dense</span>)                 │ (<span style=\"color: #00d7ff; text-decoration-color: #00d7ff\">None</span>, <span style=\"color: #00d7ff; text-decoration-color: #00d7ff\">None</span>, <span style=\"color: #00af00; text-decoration-color: #00af00\">68</span>)       │         <span style=\"color: #00af00; text-decoration-color: #00af00\">8,228</span> │\n",
              "└─────────────────────────────────┴────────────────────────┴───────────────┘\n",
              "</pre>\n"
            ]
          },
          "metadata": {}
        },
        {
          "output_type": "display_data",
          "data": {
            "text/plain": [
              "\u001b[1m Total params: \u001b[0m\u001b[38;5;34m76,628\u001b[0m (299.33 KB)\n"
            ],
            "text/html": [
              "<pre style=\"white-space:pre;overflow-x:auto;line-height:normal;font-family:Menlo,'DejaVu Sans Mono',consolas,'Courier New',monospace\"><span style=\"font-weight: bold\"> Total params: </span><span style=\"color: #00af00; text-decoration-color: #00af00\">76,628</span> (299.33 KB)\n",
              "</pre>\n"
            ]
          },
          "metadata": {}
        },
        {
          "output_type": "display_data",
          "data": {
            "text/plain": [
              "\u001b[1m Trainable params: \u001b[0m\u001b[38;5;34m76,628\u001b[0m (299.33 KB)\n"
            ],
            "text/html": [
              "<pre style=\"white-space:pre;overflow-x:auto;line-height:normal;font-family:Menlo,'DejaVu Sans Mono',consolas,'Courier New',monospace\"><span style=\"font-weight: bold\"> Trainable params: </span><span style=\"color: #00af00; text-decoration-color: #00af00\">76,628</span> (299.33 KB)\n",
              "</pre>\n"
            ]
          },
          "metadata": {}
        },
        {
          "output_type": "display_data",
          "data": {
            "text/plain": [
              "\u001b[1m Non-trainable params: \u001b[0m\u001b[38;5;34m0\u001b[0m (0.00 B)\n"
            ],
            "text/html": [
              "<pre style=\"white-space:pre;overflow-x:auto;line-height:normal;font-family:Menlo,'DejaVu Sans Mono',consolas,'Courier New',monospace\"><span style=\"font-weight: bold\"> Non-trainable params: </span><span style=\"color: #00af00; text-decoration-color: #00af00\">0</span> (0.00 B)\n",
              "</pre>\n"
            ]
          },
          "metadata": {}
        }
      ]
    },
    {
      "cell_type": "code",
      "source": [
        "history_ppl_gru = []\n",
        "hist_gru = model_gru.fit(X, y, epochs=20, callbacks=[PplCallback(tokenized_sentences_val,history_ppl_gru, name_model=\"model_gru.keras\")], batch_size=150)"
      ],
      "metadata": {
        "colab": {
          "base_uri": "https://localhost:8080/"
        },
        "id": "RBkpVgQ2eMHk",
        "outputId": "3d1862d8-6cd8-4f77-9716-f126132f6885"
      },
      "execution_count": 96,
      "outputs": [
        {
          "output_type": "stream",
          "name": "stdout",
          "text": [
            "Epoch 1/20\n",
            "\u001b[1m2924/2928\u001b[0m \u001b[32m━━━━━━━━━━━━━━━━━━━\u001b[0m\u001b[37m━\u001b[0m \u001b[1m0s\u001b[0m 9ms/step - loss: 2.4037model_gru.keras\n",
            "\n",
            " mean perplexity: 7.938466306584572 \n",
            "\n",
            "Saved new model!\n",
            "\u001b[1m2928/2928\u001b[0m \u001b[32m━━━━━━━━━━━━━━━━━━━━\u001b[0m\u001b[37m\u001b[0m \u001b[1m50s\u001b[0m 15ms/step - loss: 2.4032\n",
            "Epoch 2/20\n",
            "\u001b[1m2925/2928\u001b[0m \u001b[32m━━━━━━━━━━━━━━━━━━━\u001b[0m\u001b[37m━\u001b[0m \u001b[1m0s\u001b[0m 9ms/step - loss: 1.9026model_gru.keras\n",
            "\n",
            " mean perplexity: 7.070028637468937 \n",
            "\n",
            "Saved new model!\n",
            "\u001b[1m2928/2928\u001b[0m \u001b[32m━━━━━━━━━━━━━━━━━━━━\u001b[0m\u001b[37m\u001b[0m \u001b[1m43s\u001b[0m 15ms/step - loss: 1.9026\n",
            "Epoch 3/20\n",
            "\u001b[1m2924/2928\u001b[0m \u001b[32m━━━━━━━━━━━━━━━━━━━\u001b[0m\u001b[37m━\u001b[0m \u001b[1m0s\u001b[0m 9ms/step - loss: 1.7887model_gru.keras\n",
            "\n",
            " mean perplexity: 6.802171463839082 \n",
            "\n",
            "Saved new model!\n",
            "\u001b[1m2928/2928\u001b[0m \u001b[32m━━━━━━━━━━━━━━━━━━━━\u001b[0m\u001b[37m\u001b[0m \u001b[1m43s\u001b[0m 15ms/step - loss: 1.7887\n",
            "Epoch 4/20\n",
            "\u001b[1m2926/2928\u001b[0m \u001b[32m━━━━━━━━━━━━━━━━━━━\u001b[0m\u001b[37m━\u001b[0m \u001b[1m0s\u001b[0m 9ms/step - loss: 1.7324model_gru.keras\n",
            "\n",
            " mean perplexity: 6.768261620151433 \n",
            "\n",
            "Saved new model!\n",
            "\u001b[1m2928/2928\u001b[0m \u001b[32m━━━━━━━━━━━━━━━━━━━━\u001b[0m\u001b[37m\u001b[0m \u001b[1m43s\u001b[0m 15ms/step - loss: 1.7324\n",
            "Epoch 5/20\n",
            "\u001b[1m2923/2928\u001b[0m \u001b[32m━━━━━━━━━━━━━━━━━━━\u001b[0m\u001b[37m━\u001b[0m \u001b[1m0s\u001b[0m 9ms/step - loss: 1.6966model_gru.keras\n",
            "\n",
            " mean perplexity: 6.59023247019711 \n",
            "\n",
            "Saved new model!\n",
            "\u001b[1m2928/2928\u001b[0m \u001b[32m━━━━━━━━━━━━━━━━━━━━\u001b[0m\u001b[37m\u001b[0m \u001b[1m43s\u001b[0m 15ms/step - loss: 1.6966\n",
            "Epoch 6/20\n",
            "\u001b[1m2926/2928\u001b[0m \u001b[32m━━━━━━━━━━━━━━━━━━━\u001b[0m\u001b[37m━\u001b[0m \u001b[1m0s\u001b[0m 9ms/step - loss: 1.6675model_gru.keras\n",
            "\n",
            " mean perplexity: 6.63032381539472 \n",
            "\n",
            "\u001b[1m2928/2928\u001b[0m \u001b[32m━━━━━━━━━━━━━━━━━━━━\u001b[0m\u001b[37m\u001b[0m \u001b[1m43s\u001b[0m 15ms/step - loss: 1.6675\n",
            "Epoch 7/20\n",
            "\u001b[1m2925/2928\u001b[0m \u001b[32m━━━━━━━━━━━━━━━━━━━\u001b[0m\u001b[37m━\u001b[0m \u001b[1m0s\u001b[0m 9ms/step - loss: 1.6493model_gru.keras\n",
            "\n",
            " mean perplexity: 6.586512714930383 \n",
            "\n",
            "Saved new model!\n",
            "\u001b[1m2928/2928\u001b[0m \u001b[32m━━━━━━━━━━━━━━━━━━━━\u001b[0m\u001b[37m\u001b[0m \u001b[1m43s\u001b[0m 15ms/step - loss: 1.6493\n",
            "Epoch 8/20\n",
            "\u001b[1m2924/2928\u001b[0m \u001b[32m━━━━━━━━━━━━━━━━━━━\u001b[0m\u001b[37m━\u001b[0m \u001b[1m0s\u001b[0m 9ms/step - loss: 1.6359model_gru.keras\n",
            "\n",
            " mean perplexity: 6.52001634907184 \n",
            "\n",
            "Saved new model!\n",
            "\u001b[1m2928/2928\u001b[0m \u001b[32m━━━━━━━━━━━━━━━━━━━━\u001b[0m\u001b[37m\u001b[0m \u001b[1m43s\u001b[0m 15ms/step - loss: 1.6359\n",
            "Epoch 9/20\n",
            "\u001b[1m2923/2928\u001b[0m \u001b[32m━━━━━━━━━━━━━━━━━━━\u001b[0m\u001b[37m━\u001b[0m \u001b[1m0s\u001b[0m 9ms/step - loss: 1.6249model_gru.keras\n",
            "\n",
            " mean perplexity: 6.66016148688612 \n",
            "\n",
            "\u001b[1m2928/2928\u001b[0m \u001b[32m━━━━━━━━━━━━━━━━━━━━\u001b[0m\u001b[37m\u001b[0m \u001b[1m43s\u001b[0m 15ms/step - loss: 1.6249\n",
            "Epoch 10/20\n",
            "\u001b[1m2923/2928\u001b[0m \u001b[32m━━━━━━━━━━━━━━━━━━━\u001b[0m\u001b[37m━\u001b[0m \u001b[1m0s\u001b[0m 9ms/step - loss: 1.6162model_gru.keras\n",
            "\n",
            " mean perplexity: 7.144642864654196 \n",
            "\n",
            "\u001b[1m2928/2928\u001b[0m \u001b[32m━━━━━━━━━━━━━━━━━━━━\u001b[0m\u001b[37m\u001b[0m \u001b[1m43s\u001b[0m 15ms/step - loss: 1.6162\n",
            "Epoch 11/20\n",
            "\u001b[1m2928/2928\u001b[0m \u001b[32m━━━━━━━━━━━━━━━━━━━━\u001b[0m\u001b[37m\u001b[0m \u001b[1m0s\u001b[0m 9ms/step - loss: 1.6099model_gru.keras\n",
            "\n",
            " mean perplexity: 6.965140792623438 \n",
            "\n",
            "\u001b[1m2928/2928\u001b[0m \u001b[32m━━━━━━━━━━━━━━━━━━━━\u001b[0m\u001b[37m\u001b[0m \u001b[1m43s\u001b[0m 15ms/step - loss: 1.6099\n",
            "Epoch 12/20\n",
            "\u001b[1m2922/2928\u001b[0m \u001b[32m━━━━━━━━━━━━━━━━━━━\u001b[0m\u001b[37m━\u001b[0m \u001b[1m0s\u001b[0m 9ms/step - loss: 1.6046model_gru.keras\n",
            "\n",
            " mean perplexity: 7.289597341901713 \n",
            "\n",
            "\u001b[1m2928/2928\u001b[0m \u001b[32m━━━━━━━━━━━━━━━━━━━━\u001b[0m\u001b[37m\u001b[0m \u001b[1m43s\u001b[0m 15ms/step - loss: 1.6046\n",
            "Epoch 13/20\n",
            "\u001b[1m2925/2928\u001b[0m \u001b[32m━━━━━━━━━━━━━━━━━━━\u001b[0m\u001b[37m━\u001b[0m \u001b[1m0s\u001b[0m 9ms/step - loss: 1.5994model_gru.keras\n",
            "\n",
            " mean perplexity: 7.017668392623964 \n",
            "\n",
            "Stopping training...\n",
            "\u001b[1m2928/2928\u001b[0m \u001b[32m━━━━━━━━━━━━━━━━━━━━\u001b[0m\u001b[37m\u001b[0m \u001b[1m43s\u001b[0m 15ms/step - loss: 1.5994\n"
          ]
        }
      ]
    },
    {
      "cell_type": "code",
      "source": [
        "import matplotlib.pyplot as plt\n",
        "import seaborn as sns\n",
        "\n",
        "# Entrenamiento\n",
        "epoch_count = range(1, len(history_ppl_gru) + 1)\n",
        "sns.lineplot(x=epoch_count,  y=history_ppl_gru)\n",
        "plt.show()"
      ],
      "metadata": {
        "colab": {
          "base_uri": "https://localhost:8080/",
          "height": 433
        },
        "id": "_iAOlV-iewjg",
        "outputId": "8a1a66b1-9151-4b7e-a2de-07020c55751d"
      },
      "execution_count": 97,
      "outputs": [
        {
          "output_type": "display_data",
          "data": {
            "text/plain": [
              "<Figure size 640x480 with 1 Axes>"
            ],
            "image/png": "[encoded data removed]"
          },
          "metadata": {}
        }
      ]
    },
    {
      "cell_type": "code",
      "source": [
        "model_gru = keras.models.load_model('model_gru.keras')"
      ],
      "metadata": {
        "id": "Fn3xdT4en9Gw"
      },
      "execution_count": 107,
      "outputs": []
    },
    {
      "cell_type": "code",
      "source": [
        "# predicción con beam search\n",
        "salidas_gru = beam_search(model_gru,num_beams=20,num_words=25,input=\"el aire caliente fulgia como\", temp=0.5, mode=\"det\")"
      ],
      "metadata": {
        "colab": {
          "base_uri": "https://localhost:8080/"
        },
        "id": "voR7hxQUn3Qi",
        "outputId": "48443b27-999e-41dd-e379-3a42f3f99ba6"
      },
      "execution_count": 108,
      "outputs": [
        {
          "output_type": "stream",
          "name": "stdout",
          "text": [
            "0.5\n"
          ]
        }
      ]
    },
    {
      "cell_type": "code",
      "source": [
        "# veamos las salidas\n",
        "for d in salidas_gru:\n",
        "  print(decode(d))"
      ],
      "metadata": {
        "colab": {
          "base_uri": "https://localhost:8080/"
        },
        "id": "DWlCGaqIA3uO",
        "outputId": "e2375ac3-0ecf-45d6-a6b1-c9e3e7c6eead"
      },
      "execution_count": 109,
      "outputs": [
        {
          "output_type": "stream",
          "name": "stdout",
          "text": [
            "el aire caliente fulgia como untres de la\r\n",
            "compañera \n",
            "el aire caliente fulgia como untres de la\r\n",
            "compañía, \n",
            "el aire caliente fulgia como untres de la\r\n",
            "compañera,\n",
            "el aire caliente fulgia como untres de la\r\n",
            "compañera.\n",
            "el aire caliente fulgia como untres de la\r\n",
            "compañía d\n",
            "el aire caliente fulgia como untres de la\r\n",
            "compañía. \n",
            "el aire caliente fulgia como una\r\n",
            "muerto de las cerca\n",
            "el aire caliente fulgia como una\r\n",
            "muerto de las manos\n",
            "el aire caliente fulgia como untres de la\r\n",
            "compañía e\n",
            "el aire caliente fulgia como untres de la\r\n",
            "compañía c\n",
            "el aire caliente fulgia como untres de la\r\n",
            "compañía a\n",
            "el aire caliente fulgia como untres de la\r\n",
            "compañía y\n",
            "el aire caliente fulgia como untres de la\r\n",
            "compañada \n",
            "el aire caliente fulgia como untres de la\r\n",
            "compañara \n",
            "el aire caliente fulgia como untres de la\r\n",
            "compañía q\n",
            "el aire caliente fulgia como untres de la\r\n",
            "compañía p\n",
            "el aire caliente fulgia como untres de la\r\n",
            "compañía s\n",
            "el aire caliente fulgia como una mujer contra en la c\n",
            "el aire caliente fulgia como una mujer contra el\r\n",
            "cor\n",
            "el aire caliente fulgia como untres de la\r\n",
            "compañada,\n"
          ]
        }
      ]
    },
    {
      "cell_type": "markdown",
      "source": [
        "### LSTM"
      ],
      "metadata": {
        "id": "wevI0K_2J_1E"
      }
    },
    {
      "cell_type": "code",
      "source": [
        "from tensorflow.keras.models import Sequential\n",
        "from tensorflow.keras.layers import TimeDistributed, LSTM, Dense\n",
        "\n",
        "\n",
        "####\n",
        "model_lstm = Sequential()\n",
        "model_lstm.add(TimeDistributed(CategoryEncoding(num_tokens=vocab_size, output_mode = \"one_hot\"),input_shape=(None,1)))\n",
        "model_lstm.add(LSTM(120, return_sequences=True, dropout=0.1)) #remove reccurent_dropount since it slows the training disabled GPU\n",
        "model_lstm.add(Dense(vocab_size, activation='softmax'))\n",
        "\n",
        "model_lstm.compile(loss='sparse_categorical_crossentropy', optimizer='rmsprop')\n",
        "\n",
        "model_lstm.summary()"
      ],
      "metadata": {
        "colab": {
          "base_uri": "https://localhost:8080/",
          "height": 304
        },
        "id": "ZL0WkRjeB47u",
        "outputId": "f0a7d6b9-5739-42c7-be69-6750edf10a86"
      },
      "execution_count": 110,
      "outputs": [
        {
          "output_type": "stream",
          "name": "stderr",
          "text": [
            "/usr/local/lib/python3.11/dist-packages/keras/src/layers/core/wrapper.py:27: UserWarning: Do not pass an `input_shape`/`input_dim` argument to a layer. When using Sequential models, prefer using an `Input(shape)` object as the first layer in the model instead.\n",
            "  super().__init__(**kwargs)\n"
          ]
        },
        {
          "output_type": "display_data",
          "data": {
            "text/plain": [
              "\u001b[1mModel: \"sequential_12\"\u001b[0m\n"
            ],
            "text/html": [
              "<pre style=\"white-space:pre;overflow-x:auto;line-height:normal;font-family:Menlo,'DejaVu Sans Mono',consolas,'Courier New',monospace\"><span style=\"font-weight: bold\">Model: \"sequential_12\"</span>\n",
              "</pre>\n"
            ]
          },
          "metadata": {}
        },
        {
          "output_type": "display_data",
          "data": {
            "text/plain": [
              "┏━━━━━━━━━━━━━━━━━━━━━━━━━━━━━━━━━┳━━━━━━━━━━━━━━━━━━━━━━━━┳━━━━━━━━━━━━━━━┓\n",
              "┃\u001b[1m \u001b[0m\u001b[1mLayer (type)                   \u001b[0m\u001b[1m \u001b[0m┃\u001b[1m \u001b[0m\u001b[1mOutput Shape          \u001b[0m\u001b[1m \u001b[0m┃\u001b[1m \u001b[0m\u001b[1m      Param #\u001b[0m\u001b[1m \u001b[0m┃\n",
              "┡━━━━━━━━━━━━━━━━━━━━━━━━━━━━━━━━━╇━━━━━━━━━━━━━━━━━━━━━━━━╇━━━━━━━━━━━━━━━┩\n",
              "│ time_distributed_13             │ (\u001b[38;5;45mNone\u001b[0m, \u001b[38;5;45mNone\u001b[0m, \u001b[38;5;34m68\u001b[0m)       │             \u001b[38;5;34m0\u001b[0m │\n",
              "│ (\u001b[38;5;33mTimeDistributed\u001b[0m)               │                        │               │\n",
              "├─────────────────────────────────┼────────────────────────┼───────────────┤\n",
              "│ lstm_3 (\u001b[38;5;33mLSTM\u001b[0m)                   │ (\u001b[38;5;45mNone\u001b[0m, \u001b[38;5;45mNone\u001b[0m, \u001b[38;5;34m120\u001b[0m)      │        \u001b[38;5;34m90,720\u001b[0m │\n",
              "├─────────────────────────────────┼────────────────────────┼───────────────┤\n",
              "│ dense_11 (\u001b[38;5;33mDense\u001b[0m)                │ (\u001b[38;5;45mNone\u001b[0m, \u001b[38;5;45mNone\u001b[0m, \u001b[38;5;34m68\u001b[0m)       │         \u001b[38;5;34m8,228\u001b[0m │\n",
              "└─────────────────────────────────┴────────────────────────┴───────────────┘\n"
            ],
            "text/html": [
              "<pre style=\"white-space:pre;overflow-x:auto;line-height:normal;font-family:Menlo,'DejaVu Sans Mono',consolas,'Courier New',monospace\">┏━━━━━━━━━━━━━━━━━━━━━━━━━━━━━━━━━┳━━━━━━━━━━━━━━━━━━━━━━━━┳━━━━━━━━━━━━━━━┓\n",
              "┃<span style=\"font-weight: bold\"> Layer (type)                    </span>┃<span style=\"font-weight: bold\"> Output Shape           </span>┃<span style=\"font-weight: bold\">       Param # </span>┃\n",
              "┡━━━━━━━━━━━━━━━━━━━━━━━━━━━━━━━━━╇━━━━━━━━━━━━━━━━━━━━━━━━╇━━━━━━━━━━━━━━━┩\n",
              "│ time_distributed_13             │ (<span style=\"color: #00d7ff; text-decoration-color: #00d7ff\">None</span>, <span style=\"color: #00d7ff; text-decoration-color: #00d7ff\">None</span>, <span style=\"color: #00af00; text-decoration-color: #00af00\">68</span>)       │             <span style=\"color: #00af00; text-decoration-color: #00af00\">0</span> │\n",
              "│ (<span style=\"color: #0087ff; text-decoration-color: #0087ff\">TimeDistributed</span>)               │                        │               │\n",
              "├─────────────────────────────────┼────────────────────────┼───────────────┤\n",
              "│ lstm_3 (<span style=\"color: #0087ff; text-decoration-color: #0087ff\">LSTM</span>)                   │ (<span style=\"color: #00d7ff; text-decoration-color: #00d7ff\">None</span>, <span style=\"color: #00d7ff; text-decoration-color: #00d7ff\">None</span>, <span style=\"color: #00af00; text-decoration-color: #00af00\">120</span>)      │        <span style=\"color: #00af00; text-decoration-color: #00af00\">90,720</span> │\n",
              "├─────────────────────────────────┼────────────────────────┼───────────────┤\n",
              "│ dense_11 (<span style=\"color: #0087ff; text-decoration-color: #0087ff\">Dense</span>)                │ (<span style=\"color: #00d7ff; text-decoration-color: #00d7ff\">None</span>, <span style=\"color: #00d7ff; text-decoration-color: #00d7ff\">None</span>, <span style=\"color: #00af00; text-decoration-color: #00af00\">68</span>)       │         <span style=\"color: #00af00; text-decoration-color: #00af00\">8,228</span> │\n",
              "└─────────────────────────────────┴────────────────────────┴───────────────┘\n",
              "</pre>\n"
            ]
          },
          "metadata": {}
        },
        {
          "output_type": "display_data",
          "data": {
            "text/plain": [
              "\u001b[1m Total params: \u001b[0m\u001b[38;5;34m98,948\u001b[0m (386.52 KB)\n"
            ],
            "text/html": [
              "<pre style=\"white-space:pre;overflow-x:auto;line-height:normal;font-family:Menlo,'DejaVu Sans Mono',consolas,'Courier New',monospace\"><span style=\"font-weight: bold\"> Total params: </span><span style=\"color: #00af00; text-decoration-color: #00af00\">98,948</span> (386.52 KB)\n",
              "</pre>\n"
            ]
          },
          "metadata": {}
        },
        {
          "output_type": "display_data",
          "data": {
            "text/plain": [
              "\u001b[1m Trainable params: \u001b[0m\u001b[38;5;34m98,948\u001b[0m (386.52 KB)\n"
            ],
            "text/html": [
              "<pre style=\"white-space:pre;overflow-x:auto;line-height:normal;font-family:Menlo,'DejaVu Sans Mono',consolas,'Courier New',monospace\"><span style=\"font-weight: bold\"> Trainable params: </span><span style=\"color: #00af00; text-decoration-color: #00af00\">98,948</span> (386.52 KB)\n",
              "</pre>\n"
            ]
          },
          "metadata": {}
        },
        {
          "output_type": "display_data",
          "data": {
            "text/plain": [
              "\u001b[1m Non-trainable params: \u001b[0m\u001b[38;5;34m0\u001b[0m (0.00 B)\n"
            ],
            "text/html": [
              "<pre style=\"white-space:pre;overflow-x:auto;line-height:normal;font-family:Menlo,'DejaVu Sans Mono',consolas,'Courier New',monospace\"><span style=\"font-weight: bold\"> Non-trainable params: </span><span style=\"color: #00af00; text-decoration-color: #00af00\">0</span> (0.00 B)\n",
              "</pre>\n"
            ]
          },
          "metadata": {}
        }
      ]
    },
    {
      "cell_type": "code",
      "source": [
        "history_ppl_lstm = []\n",
        "hist_lstm = model_lstm.fit(X, y, epochs=20, callbacks=[PplCallback(tokenized_sentences_val,history_ppl_lstm, name_model=\"model_lstm.keras\")], batch_size=150)"
      ],
      "metadata": {
        "colab": {
          "base_uri": "https://localhost:8080/"
        },
        "id": "tHmT7SDgCUbz",
        "outputId": "484fa1a5-745c-48a7-db0a-6766ba3f0a23"
      },
      "execution_count": 104,
      "outputs": [
        {
          "output_type": "stream",
          "name": "stdout",
          "text": [
            "Epoch 1/20\n",
            "\u001b[1m2923/2928\u001b[0m \u001b[32m━━━━━━━━━━━━━━━━━━━\u001b[0m\u001b[37m━\u001b[0m \u001b[1m0s\u001b[0m 9ms/step - loss: 2.6298model_lstm.keras\n",
            "\n",
            " mean perplexity: 9.537123638501647 \n",
            "\n",
            "Saved new model!\n",
            "\u001b[1m2928/2928\u001b[0m \u001b[32m━━━━━━━━━━━━━━━━━━━━\u001b[0m\u001b[37m\u001b[0m \u001b[1m52s\u001b[0m 16ms/step - loss: 2.6293\n",
            "Epoch 2/20\n",
            "\u001b[1m2927/2928\u001b[0m \u001b[32m━━━━━━━━━━━━━━━━━━━\u001b[0m\u001b[37m━\u001b[0m \u001b[1m0s\u001b[0m 9ms/step - loss: 2.1631model_lstm.keras\n",
            "\n",
            " mean perplexity: 8.805992858855387 \n",
            "\n",
            "Saved new model!\n",
            "\u001b[1m2928/2928\u001b[0m \u001b[32m━━━━━━━━━━━━━━━━━━━━\u001b[0m\u001b[37m\u001b[0m \u001b[1m43s\u001b[0m 15ms/step - loss: 2.1631\n",
            "Epoch 3/20\n",
            "\u001b[1m2924/2928\u001b[0m \u001b[32m━━━━━━━━━━━━━━━━━━━\u001b[0m\u001b[37m━\u001b[0m \u001b[1m0s\u001b[0m 9ms/step - loss: 2.0720model_lstm.keras\n",
            "\n",
            " mean perplexity: 8.532348346416466 \n",
            "\n",
            "Saved new model!\n",
            "\u001b[1m2928/2928\u001b[0m \u001b[32m━━━━━━━━━━━━━━━━━━━━\u001b[0m\u001b[37m\u001b[0m \u001b[1m43s\u001b[0m 15ms/step - loss: 2.0719\n",
            "Epoch 4/20\n",
            "\u001b[1m2925/2928\u001b[0m \u001b[32m━━━━━━━━━━━━━━━━━━━\u001b[0m\u001b[37m━\u001b[0m \u001b[1m0s\u001b[0m 9ms/step - loss: 2.0108model_lstm.keras\n",
            "\n",
            " mean perplexity: 8.02657314492447 \n",
            "\n",
            "Saved new model!\n",
            "\u001b[1m2928/2928\u001b[0m \u001b[32m━━━━━━━━━━━━━━━━━━━━\u001b[0m\u001b[37m\u001b[0m \u001b[1m43s\u001b[0m 15ms/step - loss: 2.0108\n",
            "Epoch 5/20\n",
            "\u001b[1m2928/2928\u001b[0m \u001b[32m━━━━━━━━━━━━━━━━━━━━\u001b[0m\u001b[37m\u001b[0m \u001b[1m0s\u001b[0m 9ms/step - loss: 1.9672model_lstm.keras\n",
            "\n",
            " mean perplexity: 7.7996597270456425 \n",
            "\n",
            "Saved new model!\n",
            "\u001b[1m2928/2928\u001b[0m \u001b[32m━━━━━━━━━━━━━━━━━━━━\u001b[0m\u001b[37m\u001b[0m \u001b[1m43s\u001b[0m 15ms/step - loss: 1.9672\n",
            "Epoch 6/20\n",
            "\u001b[1m2925/2928\u001b[0m \u001b[32m━━━━━━━━━━━━━━━━━━━\u001b[0m\u001b[37m━\u001b[0m \u001b[1m0s\u001b[0m 9ms/step - loss: 1.9344model_lstm.keras\n",
            "\n",
            " mean perplexity: 7.766424433161835 \n",
            "\n",
            "Saved new model!\n",
            "\u001b[1m2928/2928\u001b[0m \u001b[32m━━━━━━━━━━━━━━━━━━━━\u001b[0m\u001b[37m\u001b[0m \u001b[1m44s\u001b[0m 15ms/step - loss: 1.9344\n",
            "Epoch 7/20\n",
            "\u001b[1m2926/2928\u001b[0m \u001b[32m━━━━━━━━━━━━━━━━━━━\u001b[0m\u001b[37m━\u001b[0m \u001b[1m0s\u001b[0m 9ms/step - loss: 1.9085model_lstm.keras\n",
            "\n",
            " mean perplexity: 7.6401377561400805 \n",
            "\n",
            "Saved new model!\n",
            "\u001b[1m2928/2928\u001b[0m \u001b[32m━━━━━━━━━━━━━━━━━━━━\u001b[0m\u001b[37m\u001b[0m \u001b[1m43s\u001b[0m 15ms/step - loss: 1.9085\n",
            "Epoch 8/20\n",
            "\u001b[1m2923/2928\u001b[0m \u001b[32m━━━━━━━━━━━━━━━━━━━\u001b[0m\u001b[37m━\u001b[0m \u001b[1m0s\u001b[0m 9ms/step - loss: 1.8859model_lstm.keras\n",
            "\n",
            " mean perplexity: 7.528218057855688 \n",
            "\n",
            "Saved new model!\n",
            "\u001b[1m2928/2928\u001b[0m \u001b[32m━━━━━━━━━━━━━━━━━━━━\u001b[0m\u001b[37m\u001b[0m \u001b[1m43s\u001b[0m 15ms/step - loss: 1.8859\n",
            "Epoch 9/20\n",
            "\u001b[1m2923/2928\u001b[0m \u001b[32m━━━━━━━━━━━━━━━━━━━\u001b[0m\u001b[37m━\u001b[0m \u001b[1m0s\u001b[0m 9ms/step - loss: 1.8682model_lstm.keras\n",
            "\n",
            " mean perplexity: 7.4034739558946425 \n",
            "\n",
            "Saved new model!\n",
            "\u001b[1m2928/2928\u001b[0m \u001b[32m━━━━━━━━━━━━━━━━━━━━\u001b[0m\u001b[37m\u001b[0m \u001b[1m43s\u001b[0m 15ms/step - loss: 1.8682\n",
            "Epoch 10/20\n",
            "\u001b[1m2927/2928\u001b[0m \u001b[32m━━━━━━━━━━━━━━━━━━━\u001b[0m\u001b[37m━\u001b[0m \u001b[1m0s\u001b[0m 9ms/step - loss: 1.8528model_lstm.keras\n",
            "\n",
            " mean perplexity: 7.445789867358041 \n",
            "\n",
            "\u001b[1m2928/2928\u001b[0m \u001b[32m━━━━━━━━━━━━━━━━━━━━\u001b[0m\u001b[37m\u001b[0m \u001b[1m43s\u001b[0m 15ms/step - loss: 1.8528\n",
            "Epoch 11/20\n",
            "\u001b[1m2926/2928\u001b[0m \u001b[32m━━━━━━━━━━━━━━━━━━━\u001b[0m\u001b[37m━\u001b[0m \u001b[1m0s\u001b[0m 9ms/step - loss: 1.8400model_lstm.keras\n",
            "\n",
            " mean perplexity: 8.096309059699212 \n",
            "\n",
            "\u001b[1m2928/2928\u001b[0m \u001b[32m━━━━━━━━━━━━━━━━━━━━\u001b[0m\u001b[37m\u001b[0m \u001b[1m43s\u001b[0m 15ms/step - loss: 1.8400\n",
            "Epoch 12/20\n",
            "\u001b[1m2926/2928\u001b[0m \u001b[32m━━━━━━━━━━━━━━━━━━━\u001b[0m\u001b[37m━\u001b[0m \u001b[1m0s\u001b[0m 9ms/step - loss: 1.8282model_lstm.keras\n",
            "\n",
            " mean perplexity: 8.730692079669396 \n",
            "\n",
            "\u001b[1m2928/2928\u001b[0m \u001b[32m━━━━━━━━━━━━━━━━━━━━\u001b[0m\u001b[37m\u001b[0m \u001b[1m43s\u001b[0m 15ms/step - loss: 1.8281\n",
            "Epoch 13/20\n",
            "\u001b[1m2925/2928\u001b[0m \u001b[32m━━━━━━━━━━━━━━━━━━━\u001b[0m\u001b[37m━\u001b[0m \u001b[1m0s\u001b[0m 9ms/step - loss: 1.8187model_lstm.keras\n",
            "\n",
            " mean perplexity: 7.656974553572324 \n",
            "\n",
            "\u001b[1m2928/2928\u001b[0m \u001b[32m━━━━━━━━━━━━━━━━━━━━\u001b[0m\u001b[37m\u001b[0m \u001b[1m43s\u001b[0m 15ms/step - loss: 1.8187\n",
            "Epoch 14/20\n",
            "\u001b[1m2928/2928\u001b[0m \u001b[32m━━━━━━━━━━━━━━━━━━━━\u001b[0m\u001b[37m\u001b[0m \u001b[1m0s\u001b[0m 9ms/step - loss: 1.8094model_lstm.keras\n",
            "\n",
            " mean perplexity: 7.631732804574516 \n",
            "\n",
            "Stopping training...\n",
            "\u001b[1m2928/2928\u001b[0m \u001b[32m━━━━━━━━━━━━━━━━━━━━\u001b[0m\u001b[37m\u001b[0m \u001b[1m44s\u001b[0m 15ms/step - loss: 1.8094\n"
          ]
        }
      ]
    },
    {
      "cell_type": "code",
      "source": [
        "import matplotlib.pyplot as plt\n",
        "import seaborn as sns\n",
        "\n",
        "# Entrenamiento\n",
        "epoch_count = range(1, len(history_ppl_lstm) + 1)\n",
        "sns.lineplot(x=epoch_count,  y=history_ppl_lstm)\n",
        "plt.show()"
      ],
      "metadata": {
        "colab": {
          "base_uri": "https://localhost:8080/",
          "height": 430
        },
        "id": "2wYYZcFVDBjP",
        "outputId": "86f23c14-447f-47b2-cf1e-8430278e4a69"
      },
      "execution_count": 105,
      "outputs": [
        {
          "output_type": "display_data",
          "data": {
            "text/plain": [
              "<Figure size 640x480 with 1 Axes>"
            ],
            "image/png": "[encoded data removed]"
          },
          "metadata": {}
        }
      ]
    },
    {
      "cell_type": "code",
      "source": [
        "model_lstm = keras.models.load_model('model_lstm.keras')"
      ],
      "metadata": {
        "id": "LuqHXMsYH_CB"
      },
      "execution_count": 111,
      "outputs": []
    },
    {
      "cell_type": "code",
      "source": [
        "# predicción con beam search\n",
        "salidas_lstm = beam_search(model_lstm,num_beams=20,num_words=25,input=\"el aire caliente fulgia como\", temp=0.5, mode=\"det\")"
      ],
      "metadata": {
        "colab": {
          "base_uri": "https://localhost:8080/"
        },
        "id": "YugUD4jhIDlv",
        "outputId": "e03c7f2c-0a26-4ca7-ac63-799945338626"
      },
      "execution_count": 112,
      "outputs": [
        {
          "output_type": "stream",
          "name": "stdout",
          "text": [
            "0.5\n"
          ]
        }
      ]
    },
    {
      "cell_type": "code",
      "source": [
        "# veamos las salidas\n",
        "for d in salidas_lstm:\n",
        "  print(decode(d))"
      ],
      "metadata": {
        "colab": {
          "base_uri": "https://localhost:8080/"
        },
        "id": "gxSTBFtYJRIw",
        "outputId": "0be95301-b8d7-4cec-b32c-8eb97a900dc5"
      },
      "execution_count": 113,
      "outputs": [
        {
          "output_type": "stream",
          "name": "stdout",
          "text": [
            "el aire caliente fulgia como que los caucheros de los\n",
            "el aire caliente fulgia como que los caucheros, para \n",
            "el aire caliente fulgia como que los compañeros de la\n",
            "el aire caliente fulgia como que los caucheros con la\n",
            "el aire caliente fulgia como que los compresas de la \n",
            "el aire caliente fulgia como que los caucheros de la \n",
            "el aire caliente fulgia como que nos compañeros de la\n",
            "el aire caliente fulgia como que los compañeros, por \n",
            "el aire caliente fulgia como que los caucheros de las\n",
            "el aire caliente fulgia como que los compresas de las\n",
            "el aire caliente fulgia como que los caucheros de lar\n",
            "el aire caliente fulgia como que los compañeros de lo\n",
            "el aire caliente fulgia como que los compresas de los\n",
            "el aire caliente fulgia como que los caucheros con lo\n",
            "el aire caliente fulgia como que los caucheros de mi \n",
            "el aire caliente fulgia como que los caucheros de sus\n",
            "el aire caliente fulgia como que nos compañeros de lo\n",
            "el aire caliente fulgia como que los caucheros, de la\n",
            "el aire caliente fulgia como que los caucheros de lal\n",
            "el aire caliente fulgia como que los caucheros de mis\n"
          ]
        }
      ]
    },
    {
      "cell_type": "markdown",
      "source": [
        "### Bidirectional GRU"
      ],
      "metadata": {
        "id": "8PhPVVYjKDih"
      }
    },
    {
      "cell_type": "code",
      "source": [
        "from tensorflow.keras.models import Sequential\n",
        "from tensorflow.keras.layers import TimeDistributed, GRU, Bidirectional, Dense\n",
        "\n",
        "\n",
        "####\n",
        "model_gru_bidirectioal = Sequential()\n",
        "model_gru_bidirectioal.add(TimeDistributed(CategoryEncoding(num_tokens=vocab_size, output_mode = \"one_hot\"),input_shape=(None,1)))\n",
        "model_gru_bidirectioal.add(Bidirectional(GRU(120, return_sequences=True, dropout=0.1))) #remove reccurent_dropount since it slows the training disabled GPU\n",
        "model_gru_bidirectioal.add(Dense(vocab_size, activation='softmax'))\n",
        "model_gru_bidirectioal.compile(loss='sparse_categorical_crossentropy', optimizer='rmsprop')\n",
        "model_gru_bidirectioal.summary()\n"
      ],
      "metadata": {
        "colab": {
          "base_uri": "https://localhost:8080/",
          "height": 304
        },
        "id": "-sbbKC8UJSev",
        "outputId": "942274a7-0d72-4494-81ae-dfdacc40d1e5"
      },
      "execution_count": 117,
      "outputs": [
        {
          "output_type": "stream",
          "name": "stderr",
          "text": [
            "/usr/local/lib/python3.11/dist-packages/keras/src/layers/core/wrapper.py:27: UserWarning: Do not pass an `input_shape`/`input_dim` argument to a layer. When using Sequential models, prefer using an `Input(shape)` object as the first layer in the model instead.\n",
            "  super().__init__(**kwargs)\n"
          ]
        },
        {
          "output_type": "display_data",
          "data": {
            "text/plain": [
              "\u001b[1mModel: \"sequential_15\"\u001b[0m\n"
            ],
            "text/html": [
              "<pre style=\"white-space:pre;overflow-x:auto;line-height:normal;font-family:Menlo,'DejaVu Sans Mono',consolas,'Courier New',monospace\"><span style=\"font-weight: bold\">Model: \"sequential_15\"</span>\n",
              "</pre>\n"
            ]
          },
          "metadata": {}
        },
        {
          "output_type": "display_data",
          "data": {
            "text/plain": [
              "┏━━━━━━━━━━━━━━━━━━━━━━━━━━━━━━━━━┳━━━━━━━━━━━━━━━━━━━━━━━━┳━━━━━━━━━━━━━━━┓\n",
              "┃\u001b[1m \u001b[0m\u001b[1mLayer (type)                   \u001b[0m\u001b[1m \u001b[0m┃\u001b[1m \u001b[0m\u001b[1mOutput Shape          \u001b[0m\u001b[1m \u001b[0m┃\u001b[1m \u001b[0m\u001b[1m      Param #\u001b[0m\u001b[1m \u001b[0m┃\n",
              "┡━━━━━━━━━━━━━━━━━━━━━━━━━━━━━━━━━╇━━━━━━━━━━━━━━━━━━━━━━━━╇━━━━━━━━━━━━━━━┩\n",
              "│ time_distributed_16             │ (\u001b[38;5;45mNone\u001b[0m, \u001b[38;5;45mNone\u001b[0m, \u001b[38;5;34m68\u001b[0m)       │             \u001b[38;5;34m0\u001b[0m │\n",
              "│ (\u001b[38;5;33mTimeDistributed\u001b[0m)               │                        │               │\n",
              "├─────────────────────────────────┼────────────────────────┼───────────────┤\n",
              "│ bidirectional_4 (\u001b[38;5;33mBidirectional\u001b[0m) │ (\u001b[38;5;45mNone\u001b[0m, \u001b[38;5;45mNone\u001b[0m, \u001b[38;5;34m240\u001b[0m)      │       \u001b[38;5;34m136,800\u001b[0m │\n",
              "├─────────────────────────────────┼────────────────────────┼───────────────┤\n",
              "│ dense_14 (\u001b[38;5;33mDense\u001b[0m)                │ (\u001b[38;5;45mNone\u001b[0m, \u001b[38;5;45mNone\u001b[0m, \u001b[38;5;34m68\u001b[0m)       │        \u001b[38;5;34m16,388\u001b[0m │\n",
              "└─────────────────────────────────┴────────────────────────┴───────────────┘\n"
            ],
            "text/html": [
              "<pre style=\"white-space:pre;overflow-x:auto;line-height:normal;font-family:Menlo,'DejaVu Sans Mono',consolas,'Courier New',monospace\">┏━━━━━━━━━━━━━━━━━━━━━━━━━━━━━━━━━┳━━━━━━━━━━━━━━━━━━━━━━━━┳━━━━━━━━━━━━━━━┓\n",
              "┃<span style=\"font-weight: bold\"> Layer (type)                    </span>┃<span style=\"font-weight: bold\"> Output Shape           </span>┃<span style=\"font-weight: bold\">       Param # </span>┃\n",
              "┡━━━━━━━━━━━━━━━━━━━━━━━━━━━━━━━━━╇━━━━━━━━━━━━━━━━━━━━━━━━╇━━━━━━━━━━━━━━━┩\n",
              "│ time_distributed_16             │ (<span style=\"color: #00d7ff; text-decoration-color: #00d7ff\">None</span>, <span style=\"color: #00d7ff; text-decoration-color: #00d7ff\">None</span>, <span style=\"color: #00af00; text-decoration-color: #00af00\">68</span>)       │             <span style=\"color: #00af00; text-decoration-color: #00af00\">0</span> │\n",
              "│ (<span style=\"color: #0087ff; text-decoration-color: #0087ff\">TimeDistributed</span>)               │                        │               │\n",
              "├─────────────────────────────────┼────────────────────────┼───────────────┤\n",
              "│ bidirectional_4 (<span style=\"color: #0087ff; text-decoration-color: #0087ff\">Bidirectional</span>) │ (<span style=\"color: #00d7ff; text-decoration-color: #00d7ff\">None</span>, <span style=\"color: #00d7ff; text-decoration-color: #00d7ff\">None</span>, <span style=\"color: #00af00; text-decoration-color: #00af00\">240</span>)      │       <span style=\"color: #00af00; text-decoration-color: #00af00\">136,800</span> │\n",
              "├─────────────────────────────────┼────────────────────────┼───────────────┤\n",
              "│ dense_14 (<span style=\"color: #0087ff; text-decoration-color: #0087ff\">Dense</span>)                │ (<span style=\"color: #00d7ff; text-decoration-color: #00d7ff\">None</span>, <span style=\"color: #00d7ff; text-decoration-color: #00d7ff\">None</span>, <span style=\"color: #00af00; text-decoration-color: #00af00\">68</span>)       │        <span style=\"color: #00af00; text-decoration-color: #00af00\">16,388</span> │\n",
              "└─────────────────────────────────┴────────────────────────┴───────────────┘\n",
              "</pre>\n"
            ]
          },
          "metadata": {}
        },
        {
          "output_type": "display_data",
          "data": {
            "text/plain": [
              "\u001b[1m Total params: \u001b[0m\u001b[38;5;34m153,188\u001b[0m (598.39 KB)\n"
            ],
            "text/html": [
              "<pre style=\"white-space:pre;overflow-x:auto;line-height:normal;font-family:Menlo,'DejaVu Sans Mono',consolas,'Courier New',monospace\"><span style=\"font-weight: bold\"> Total params: </span><span style=\"color: #00af00; text-decoration-color: #00af00\">153,188</span> (598.39 KB)\n",
              "</pre>\n"
            ]
          },
          "metadata": {}
        },
        {
          "output_type": "display_data",
          "data": {
            "text/plain": [
              "\u001b[1m Trainable params: \u001b[0m\u001b[38;5;34m153,188\u001b[0m (598.39 KB)\n"
            ],
            "text/html": [
              "<pre style=\"white-space:pre;overflow-x:auto;line-height:normal;font-family:Menlo,'DejaVu Sans Mono',consolas,'Courier New',monospace\"><span style=\"font-weight: bold\"> Trainable params: </span><span style=\"color: #00af00; text-decoration-color: #00af00\">153,188</span> (598.39 KB)\n",
              "</pre>\n"
            ]
          },
          "metadata": {}
        },
        {
          "output_type": "display_data",
          "data": {
            "text/plain": [
              "\u001b[1m Non-trainable params: \u001b[0m\u001b[38;5;34m0\u001b[0m (0.00 B)\n"
            ],
            "text/html": [
              "<pre style=\"white-space:pre;overflow-x:auto;line-height:normal;font-family:Menlo,'DejaVu Sans Mono',consolas,'Courier New',monospace\"><span style=\"font-weight: bold\"> Non-trainable params: </span><span style=\"color: #00af00; text-decoration-color: #00af00\">0</span> (0.00 B)\n",
              "</pre>\n"
            ]
          },
          "metadata": {}
        }
      ]
    },
    {
      "cell_type": "code",
      "source": [
        "history_ppl_gru_bidirectional = []\n",
        "hist_gru_bidirectional = model_gru_bidirectioal.fit(X, y, epochs=20, callbacks=[PplCallback(tokenized_sentences_val,history_ppl_gru_bidirectional, name_model=\"model_gru_bidirectional.keras\")], batch_size=150)"
      ],
      "metadata": {
        "colab": {
          "base_uri": "https://localhost:8080/"
        },
        "id": "_f7bSsT4Kar1",
        "outputId": "7b334de2-8272-440d-c230-e1bd6c2566e6"
      },
      "execution_count": 118,
      "outputs": [
        {
          "output_type": "stream",
          "name": "stdout",
          "text": [
            "Epoch 1/20\n",
            "\u001b[1m2925/2928\u001b[0m \u001b[32m━━━━━━━━━━━━━━━━━━━\u001b[0m\u001b[37m━\u001b[0m \u001b[1m0s\u001b[0m 13ms/step - loss: 0.7259model_gru_bidirectional.keras\n",
            "\n",
            " mean perplexity: 9.894390237404826 \n",
            "\n",
            "Saved new model!\n",
            "\u001b[1m2928/2928\u001b[0m \u001b[32m━━━━━━━━━━━━━━━━━━━━\u001b[0m\u001b[37m\u001b[0m \u001b[1m69s\u001b[0m 22ms/step - loss: 0.7253\n",
            "Epoch 2/20\n",
            "\u001b[1m2928/2928\u001b[0m \u001b[32m━━━━━━━━━━━━━━━━━━━━\u001b[0m\u001b[37m\u001b[0m \u001b[1m0s\u001b[0m 13ms/step - loss: 0.1375model_gru_bidirectional.keras\n",
            "\n",
            " mean perplexity: 9.342555483263865 \n",
            "\n",
            "Saved new model!\n",
            "\u001b[1m2928/2928\u001b[0m \u001b[32m━━━━━━━━━━━━━━━━━━━━\u001b[0m\u001b[37m\u001b[0m \u001b[1m61s\u001b[0m 21ms/step - loss: 0.1375\n",
            "Epoch 3/20\n",
            "\u001b[1m2927/2928\u001b[0m \u001b[32m━━━━━━━━━━━━━━━━━━━\u001b[0m\u001b[37m━\u001b[0m \u001b[1m0s\u001b[0m 13ms/step - loss: 0.1142model_gru_bidirectional.keras\n",
            "\n",
            " mean perplexity: 8.810324923948096 \n",
            "\n",
            "Saved new model!\n",
            "\u001b[1m2928/2928\u001b[0m \u001b[32m━━━━━━━━━━━━━━━━━━━━\u001b[0m\u001b[37m\u001b[0m \u001b[1m62s\u001b[0m 21ms/step - loss: 0.1142\n",
            "Epoch 4/20\n",
            "\u001b[1m2928/2928\u001b[0m \u001b[32m━━━━━━━━━━━━━━━━━━━━\u001b[0m\u001b[37m\u001b[0m \u001b[1m0s\u001b[0m 13ms/step - loss: 0.1031model_gru_bidirectional.keras\n",
            "\n",
            " mean perplexity: 8.526112291602383 \n",
            "\n",
            "Saved new model!\n",
            "\u001b[1m2928/2928\u001b[0m \u001b[32m━━━━━━━━━━━━━━━━━━━━\u001b[0m\u001b[37m\u001b[0m \u001b[1m61s\u001b[0m 21ms/step - loss: 0.1031\n",
            "Epoch 5/20\n",
            "\u001b[1m2928/2928\u001b[0m \u001b[32m━━━━━━━━━━━━━━━━━━━━\u001b[0m\u001b[37m\u001b[0m \u001b[1m0s\u001b[0m 13ms/step - loss: 0.0958model_gru_bidirectional.keras\n",
            "\n",
            " mean perplexity: 8.323895287464776 \n",
            "\n",
            "Saved new model!\n",
            "\u001b[1m2928/2928\u001b[0m \u001b[32m━━━━━━━━━━━━━━━━━━━━\u001b[0m\u001b[37m\u001b[0m \u001b[1m61s\u001b[0m 21ms/step - loss: 0.0958\n",
            "Epoch 6/20\n",
            "\u001b[1m2925/2928\u001b[0m \u001b[32m━━━━━━━━━━━━━━━━━━━\u001b[0m\u001b[37m━\u001b[0m \u001b[1m0s\u001b[0m 13ms/step - loss: 0.0900model_gru_bidirectional.keras\n",
            "\n",
            " mean perplexity: 8.131577949014778 \n",
            "\n",
            "Saved new model!\n",
            "\u001b[1m2928/2928\u001b[0m \u001b[32m━━━━━━━━━━━━━━━━━━━━\u001b[0m\u001b[37m\u001b[0m \u001b[1m61s\u001b[0m 21ms/step - loss: 0.0900\n",
            "Epoch 7/20\n",
            "\u001b[1m2926/2928\u001b[0m \u001b[32m━━━━━━━━━━━━━━━━━━━\u001b[0m\u001b[37m━\u001b[0m \u001b[1m0s\u001b[0m 13ms/step - loss: 0.0846model_gru_bidirectional.keras\n",
            "\n",
            " mean perplexity: 7.934081884380238 \n",
            "\n",
            "Saved new model!\n",
            "\u001b[1m2928/2928\u001b[0m \u001b[32m━━━━━━━━━━━━━━━━━━━━\u001b[0m\u001b[37m\u001b[0m \u001b[1m61s\u001b[0m 21ms/step - loss: 0.0846\n",
            "Epoch 8/20\n",
            "\u001b[1m2927/2928\u001b[0m \u001b[32m━━━━━━━━━━━━━━━━━━━\u001b[0m\u001b[37m━\u001b[0m \u001b[1m0s\u001b[0m 13ms/step - loss: 0.0811model_gru_bidirectional.keras\n",
            "\n",
            " mean perplexity: 7.832693965528046 \n",
            "\n",
            "Saved new model!\n",
            "\u001b[1m2928/2928\u001b[0m \u001b[32m━━━━━━━━━━━━━━━━━━━━\u001b[0m\u001b[37m\u001b[0m \u001b[1m61s\u001b[0m 21ms/step - loss: 0.0811\n",
            "Epoch 9/20\n",
            "\u001b[1m2928/2928\u001b[0m \u001b[32m━━━━━━━━━━━━━━━━━━━━\u001b[0m\u001b[37m\u001b[0m \u001b[1m0s\u001b[0m 13ms/step - loss: 0.0781model_gru_bidirectional.keras\n",
            "\n",
            " mean perplexity: 7.681915663595807 \n",
            "\n",
            "Saved new model!\n",
            "\u001b[1m2928/2928\u001b[0m \u001b[32m━━━━━━━━━━━━━━━━━━━━\u001b[0m\u001b[37m\u001b[0m \u001b[1m62s\u001b[0m 21ms/step - loss: 0.0781\n",
            "Epoch 10/20\n",
            "\u001b[1m2926/2928\u001b[0m \u001b[32m━━━━━━━━━━━━━━━━━━━\u001b[0m\u001b[37m━\u001b[0m \u001b[1m0s\u001b[0m 13ms/step - loss: 0.0758model_gru_bidirectional.keras\n",
            "\n",
            " mean perplexity: 7.578070934303487 \n",
            "\n",
            "Saved new model!\n",
            "\u001b[1m2928/2928\u001b[0m \u001b[32m━━━━━━━━━━━━━━━━━━━━\u001b[0m\u001b[37m\u001b[0m \u001b[1m61s\u001b[0m 21ms/step - loss: 0.0758\n",
            "Epoch 11/20\n",
            "\u001b[1m2928/2928\u001b[0m \u001b[32m━━━━━━━━━━━━━━━━━━━━\u001b[0m\u001b[37m\u001b[0m \u001b[1m0s\u001b[0m 13ms/step - loss: 0.0740model_gru_bidirectional.keras\n",
            "\n",
            " mean perplexity: 7.5584522365789395 \n",
            "\n",
            "Saved new model!\n",
            "\u001b[1m2928/2928\u001b[0m \u001b[32m━━━━━━━━━━━━━━━━━━━━\u001b[0m\u001b[37m\u001b[0m \u001b[1m61s\u001b[0m 21ms/step - loss: 0.0740\n",
            "Epoch 12/20\n",
            "\u001b[1m2925/2928\u001b[0m \u001b[32m━━━━━━━━━━━━━━━━━━━\u001b[0m\u001b[37m━\u001b[0m \u001b[1m0s\u001b[0m 13ms/step - loss: 0.0726model_gru_bidirectional.keras\n",
            "\n",
            " mean perplexity: 7.4412241638073935 \n",
            "\n",
            "Saved new model!\n",
            "\u001b[1m2928/2928\u001b[0m \u001b[32m━━━━━━━━━━━━━━━━━━━━\u001b[0m\u001b[37m\u001b[0m \u001b[1m61s\u001b[0m 21ms/step - loss: 0.0726\n",
            "Epoch 13/20\n",
            "\u001b[1m2927/2928\u001b[0m \u001b[32m━━━━━━━━━━━━━━━━━━━\u001b[0m\u001b[37m━\u001b[0m \u001b[1m0s\u001b[0m 13ms/step - loss: 0.0706model_gru_bidirectional.keras\n",
            "\n",
            " mean perplexity: 7.393212200435035 \n",
            "\n",
            "Saved new model!\n",
            "\u001b[1m2928/2928\u001b[0m \u001b[32m━━━━━━━━━━━━━━━━━━━━\u001b[0m\u001b[37m\u001b[0m \u001b[1m61s\u001b[0m 21ms/step - loss: 0.0706\n",
            "Epoch 14/20\n",
            "\u001b[1m2926/2928\u001b[0m \u001b[32m━━━━━━━━━━━━━━━━━━━\u001b[0m\u001b[37m━\u001b[0m \u001b[1m0s\u001b[0m 13ms/step - loss: 0.0697model_gru_bidirectional.keras\n",
            "\n",
            " mean perplexity: 7.296953917528814 \n",
            "\n",
            "Saved new model!\n",
            "\u001b[1m2928/2928\u001b[0m \u001b[32m━━━━━━━━━━━━━━━━━━━━\u001b[0m\u001b[37m\u001b[0m \u001b[1m61s\u001b[0m 21ms/step - loss: 0.0697\n",
            "Epoch 15/20\n",
            "\u001b[1m2928/2928\u001b[0m \u001b[32m━━━━━━━━━━━━━━━━━━━━\u001b[0m\u001b[37m\u001b[0m \u001b[1m0s\u001b[0m 13ms/step - loss: 0.0684model_gru_bidirectional.keras\n",
            "\n",
            " mean perplexity: 7.296234253250843 \n",
            "\n",
            "Saved new model!\n",
            "\u001b[1m2928/2928\u001b[0m \u001b[32m━━━━━━━━━━━━━━━━━━━━\u001b[0m\u001b[37m\u001b[0m \u001b[1m61s\u001b[0m 21ms/step - loss: 0.0684\n",
            "Epoch 16/20\n",
            "\u001b[1m2928/2928\u001b[0m \u001b[32m━━━━━━━━━━━━━━━━━━━━\u001b[0m\u001b[37m\u001b[0m \u001b[1m0s\u001b[0m 13ms/step - loss: 0.0672model_gru_bidirectional.keras\n",
            "\n",
            " mean perplexity: 7.209002245622983 \n",
            "\n",
            "Saved new model!\n",
            "\u001b[1m2928/2928\u001b[0m \u001b[32m━━━━━━━━━━━━━━━━━━━━\u001b[0m\u001b[37m\u001b[0m \u001b[1m62s\u001b[0m 21ms/step - loss: 0.0672\n",
            "Epoch 17/20\n",
            "\u001b[1m2925/2928\u001b[0m \u001b[32m━━━━━━━━━━━━━━━━━━━\u001b[0m\u001b[37m━\u001b[0m \u001b[1m0s\u001b[0m 13ms/step - loss: 0.0661model_gru_bidirectional.keras\n",
            "\n",
            " mean perplexity: 7.180232793153923 \n",
            "\n",
            "Saved new model!\n",
            "\u001b[1m2928/2928\u001b[0m \u001b[32m━━━━━━━━━━━━━━━━━━━━\u001b[0m\u001b[37m\u001b[0m \u001b[1m62s\u001b[0m 21ms/step - loss: 0.0661\n",
            "Epoch 18/20\n",
            "\u001b[1m2928/2928\u001b[0m \u001b[32m━━━━━━━━━━━━━━━━━━━━\u001b[0m\u001b[37m\u001b[0m \u001b[1m0s\u001b[0m 13ms/step - loss: 0.0653model_gru_bidirectional.keras\n",
            "\n",
            " mean perplexity: 7.187873197532043 \n",
            "\n",
            "\u001b[1m2928/2928\u001b[0m \u001b[32m━━━━━━━━━━━━━━━━━━━━\u001b[0m\u001b[37m\u001b[0m \u001b[1m62s\u001b[0m 21ms/step - loss: 0.0653\n",
            "Epoch 19/20\n",
            "\u001b[1m2928/2928\u001b[0m \u001b[32m━━━━━━━━━━━━━━━━━━━━\u001b[0m\u001b[37m\u001b[0m \u001b[1m0s\u001b[0m 13ms/step - loss: 0.0641model_gru_bidirectional.keras\n",
            "\n",
            " mean perplexity: 7.092747082210909 \n",
            "\n",
            "Saved new model!\n",
            "\u001b[1m2928/2928\u001b[0m \u001b[32m━━━━━━━━━━━━━━━━━━━━\u001b[0m\u001b[37m\u001b[0m \u001b[1m62s\u001b[0m 21ms/step - loss: 0.0641\n",
            "Epoch 20/20\n",
            "\u001b[1m2928/2928\u001b[0m \u001b[32m━━━━━━━━━━━━━━━━━━━━\u001b[0m\u001b[37m\u001b[0m \u001b[1m0s\u001b[0m 13ms/step - loss: 0.0634model_gru_bidirectional.keras\n",
            "\n",
            " mean perplexity: 7.0518811620481205 \n",
            "\n",
            "Saved new model!\n",
            "\u001b[1m2928/2928\u001b[0m \u001b[32m━━━━━━━━━━━━━━━━━━━━\u001b[0m\u001b[37m\u001b[0m \u001b[1m62s\u001b[0m 21ms/step - loss: 0.0634\n"
          ]
        }
      ]
    },
    {
      "cell_type": "markdown",
      "source": [],
      "metadata": {
        "id": "fJq6m6c2K_Xf"
      }
    },
    {
      "cell_type": "code",
      "source": [
        "import matplotlib.pyplot as plt\n",
        "import seaborn as sns\n",
        "\n",
        "# Entrenamiento\n",
        "epoch_count = range(1, len(history_ppl_gru_bidirectional) + 1)\n",
        "sns.lineplot(x=epoch_count,  y=history_ppl_gru_bidirectional)\n",
        "plt.show()"
      ],
      "metadata": {
        "colab": {
          "base_uri": "https://localhost:8080/",
          "height": 431
        },
        "id": "TRztotdoRcrs",
        "outputId": "6424ae3a-1fac-40fa-a406-fb69ac5e1f97"
      },
      "execution_count": 119,
      "outputs": [
        {
          "output_type": "display_data",
          "data": {
            "text/plain": [
              "<Figure size 640x480 with 1 Axes>"
            ],
            "image/png": "[encoded data removed]"
          },
          "metadata": {}
        }
      ]
    },
    {
      "cell_type": "code",
      "source": [
        "model_gru_bidirectional = keras.models.load_model('model_gru_bidirectional.keras')\n",
        "salidas_bidirectional_gru = beam_search(model_gru_bidirectional,num_beams=20,num_words=25,input=\"el aire caliente fulgia como\", temp=0.5, mode=\"det\")\n",
        "# veamos las salidas\n",
        "for d in salidas_bidirectional_gru:\n",
        "  print(decode(d))"
      ],
      "metadata": {
        "colab": {
          "base_uri": "https://localhost:8080/"
        },
        "id": "eZGqkkTtReRh",
        "outputId": "bfdadbac-4c81-4796-c5f7-f86b7655f7f4"
      },
      "execution_count": 120,
      "outputs": [
        {
          "output_type": "stream",
          "name": "stdout",
          "text": [
            "0.5\n",
            "el aire caliente fulgia como una tranca de las manos \n",
            "el aire caliente fulgia como una tranca de las manos.\n",
            "el aire caliente fulgia como una tranca de los desest\n",
            "el aire caliente fulgia como una tranca de los despon\n",
            "el aire caliente fulgia como una tranca de las manos,\n",
            "el aire caliente fulgia como una trancia de la conten\n",
            "el aire caliente fulgia como una destración de las la\n",
            "el aire caliente fulgia como una tranca de los descon\n",
            "el aire caliente fulgia como una tranca de las manosa\n",
            "el aire caliente fulgia como una trancia, en el conoc\n",
            "el aire caliente fulgia como una destración de las ma\n",
            "el aire caliente fulgia como una destración de la car\n",
            "el aire caliente fulgia como una tranca de los desora\n",
            "el aire caliente fulgia como una destración de la con\n",
            "el aire caliente fulgia como una tranca de los desari\n",
            "el aire caliente fulgia como una destración de las ce\n",
            "el aire caliente fulgia como una tranca de los descom\n",
            "el aire caliente fulgia como una tranca de los desesp\n",
            "el aire caliente fulgia como una tranca de los desper\n",
            "el aire caliente fulgia como una tranca de los desent\n"
          ]
        }
      ]
    },
    {
      "cell_type": "markdown",
      "source": [
        "### Bidirectional Single RNN"
      ],
      "metadata": {
        "id": "SDNfj_p5SEcJ"
      }
    },
    {
      "cell_type": "code",
      "source": [
        "from tensorflow.keras.models import Sequential\n",
        "from tensorflow.keras.layers import TimeDistributed, GRU, Bidirectional, Dense\n",
        "\n",
        "\n",
        "####\n",
        "model_rnn_bidirectioal = Sequential()\n",
        "model_rnn_bidirectioal.add(TimeDistributed(CategoryEncoding(num_tokens=vocab_size, output_mode = \"one_hot\"),input_shape=(None,1)))\n",
        "model_rnn_bidirectioal.add(Bidirectional(SimpleRNN(200, return_sequences=True, dropout=0.1))) #remove reccurent_dropount since it slows the training disabled GPU\n",
        "model_rnn_bidirectioal.add(Dense(vocab_size, activation='softmax'))\n",
        "model_rnn_bidirectioal.compile(loss='sparse_categorical_crossentropy', optimizer='rmsprop')\n",
        "model_rnn_bidirectioal.summary()\n"
      ],
      "metadata": {
        "colab": {
          "base_uri": "https://localhost:8080/",
          "height": 248
        },
        "id": "cQPLfariSHLK",
        "outputId": "3a831748-3537-4326-b8a4-478220638391"
      },
      "execution_count": 122,
      "outputs": [
        {
          "output_type": "display_data",
          "data": {
            "text/plain": [
              "\u001b[1mModel: \"sequential_17\"\u001b[0m\n"
            ],
            "text/html": [
              "<pre style=\"white-space:pre;overflow-x:auto;line-height:normal;font-family:Menlo,'DejaVu Sans Mono',consolas,'Courier New',monospace\"><span style=\"font-weight: bold\">Model: \"sequential_17\"</span>\n",
              "</pre>\n"
            ]
          },
          "metadata": {}
        },
        {
          "output_type": "display_data",
          "data": {
            "text/plain": [
              "┏━━━━━━━━━━━━━━━━━━━━━━━━━━━━━━━━━┳━━━━━━━━━━━━━━━━━━━━━━━━┳━━━━━━━━━━━━━━━┓\n",
              "┃\u001b[1m \u001b[0m\u001b[1mLayer (type)                   \u001b[0m\u001b[1m \u001b[0m┃\u001b[1m \u001b[0m\u001b[1mOutput Shape          \u001b[0m\u001b[1m \u001b[0m┃\u001b[1m \u001b[0m\u001b[1m      Param #\u001b[0m\u001b[1m \u001b[0m┃\n",
              "┡━━━━━━━━━━━━━━━━━━━━━━━━━━━━━━━━━╇━━━━━━━━━━━━━━━━━━━━━━━━╇━━━━━━━━━━━━━━━┩\n",
              "│ time_distributed_18             │ (\u001b[38;5;45mNone\u001b[0m, \u001b[38;5;45mNone\u001b[0m, \u001b[38;5;34m68\u001b[0m)       │             \u001b[38;5;34m0\u001b[0m │\n",
              "│ (\u001b[38;5;33mTimeDistributed\u001b[0m)               │                        │               │\n",
              "├─────────────────────────────────┼────────────────────────┼───────────────┤\n",
              "│ bidirectional_6 (\u001b[38;5;33mBidirectional\u001b[0m) │ (\u001b[38;5;45mNone\u001b[0m, \u001b[38;5;45mNone\u001b[0m, \u001b[38;5;34m400\u001b[0m)      │       \u001b[38;5;34m107,600\u001b[0m │\n",
              "├─────────────────────────────────┼────────────────────────┼───────────────┤\n",
              "│ dense_16 (\u001b[38;5;33mDense\u001b[0m)                │ (\u001b[38;5;45mNone\u001b[0m, \u001b[38;5;45mNone\u001b[0m, \u001b[38;5;34m68\u001b[0m)       │        \u001b[38;5;34m27,268\u001b[0m │\n",
              "└─────────────────────────────────┴────────────────────────┴───────────────┘\n"
            ],
            "text/html": [
              "<pre style=\"white-space:pre;overflow-x:auto;line-height:normal;font-family:Menlo,'DejaVu Sans Mono',consolas,'Courier New',monospace\">┏━━━━━━━━━━━━━━━━━━━━━━━━━━━━━━━━━┳━━━━━━━━━━━━━━━━━━━━━━━━┳━━━━━━━━━━━━━━━┓\n",
              "┃<span style=\"font-weight: bold\"> Layer (type)                    </span>┃<span style=\"font-weight: bold\"> Output Shape           </span>┃<span style=\"font-weight: bold\">       Param # </span>┃\n",
              "┡━━━━━━━━━━━━━━━━━━━━━━━━━━━━━━━━━╇━━━━━━━━━━━━━━━━━━━━━━━━╇━━━━━━━━━━━━━━━┩\n",
              "│ time_distributed_18             │ (<span style=\"color: #00d7ff; text-decoration-color: #00d7ff\">None</span>, <span style=\"color: #00d7ff; text-decoration-color: #00d7ff\">None</span>, <span style=\"color: #00af00; text-decoration-color: #00af00\">68</span>)       │             <span style=\"color: #00af00; text-decoration-color: #00af00\">0</span> │\n",
              "│ (<span style=\"color: #0087ff; text-decoration-color: #0087ff\">TimeDistributed</span>)               │                        │               │\n",
              "├─────────────────────────────────┼────────────────────────┼───────────────┤\n",
              "│ bidirectional_6 (<span style=\"color: #0087ff; text-decoration-color: #0087ff\">Bidirectional</span>) │ (<span style=\"color: #00d7ff; text-decoration-color: #00d7ff\">None</span>, <span style=\"color: #00d7ff; text-decoration-color: #00d7ff\">None</span>, <span style=\"color: #00af00; text-decoration-color: #00af00\">400</span>)      │       <span style=\"color: #00af00; text-decoration-color: #00af00\">107,600</span> │\n",
              "├─────────────────────────────────┼────────────────────────┼───────────────┤\n",
              "│ dense_16 (<span style=\"color: #0087ff; text-decoration-color: #0087ff\">Dense</span>)                │ (<span style=\"color: #00d7ff; text-decoration-color: #00d7ff\">None</span>, <span style=\"color: #00d7ff; text-decoration-color: #00d7ff\">None</span>, <span style=\"color: #00af00; text-decoration-color: #00af00\">68</span>)       │        <span style=\"color: #00af00; text-decoration-color: #00af00\">27,268</span> │\n",
              "└─────────────────────────────────┴────────────────────────┴───────────────┘\n",
              "</pre>\n"
            ]
          },
          "metadata": {}
        },
        {
          "output_type": "display_data",
          "data": {
            "text/plain": [
              "\u001b[1m Total params: \u001b[0m\u001b[38;5;34m134,868\u001b[0m (526.83 KB)\n"
            ],
            "text/html": [
              "<pre style=\"white-space:pre;overflow-x:auto;line-height:normal;font-family:Menlo,'DejaVu Sans Mono',consolas,'Courier New',monospace\"><span style=\"font-weight: bold\"> Total params: </span><span style=\"color: #00af00; text-decoration-color: #00af00\">134,868</span> (526.83 KB)\n",
              "</pre>\n"
            ]
          },
          "metadata": {}
        },
        {
          "output_type": "display_data",
          "data": {
            "text/plain": [
              "\u001b[1m Trainable params: \u001b[0m\u001b[38;5;34m134,868\u001b[0m (526.83 KB)\n"
            ],
            "text/html": [
              "<pre style=\"white-space:pre;overflow-x:auto;line-height:normal;font-family:Menlo,'DejaVu Sans Mono',consolas,'Courier New',monospace\"><span style=\"font-weight: bold\"> Trainable params: </span><span style=\"color: #00af00; text-decoration-color: #00af00\">134,868</span> (526.83 KB)\n",
              "</pre>\n"
            ]
          },
          "metadata": {}
        },
        {
          "output_type": "display_data",
          "data": {
            "text/plain": [
              "\u001b[1m Non-trainable params: \u001b[0m\u001b[38;5;34m0\u001b[0m (0.00 B)\n"
            ],
            "text/html": [
              "<pre style=\"white-space:pre;overflow-x:auto;line-height:normal;font-family:Menlo,'DejaVu Sans Mono',consolas,'Courier New',monospace\"><span style=\"font-weight: bold\"> Non-trainable params: </span><span style=\"color: #00af00; text-decoration-color: #00af00\">0</span> (0.00 B)\n",
              "</pre>\n"
            ]
          },
          "metadata": {}
        }
      ]
    },
    {
      "cell_type": "code",
      "source": [
        "history_ppl_rnn_bidirectional = []\n",
        "hist_rnn_bidirectional = model_rnn_bidirectioal.fit(X, y, epochs=20, callbacks=[PplCallback(tokenized_sentences_val,history_ppl_rnn_bidirectional, name_model=\"model_rnn_bidirectional.keras\")], batch_size=150)"
      ],
      "metadata": {
        "colab": {
          "base_uri": "https://localhost:8080/"
        },
        "id": "teBLbke5SRBS",
        "outputId": "31935711-8e23-479e-8672-ebbfad3fe866"
      },
      "execution_count": 123,
      "outputs": [
        {
          "output_type": "stream",
          "name": "stdout",
          "text": [
            "Epoch 1/20\n",
            "\u001b[1m2928/2928\u001b[0m \u001b[32m━━━━━━━━━━━━━━━━━━━━\u001b[0m\u001b[37m\u001b[0m \u001b[1m0s\u001b[0m 18ms/step - loss: 0.3893model_rnn_bidirectional.keras\n",
            "\n",
            " mean perplexity: 9.231399260996794 \n",
            "\n",
            "Saved new model!\n",
            "\u001b[1m2928/2928\u001b[0m \u001b[32m━━━━━━━━━━━━━━━━━━━━\u001b[0m\u001b[37m\u001b[0m \u001b[1m95s\u001b[0m 29ms/step - loss: 0.3892\n",
            "Epoch 2/20\n",
            "\u001b[1m2926/2928\u001b[0m \u001b[32m━━━━━━━━━━━━━━━━━━━\u001b[0m\u001b[37m━\u001b[0m \u001b[1m0s\u001b[0m 17ms/step - loss: 0.1157model_rnn_bidirectional.keras\n",
            "\n",
            " mean perplexity: 8.491491919915045 \n",
            "\n",
            "Saved new model!\n",
            "\u001b[1m2928/2928\u001b[0m \u001b[32m━━━━━━━━━━━━━━━━━━━━\u001b[0m\u001b[37m\u001b[0m \u001b[1m73s\u001b[0m 25ms/step - loss: 0.1157\n",
            "Epoch 3/20\n",
            "\u001b[1m2927/2928\u001b[0m \u001b[32m━━━━━━━━━━━━━━━━━━━\u001b[0m\u001b[37m━\u001b[0m \u001b[1m0s\u001b[0m 17ms/step - loss: 0.1021model_rnn_bidirectional.keras\n",
            "\n",
            " mean perplexity: 8.206436756455188 \n",
            "\n",
            "Saved new model!\n",
            "\u001b[1m2928/2928\u001b[0m \u001b[32m━━━━━━━━━━━━━━━━━━━━\u001b[0m\u001b[37m\u001b[0m \u001b[1m73s\u001b[0m 25ms/step - loss: 0.1021\n",
            "Epoch 4/20\n",
            "\u001b[1m2926/2928\u001b[0m \u001b[32m━━━━━━━━━━━━━━━━━━━\u001b[0m\u001b[37m━\u001b[0m \u001b[1m0s\u001b[0m 17ms/step - loss: 0.0936model_rnn_bidirectional.keras\n",
            "\n",
            " mean perplexity: 7.746033699850282 \n",
            "\n",
            "Saved new model!\n",
            "\u001b[1m2928/2928\u001b[0m \u001b[32m━━━━━━━━━━━━━━━━━━━━\u001b[0m\u001b[37m\u001b[0m \u001b[1m73s\u001b[0m 25ms/step - loss: 0.0936\n",
            "Epoch 5/20\n",
            "\u001b[1m2927/2928\u001b[0m \u001b[32m━━━━━━━━━━━━━━━━━━━\u001b[0m\u001b[37m━\u001b[0m \u001b[1m0s\u001b[0m 17ms/step - loss: 0.0872model_rnn_bidirectional.keras\n",
            "\n",
            " mean perplexity: 7.563907958643637 \n",
            "\n",
            "Saved new model!\n",
            "\u001b[1m2928/2928\u001b[0m \u001b[32m━━━━━━━━━━━━━━━━━━━━\u001b[0m\u001b[37m\u001b[0m \u001b[1m73s\u001b[0m 25ms/step - loss: 0.0872\n",
            "Epoch 6/20\n",
            "\u001b[1m2928/2928\u001b[0m \u001b[32m━━━━━━━━━━━━━━━━━━━━\u001b[0m\u001b[37m\u001b[0m \u001b[1m0s\u001b[0m 17ms/step - loss: 0.0835model_rnn_bidirectional.keras\n",
            "\n",
            " mean perplexity: 7.41481292810773 \n",
            "\n",
            "Saved new model!\n",
            "\u001b[1m2928/2928\u001b[0m \u001b[32m━━━━━━━━━━━━━━━━━━━━\u001b[0m\u001b[37m\u001b[0m \u001b[1m74s\u001b[0m 25ms/step - loss: 0.0835\n",
            "Epoch 7/20\n",
            "\u001b[1m2926/2928\u001b[0m \u001b[32m━━━━━━━━━━━━━━━━━━━\u001b[0m\u001b[37m━\u001b[0m \u001b[1m0s\u001b[0m 17ms/step - loss: 0.0790model_rnn_bidirectional.keras\n",
            "\n",
            " mean perplexity: 7.351828156065892 \n",
            "\n",
            "Saved new model!\n",
            "\u001b[1m2928/2928\u001b[0m \u001b[32m━━━━━━━━━━━━━━━━━━━━\u001b[0m\u001b[37m\u001b[0m \u001b[1m74s\u001b[0m 25ms/step - loss: 0.0790\n",
            "Epoch 8/20\n",
            "\u001b[1m2927/2928\u001b[0m \u001b[32m━━━━━━━━━━━━━━━━━━━\u001b[0m\u001b[37m━\u001b[0m \u001b[1m0s\u001b[0m 17ms/step - loss: 0.0765model_rnn_bidirectional.keras\n",
            "\n",
            " mean perplexity: 7.226327331159149 \n",
            "\n",
            "Saved new model!\n",
            "\u001b[1m2928/2928\u001b[0m \u001b[32m━━━━━━━━━━━━━━━━━━━━\u001b[0m\u001b[37m\u001b[0m \u001b[1m73s\u001b[0m 25ms/step - loss: 0.0765\n",
            "Epoch 9/20\n",
            "\u001b[1m2926/2928\u001b[0m \u001b[32m━━━━━━━━━━━━━━━━━━━\u001b[0m\u001b[37m━\u001b[0m \u001b[1m0s\u001b[0m 17ms/step - loss: 0.0749model_rnn_bidirectional.keras\n",
            "\n",
            " mean perplexity: 7.156830383277282 \n",
            "\n",
            "Saved new model!\n",
            "\u001b[1m2928/2928\u001b[0m \u001b[32m━━━━━━━━━━━━━━━━━━━━\u001b[0m\u001b[37m\u001b[0m \u001b[1m73s\u001b[0m 25ms/step - loss: 0.0749\n",
            "Epoch 10/20\n",
            "\u001b[1m2927/2928\u001b[0m \u001b[32m━━━━━━━━━━━━━━━━━━━\u001b[0m\u001b[37m━\u001b[0m \u001b[1m0s\u001b[0m 17ms/step - loss: 0.0736model_rnn_bidirectional.keras\n",
            "\n",
            " mean perplexity: 7.038189483129513 \n",
            "\n",
            "Saved new model!\n",
            "\u001b[1m2928/2928\u001b[0m \u001b[32m━━━━━━━━━━━━━━━━━━━━\u001b[0m\u001b[37m\u001b[0m \u001b[1m73s\u001b[0m 25ms/step - loss: 0.0736\n",
            "Epoch 11/20\n",
            "\u001b[1m2926/2928\u001b[0m \u001b[32m━━━━━━━━━━━━━━━━━━━\u001b[0m\u001b[37m━\u001b[0m \u001b[1m0s\u001b[0m 17ms/step - loss: 0.0719model_rnn_bidirectional.keras\n",
            "\n",
            " mean perplexity: 6.952084058608852 \n",
            "\n",
            "Saved new model!\n",
            "\u001b[1m2928/2928\u001b[0m \u001b[32m━━━━━━━━━━━━━━━━━━━━\u001b[0m\u001b[37m\u001b[0m \u001b[1m73s\u001b[0m 25ms/step - loss: 0.0719\n",
            "Epoch 12/20\n",
            "\u001b[1m2926/2928\u001b[0m \u001b[32m━━━━━━━━━━━━━━━━━━━\u001b[0m\u001b[37m━\u001b[0m \u001b[1m0s\u001b[0m 17ms/step - loss: 0.0705model_rnn_bidirectional.keras\n",
            "\n",
            " mean perplexity: 6.922485056843846 \n",
            "\n",
            "Saved new model!\n",
            "\u001b[1m2928/2928\u001b[0m \u001b[32m━━━━━━━━━━━━━━━━━━━━\u001b[0m\u001b[37m\u001b[0m \u001b[1m73s\u001b[0m 25ms/step - loss: 0.0705\n",
            "Epoch 13/20\n",
            "\u001b[1m2926/2928\u001b[0m \u001b[32m━━━━━━━━━━━━━━━━━━━\u001b[0m\u001b[37m━\u001b[0m \u001b[1m0s\u001b[0m 17ms/step - loss: 0.0694model_rnn_bidirectional.keras\n",
            "\n",
            " mean perplexity: 6.871262186116996 \n",
            "\n",
            "Saved new model!\n",
            "\u001b[1m2928/2928\u001b[0m \u001b[32m━━━━━━━━━━━━━━━━━━━━\u001b[0m\u001b[37m\u001b[0m \u001b[1m73s\u001b[0m 25ms/step - loss: 0.0694\n",
            "Epoch 14/20\n",
            "\u001b[1m2926/2928\u001b[0m \u001b[32m━━━━━━━━━━━━━━━━━━━\u001b[0m\u001b[37m━\u001b[0m \u001b[1m0s\u001b[0m 17ms/step - loss: 0.0685model_rnn_bidirectional.keras\n",
            "\n",
            " mean perplexity: 6.829810979674729 \n",
            "\n",
            "Saved new model!\n",
            "\u001b[1m2928/2928\u001b[0m \u001b[32m━━━━━━━━━━━━━━━━━━━━\u001b[0m\u001b[37m\u001b[0m \u001b[1m73s\u001b[0m 25ms/step - loss: 0.0685\n",
            "Epoch 15/20\n",
            "\u001b[1m2927/2928\u001b[0m \u001b[32m━━━━━━━━━━━━━━━━━━━\u001b[0m\u001b[37m━\u001b[0m \u001b[1m0s\u001b[0m 17ms/step - loss: 0.0677model_rnn_bidirectional.keras\n",
            "\n",
            " mean perplexity: 6.784907843298002 \n",
            "\n",
            "Saved new model!\n",
            "\u001b[1m2928/2928\u001b[0m \u001b[32m━━━━━━━━━━━━━━━━━━━━\u001b[0m\u001b[37m\u001b[0m \u001b[1m73s\u001b[0m 25ms/step - loss: 0.0677\n",
            "Epoch 16/20\n",
            "\u001b[1m2926/2928\u001b[0m \u001b[32m━━━━━━━━━━━━━━━━━━━\u001b[0m\u001b[37m━\u001b[0m \u001b[1m0s\u001b[0m 17ms/step - loss: 0.0669model_rnn_bidirectional.keras\n",
            "\n",
            " mean perplexity: 6.875836742976852 \n",
            "\n",
            "\u001b[1m2928/2928\u001b[0m \u001b[32m━━━━━━━━━━━━━━━━━━━━\u001b[0m\u001b[37m\u001b[0m \u001b[1m73s\u001b[0m 25ms/step - loss: 0.0669\n",
            "Epoch 17/20\n",
            "\u001b[1m2928/2928\u001b[0m \u001b[32m━━━━━━━━━━━━━━━━━━━━\u001b[0m\u001b[37m\u001b[0m \u001b[1m0s\u001b[0m 17ms/step - loss: 0.0666model_rnn_bidirectional.keras\n",
            "\n",
            " mean perplexity: 6.75012645241661 \n",
            "\n",
            "Saved new model!\n",
            "\u001b[1m2928/2928\u001b[0m \u001b[32m━━━━━━━━━━━━━━━━━━━━\u001b[0m\u001b[37m\u001b[0m \u001b[1m73s\u001b[0m 25ms/step - loss: 0.0666\n",
            "Epoch 18/20\n",
            "\u001b[1m2926/2928\u001b[0m \u001b[32m━━━━━━━━━━━━━━━━━━━\u001b[0m\u001b[37m━\u001b[0m \u001b[1m0s\u001b[0m 17ms/step - loss: 0.0657model_rnn_bidirectional.keras\n",
            "\n",
            " mean perplexity: 6.740251178124602 \n",
            "\n",
            "Saved new model!\n",
            "\u001b[1m2928/2928\u001b[0m \u001b[32m━━━━━━━━━━━━━━━━━━━━\u001b[0m\u001b[37m\u001b[0m \u001b[1m73s\u001b[0m 25ms/step - loss: 0.0657\n",
            "Epoch 19/20\n",
            "\u001b[1m2927/2928\u001b[0m \u001b[32m━━━━━━━━━━━━━━━━━━━\u001b[0m\u001b[37m━\u001b[0m \u001b[1m0s\u001b[0m 17ms/step - loss: 0.0654model_rnn_bidirectional.keras\n",
            "\n",
            " mean perplexity: 6.730921590107912 \n",
            "\n",
            "Saved new model!\n",
            "\u001b[1m2928/2928\u001b[0m \u001b[32m━━━━━━━━━━━━━━━━━━━━\u001b[0m\u001b[37m\u001b[0m \u001b[1m73s\u001b[0m 25ms/step - loss: 0.0654\n",
            "Epoch 20/20\n",
            "\u001b[1m2927/2928\u001b[0m \u001b[32m━━━━━━━━━━━━━━━━━━━\u001b[0m\u001b[37m━\u001b[0m \u001b[1m0s\u001b[0m 17ms/step - loss: 0.0645model_rnn_bidirectional.keras\n",
            "\n",
            " mean perplexity: 6.641661593311866 \n",
            "\n",
            "Saved new model!\n",
            "\u001b[1m2928/2928\u001b[0m \u001b[32m━━━━━━━━━━━━━━━━━━━━\u001b[0m\u001b[37m\u001b[0m \u001b[1m73s\u001b[0m 25ms/step - loss: 0.0645\n"
          ]
        }
      ]
    },
    {
      "cell_type": "code",
      "source": [
        "import matplotlib.pyplot as plt\n",
        "import seaborn as sns\n",
        "\n",
        "# Entrenamiento\n",
        "epoch_count = range(1, len(history_ppl_rnn_bidirectional) + 1)\n",
        "sns.lineplot(x=epoch_count,  y=history_ppl_rnn_bidirectional)\n",
        "plt.show()"
      ],
      "metadata": {
        "colab": {
          "base_uri": "https://localhost:8080/",
          "height": 430
        },
        "id": "7ECLq3bQShJJ",
        "outputId": "7cb3b84f-18c0-43f5-fdf4-9267a9f97a17"
      },
      "execution_count": 124,
      "outputs": [
        {
          "output_type": "display_data",
          "data": {
            "text/plain": [
              "<Figure size 640x480 with 1 Axes>"
            ],
            "image/png": "[encoded data removed]"
          },
          "metadata": {}
        }
      ]
    },
    {
      "cell_type": "code",
      "source": [
        "model_rnn_bidirectional = keras.models.load_model('model_rnn_bidirectional.keras')\n",
        "salidas_bidirectional_gru = beam_search(model_rnn_bidirectional,num_beams=20,num_words=25,input=\"el aire caliente fulgia como\", temp=0.5, mode=\"det\")\n",
        "# veamos las salidas\n",
        "for d in salidas_bidirectional_gru:\n",
        "  print(decode(d))"
      ],
      "metadata": {
        "colab": {
          "base_uri": "https://localhost:8080/"
        },
        "id": "DSmjlEzdZWoX",
        "outputId": "19ff3885-9bf0-4832-aa86-e8129aa6d482"
      },
      "execution_count": 126,
      "outputs": [
        {
          "output_type": "stream",
          "name": "stdout",
          "text": [
            "0.5\n",
            "el aire caliente fulgia como para que la madona para \n",
            "el aire caliente fulgia como para que la madona de la\n",
            "el aire caliente fulgia como para que la madona, con \n",
            "el aire caliente fulgia como para que la madona los p\n",
            "el aire caliente fulgia como para que la madona con l\n",
            "el aire caliente fulgia como para que la madona con e\n",
            "el aire caliente fulgia como para que la madona los c\n",
            "el aire caliente fulgia como para que la madona a la \n",
            "el aire caliente fulgia como para que la madona, para\n",
            "el aire caliente fulgia como para que la madona los d\n",
            "el aire caliente fulgia como para que la madana los p\n",
            "el aire caliente fulgia como para que la madona con m\n",
            "el aire caliente fulgia como para que la madona los a\n",
            "el aire caliente fulgia como para que la madona por e\n",
            "el aire caliente fulgia como para que la madona la ca\n",
            "el aire caliente fulgia como para que la madona los b\n",
            "el aire caliente fulgia como para que la madona, como\n",
            "el aire caliente fulgia como para que la madona los m\n",
            "el aire caliente fulgia como para que la madona los s\n",
            "el aire caliente fulgia como para que la madona, cuan\n"
          ]
        }
      ]
    },
    {
      "cell_type": "markdown",
      "source": [
        "### Conclusiones\n",
        "\n",
        "Se realizó la prueba de 5 arquitecturas diferentes:\n",
        "\n",
        "- Single RNN\n",
        "- GRU\n",
        "- LSTM\n",
        "- BIDIRECTIONAL GRU\n",
        "- BIDIRECTIONAL SINGLE RNN\n",
        "\n",
        "Con los parámetros ajutados en:\n",
        "- número de beams: 20\n",
        "- número de words: 25\n",
        "- temperatura: 0.5\n",
        "- modo: determinista\n",
        "\n",
        "Se hizo las pruebas en modo estocástico pero no terminó de entrenar y de ejecutar las arquitecturas mas complejas que sobrepasaban mas de 50k parámetros tales como LSTM y las BIDIRECTIONALS.\n",
        "\n",
        "El corpus de prueba fue la Voráginey las sescuencias fueron:\n",
        "- input: \"el aire caliente fulgia como\"\n",
        "- target: \"el aire caliente fulgia como lamina\"\n",
        "\n",
        "\n",
        "La métrica de perplejidad estuvo entre 5.5 a 7.5 para todas las arquitecturas y la predicción no alcanzó el resultado esperado. Se logró notar que la secuencia que mas se observavá en el corpus en este caso \"Hombre\", \"madona\" predominaban en las predicciones.\n",
        "\n",
        "Se uso un optimizador de Adam pero el resultado estaba en en el mismo rango."
      ],
      "metadata": {
        "id": "J5rD1cwebImt"
      }
    }
  ],
  "metadata": {
    "accelerator": "GPU",
    "colab": {
      "gpuType": "A100",
      "provenance": [],
      "collapsed_sections": [
        "mCeMWWupxN1-"
      ],
      "machine_shape": "hm"
    },
    "kernelspec": {
      "display_name": "Python 3",
      "name": "python3"
    },
    "language_info": {
      "name": "python"
    }
  },
  "nbformat": 4,
  "nbformat_minor": 0
}